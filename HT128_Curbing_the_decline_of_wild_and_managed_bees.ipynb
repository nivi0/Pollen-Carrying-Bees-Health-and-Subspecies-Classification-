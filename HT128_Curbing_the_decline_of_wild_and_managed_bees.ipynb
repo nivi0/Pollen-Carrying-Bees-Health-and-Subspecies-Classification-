{
  "cells": [
    {
      "cell_type": "code",
      "execution_count": null,
      "metadata": {
        "id": "tbdW8NSoK-16"
      },
      "outputs": [],
      "source": [
        "## Can uncomment the below line if you want to delete a folder even it has content in it.\n",
        "# %rm -rf /content/bees_health"
      ]
    },
    {
      "cell_type": "markdown",
      "metadata": {
        "id": "O6f5taybAQkH"
      },
      "source": [
        "Importing Libraries"
      ]
    },
    {
      "cell_type": "code",
      "execution_count": null,
      "metadata": {
        "id": "bYb-vOV7Smnw"
      },
      "outputs": [],
      "source": [
        "import matplotlib.pyplot as plt # plotting\n",
        "import numpy as np # linear algebra\n",
        "import os # accessing directory structure\n",
        "import pandas as pd # data processing, CSV file I/O (e.g. pd.read_csv)\n",
        "import seaborn as sns"
      ]
    },
    {
      "cell_type": "markdown",
      "metadata": {
        "id": "pwDjEvcuAZYV"
      },
      "source": [
        "### Loading Data"
      ]
    },
    {
      "cell_type": "code",
      "execution_count": null,
      "metadata": {
        "colab": {
          "base_uri": "https://localhost:8080/"
        },
        "id": "cII2FgbIQ6ju",
        "outputId": "b614bf5f-082e-4101-ec39-199e63c8d225"
      },
      "outputs": [
        {
          "data": {
            "text/plain": [
              "['bee_data.csv',\n",
              " 'bee_imgs/bee_imgs/001_043.png',\n",
              " 'bee_imgs/bee_imgs/001_044.png',\n",
              " 'bee_imgs/bee_imgs/001_046.png',\n",
              " 'bee_imgs/bee_imgs/001_047.png',\n",
              " 'bee_imgs/bee_imgs/001_050.png',\n",
              " 'bee_imgs/bee_imgs/001_051.png',\n",
              " 'bee_imgs/bee_imgs/001_054.png',\n",
              " 'bee_imgs/bee_imgs/001_056.png',\n",
              " 'bee_imgs/bee_imgs/001_078.png',\n",
              " 'bee_imgs/bee_imgs/001_082.png',\n",
              " 'bee_imgs/bee_imgs/001_083.png',\n",
              " 'bee_imgs/bee_imgs/001_085.png',\n",
              " 'bee_imgs/bee_imgs/001_091.png',\n",
              " 'bee_imgs/bee_imgs/001_092.png',\n",
              " 'bee_imgs/bee_imgs/001_093.png',\n",
              " 'bee_imgs/bee_imgs/001_094.png',\n",
              " 'bee_imgs/bee_imgs/001_095.png',\n",
              " 'bee_imgs/bee_imgs/001_096.png',\n",
              " 'bee_imgs/bee_imgs/001_097.png',\n",
              " 'bee_imgs/bee_imgs/001_118.png',\n",
              " 'bee_imgs/bee_imgs/001_120.png',\n",
              " 'bee_imgs/bee_imgs/001_121.png',\n",
              " 'bee_imgs/bee_imgs/001_122.png',\n",
              " 'bee_imgs/bee_imgs/001_124.png',\n",
              " 'bee_imgs/bee_imgs/001_126.png',\n",
              " 'bee_imgs/bee_imgs/001_127.png',\n",
              " 'bee_imgs/bee_imgs/001_131.png',\n",
              " 'bee_imgs/bee_imgs/001_132.png',\n",
              " 'bee_imgs/bee_imgs/001_133.png',\n",
              " 'bee_imgs/bee_imgs/001_134.png',\n",
              " 'bee_imgs/bee_imgs/001_135.png',\n",
              " 'bee_imgs/bee_imgs/001_138.png',\n",
              " 'bee_imgs/bee_imgs/001_140.png',\n",
              " 'bee_imgs/bee_imgs/001_144.png',\n",
              " 'bee_imgs/bee_imgs/001_145.png',\n",
              " 'bee_imgs/bee_imgs/001_147.png',\n",
              " 'bee_imgs/bee_imgs/001_149.png',\n",
              " 'bee_imgs/bee_imgs/001_151.png',\n",
              " 'bee_imgs/bee_imgs/001_152.png',\n",
              " 'bee_imgs/bee_imgs/001_156.png',\n",
              " 'bee_imgs/bee_imgs/001_159.png',\n",
              " 'bee_imgs/bee_imgs/001_160.png',\n",
              " 'bee_imgs/bee_imgs/001_163.png',\n",
              " 'bee_imgs/bee_imgs/001_164.png',\n",
              " 'bee_imgs/bee_imgs/001_167.png',\n",
              " 'bee_imgs/bee_imgs/001_168.png',\n",
              " 'bee_imgs/bee_imgs/001_169.png',\n",
              " 'bee_imgs/bee_imgs/001_171.png',\n",
              " 'bee_imgs/bee_imgs/001_172.png',\n",
              " 'bee_imgs/bee_imgs/001_173.png',\n",
              " 'bee_imgs/bee_imgs/002_022.png',\n",
              " 'bee_imgs/bee_imgs/002_023.png',\n",
              " 'bee_imgs/bee_imgs/002_024.png',\n",
              " 'bee_imgs/bee_imgs/002_026.png',\n",
              " 'bee_imgs/bee_imgs/002_030.png',\n",
              " 'bee_imgs/bee_imgs/002_031.png',\n",
              " 'bee_imgs/bee_imgs/002_033.png',\n",
              " 'bee_imgs/bee_imgs/002_034.png',\n",
              " 'bee_imgs/bee_imgs/002_035.png',\n",
              " 'bee_imgs/bee_imgs/002_037.png',\n",
              " 'bee_imgs/bee_imgs/002_044.png',\n",
              " 'bee_imgs/bee_imgs/002_046.png',\n",
              " 'bee_imgs/bee_imgs/002_051.png',\n",
              " 'bee_imgs/bee_imgs/002_053.png',\n",
              " 'bee_imgs/bee_imgs/002_054.png',\n",
              " 'bee_imgs/bee_imgs/002_055.png',\n",
              " 'bee_imgs/bee_imgs/002_072.png',\n",
              " 'bee_imgs/bee_imgs/002_073.png',\n",
              " 'bee_imgs/bee_imgs/002_078.png',\n",
              " 'bee_imgs/bee_imgs/002_079.png',\n",
              " 'bee_imgs/bee_imgs/002_080.png',\n",
              " 'bee_imgs/bee_imgs/002_081.png',\n",
              " 'bee_imgs/bee_imgs/002_082.png',\n",
              " 'bee_imgs/bee_imgs/002_086.png',\n",
              " 'bee_imgs/bee_imgs/002_087.png',\n",
              " 'bee_imgs/bee_imgs/002_092.png',\n",
              " 'bee_imgs/bee_imgs/002_094.png',\n",
              " 'bee_imgs/bee_imgs/002_097.png',\n",
              " 'bee_imgs/bee_imgs/002_099.png',\n",
              " 'bee_imgs/bee_imgs/002_100.png',\n",
              " 'bee_imgs/bee_imgs/002_101.png',\n",
              " 'bee_imgs/bee_imgs/002_103.png',\n",
              " 'bee_imgs/bee_imgs/002_104.png',\n",
              " 'bee_imgs/bee_imgs/002_107.png',\n",
              " 'bee_imgs/bee_imgs/002_108.png',\n",
              " 'bee_imgs/bee_imgs/002_109.png',\n",
              " 'bee_imgs/bee_imgs/002_110.png',\n",
              " 'bee_imgs/bee_imgs/002_112.png',\n",
              " 'bee_imgs/bee_imgs/002_114.png',\n",
              " 'bee_imgs/bee_imgs/002_115.png',\n",
              " 'bee_imgs/bee_imgs/002_123.png',\n",
              " 'bee_imgs/bee_imgs/002_124.png',\n",
              " 'bee_imgs/bee_imgs/003_009.png',\n",
              " 'bee_imgs/bee_imgs/003_020.png',\n",
              " 'bee_imgs/bee_imgs/003_021.png',\n",
              " 'bee_imgs/bee_imgs/003_034.png',\n",
              " 'bee_imgs/bee_imgs/003_035.png',\n",
              " 'bee_imgs/bee_imgs/003_036.png',\n",
              " 'bee_imgs/bee_imgs/003_037.png',\n",
              " 'bee_imgs/bee_imgs/003_081.png',\n",
              " 'bee_imgs/bee_imgs/003_094.png',\n",
              " 'bee_imgs/bee_imgs/003_095.png',\n",
              " 'bee_imgs/bee_imgs/003_109.png',\n",
              " 'bee_imgs/bee_imgs/003_120.png',\n",
              " 'bee_imgs/bee_imgs/003_121.png',\n",
              " 'bee_imgs/bee_imgs/003_122.png',\n",
              " 'bee_imgs/bee_imgs/003_123.png',\n",
              " 'bee_imgs/bee_imgs/003_124.png',\n",
              " 'bee_imgs/bee_imgs/003_130.png',\n",
              " 'bee_imgs/bee_imgs/003_134.png',\n",
              " 'bee_imgs/bee_imgs/003_135.png',\n",
              " 'bee_imgs/bee_imgs/003_136.png',\n",
              " 'bee_imgs/bee_imgs/003_137.png',\n",
              " 'bee_imgs/bee_imgs/003_141.png',\n",
              " 'bee_imgs/bee_imgs/003_143.png',\n",
              " 'bee_imgs/bee_imgs/003_144.png',\n",
              " 'bee_imgs/bee_imgs/003_145.png',\n",
              " 'bee_imgs/bee_imgs/003_146.png',\n",
              " 'bee_imgs/bee_imgs/003_147.png',\n",
              " 'bee_imgs/bee_imgs/003_151.png',\n",
              " 'bee_imgs/bee_imgs/003_152.png',\n",
              " 'bee_imgs/bee_imgs/003_153.png',\n",
              " 'bee_imgs/bee_imgs/003_154.png',\n",
              " 'bee_imgs/bee_imgs/003_155.png',\n",
              " 'bee_imgs/bee_imgs/003_156.png',\n",
              " 'bee_imgs/bee_imgs/003_157.png',\n",
              " 'bee_imgs/bee_imgs/003_169.png',\n",
              " 'bee_imgs/bee_imgs/003_178.png',\n",
              " 'bee_imgs/bee_imgs/003_179.png',\n",
              " 'bee_imgs/bee_imgs/003_180.png',\n",
              " 'bee_imgs/bee_imgs/003_181.png',\n",
              " 'bee_imgs/bee_imgs/003_182.png',\n",
              " 'bee_imgs/bee_imgs/003_183.png',\n",
              " 'bee_imgs/bee_imgs/003_184.png',\n",
              " 'bee_imgs/bee_imgs/003_185.png',\n",
              " 'bee_imgs/bee_imgs/003_186.png',\n",
              " 'bee_imgs/bee_imgs/003_187.png',\n",
              " 'bee_imgs/bee_imgs/003_190.png',\n",
              " 'bee_imgs/bee_imgs/003_191.png',\n",
              " 'bee_imgs/bee_imgs/003_192.png',\n",
              " 'bee_imgs/bee_imgs/003_193.png',\n",
              " 'bee_imgs/bee_imgs/003_194.png',\n",
              " 'bee_imgs/bee_imgs/003_195.png',\n",
              " 'bee_imgs/bee_imgs/003_196.png',\n",
              " 'bee_imgs/bee_imgs/003_197.png',\n",
              " 'bee_imgs/bee_imgs/003_208.png',\n",
              " 'bee_imgs/bee_imgs/003_209.png',\n",
              " 'bee_imgs/bee_imgs/003_218.png',\n",
              " 'bee_imgs/bee_imgs/003_220.png',\n",
              " 'bee_imgs/bee_imgs/003_221.png',\n",
              " 'bee_imgs/bee_imgs/003_222.png',\n",
              " 'bee_imgs/bee_imgs/003_223.png',\n",
              " 'bee_imgs/bee_imgs/003_225.png',\n",
              " 'bee_imgs/bee_imgs/003_227.png',\n",
              " 'bee_imgs/bee_imgs/003_230.png',\n",
              " 'bee_imgs/bee_imgs/003_231.png',\n",
              " 'bee_imgs/bee_imgs/003_232.png',\n",
              " 'bee_imgs/bee_imgs/003_233.png',\n",
              " 'bee_imgs/bee_imgs/003_234.png',\n",
              " 'bee_imgs/bee_imgs/003_235.png',\n",
              " 'bee_imgs/bee_imgs/003_236.png',\n",
              " 'bee_imgs/bee_imgs/003_237.png',\n",
              " 'bee_imgs/bee_imgs/003_240.png',\n",
              " 'bee_imgs/bee_imgs/003_241.png',\n",
              " 'bee_imgs/bee_imgs/003_242.png',\n",
              " 'bee_imgs/bee_imgs/003_243.png',\n",
              " 'bee_imgs/bee_imgs/003_244.png',\n",
              " 'bee_imgs/bee_imgs/003_245.png',\n",
              " 'bee_imgs/bee_imgs/003_246.png',\n",
              " 'bee_imgs/bee_imgs/003_247.png',\n",
              " 'bee_imgs/bee_imgs/003_248.png',\n",
              " 'bee_imgs/bee_imgs/003_249.png',\n",
              " 'bee_imgs/bee_imgs/003_250.png',\n",
              " 'bee_imgs/bee_imgs/003_251.png',\n",
              " 'bee_imgs/bee_imgs/003_252.png',\n",
              " 'bee_imgs/bee_imgs/003_253.png',\n",
              " 'bee_imgs/bee_imgs/003_254.png',\n",
              " 'bee_imgs/bee_imgs/003_255.png',\n",
              " 'bee_imgs/bee_imgs/003_256.png',\n",
              " 'bee_imgs/bee_imgs/003_257.png',\n",
              " 'bee_imgs/bee_imgs/003_258.png',\n",
              " 'bee_imgs/bee_imgs/003_259.png',\n",
              " 'bee_imgs/bee_imgs/003_260.png',\n",
              " 'bee_imgs/bee_imgs/003_261.png',\n",
              " 'bee_imgs/bee_imgs/003_262.png',\n",
              " 'bee_imgs/bee_imgs/003_263.png',\n",
              " 'bee_imgs/bee_imgs/003_264.png',\n",
              " 'bee_imgs/bee_imgs/003_265.png',\n",
              " 'bee_imgs/bee_imgs/003_266.png',\n",
              " 'bee_imgs/bee_imgs/003_267.png',\n",
              " 'bee_imgs/bee_imgs/003_268.png',\n",
              " 'bee_imgs/bee_imgs/003_269.png',\n",
              " 'bee_imgs/bee_imgs/003_270.png',\n",
              " 'bee_imgs/bee_imgs/003_271.png',\n",
              " 'bee_imgs/bee_imgs/003_272.png',\n",
              " 'bee_imgs/bee_imgs/003_273.png',\n",
              " 'bee_imgs/bee_imgs/003_274.png',\n",
              " 'bee_imgs/bee_imgs/003_275.png',\n",
              " 'bee_imgs/bee_imgs/003_276.png',\n",
              " 'bee_imgs/bee_imgs/003_277.png',\n",
              " 'bee_imgs/bee_imgs/003_278.png',\n",
              " 'bee_imgs/bee_imgs/003_279.png',\n",
              " 'bee_imgs/bee_imgs/003_280.png',\n",
              " 'bee_imgs/bee_imgs/003_281.png',\n",
              " 'bee_imgs/bee_imgs/003_282.png',\n",
              " 'bee_imgs/bee_imgs/003_283.png',\n",
              " 'bee_imgs/bee_imgs/004_048.png',\n",
              " 'bee_imgs/bee_imgs/004_049.png',\n",
              " 'bee_imgs/bee_imgs/004_060.png',\n",
              " 'bee_imgs/bee_imgs/004_061.png',\n",
              " 'bee_imgs/bee_imgs/004_063.png',\n",
              " 'bee_imgs/bee_imgs/004_067.png',\n",
              " 'bee_imgs/bee_imgs/004_072.png',\n",
              " 'bee_imgs/bee_imgs/004_073.png',\n",
              " 'bee_imgs/bee_imgs/004_074.png',\n",
              " 'bee_imgs/bee_imgs/004_075.png',\n",
              " 'bee_imgs/bee_imgs/004_076.png',\n",
              " 'bee_imgs/bee_imgs/004_077.png',\n",
              " 'bee_imgs/bee_imgs/004_088.png',\n",
              " 'bee_imgs/bee_imgs/004_089.png',\n",
              " 'bee_imgs/bee_imgs/004_098.png',\n",
              " 'bee_imgs/bee_imgs/004_099.png',\n",
              " 'bee_imgs/bee_imgs/004_100.png',\n",
              " 'bee_imgs/bee_imgs/004_101.png',\n",
              " 'bee_imgs/bee_imgs/004_102.png',\n",
              " 'bee_imgs/bee_imgs/004_103.png',\n",
              " 'bee_imgs/bee_imgs/004_104.png',\n",
              " 'bee_imgs/bee_imgs/004_106.png',\n",
              " 'bee_imgs/bee_imgs/004_107.png',\n",
              " 'bee_imgs/bee_imgs/004_110.png',\n",
              " 'bee_imgs/bee_imgs/004_111.png',\n",
              " 'bee_imgs/bee_imgs/004_112.png',\n",
              " 'bee_imgs/bee_imgs/004_113.png',\n",
              " 'bee_imgs/bee_imgs/004_114.png',\n",
              " 'bee_imgs/bee_imgs/004_115.png',\n",
              " 'bee_imgs/bee_imgs/004_116.png',\n",
              " 'bee_imgs/bee_imgs/004_117.png',\n",
              " 'bee_imgs/bee_imgs/004_128.png',\n",
              " 'bee_imgs/bee_imgs/004_129.png',\n",
              " 'bee_imgs/bee_imgs/004_138.png',\n",
              " 'bee_imgs/bee_imgs/004_139.png',\n",
              " 'bee_imgs/bee_imgs/004_160.png',\n",
              " 'bee_imgs/bee_imgs/004_161.png',\n",
              " 'bee_imgs/bee_imgs/004_162.png',\n",
              " 'bee_imgs/bee_imgs/004_163.png',\n",
              " 'bee_imgs/bee_imgs/004_164.png',\n",
              " 'bee_imgs/bee_imgs/004_170.png',\n",
              " 'bee_imgs/bee_imgs/004_174.png',\n",
              " 'bee_imgs/bee_imgs/004_175.png',\n",
              " 'bee_imgs/bee_imgs/004_176.png',\n",
              " 'bee_imgs/bee_imgs/004_177.png',\n",
              " 'bee_imgs/bee_imgs/004_188.png',\n",
              " 'bee_imgs/bee_imgs/004_189.png',\n",
              " 'bee_imgs/bee_imgs/004_198.png',\n",
              " 'bee_imgs/bee_imgs/004_200.png',\n",
              " 'bee_imgs/bee_imgs/004_201.png',\n",
              " 'bee_imgs/bee_imgs/004_202.png',\n",
              " 'bee_imgs/bee_imgs/004_203.png',\n",
              " 'bee_imgs/bee_imgs/004_205.png',\n",
              " 'bee_imgs/bee_imgs/004_206.png',\n",
              " 'bee_imgs/bee_imgs/004_207.png',\n",
              " 'bee_imgs/bee_imgs/004_211.png',\n",
              " 'bee_imgs/bee_imgs/004_212.png',\n",
              " 'bee_imgs/bee_imgs/004_213.png',\n",
              " 'bee_imgs/bee_imgs/004_214.png',\n",
              " 'bee_imgs/bee_imgs/004_215.png',\n",
              " 'bee_imgs/bee_imgs/004_216.png',\n",
              " 'bee_imgs/bee_imgs/004_217.png',\n",
              " 'bee_imgs/bee_imgs/004_228.png',\n",
              " 'bee_imgs/bee_imgs/004_229.png',\n",
              " 'bee_imgs/bee_imgs/004_235.png',\n",
              " 'bee_imgs/bee_imgs/004_238.png',\n",
              " 'bee_imgs/bee_imgs/004_239.png',\n",
              " 'bee_imgs/bee_imgs/004_249.png',\n",
              " 'bee_imgs/bee_imgs/004_258.png',\n",
              " 'bee_imgs/bee_imgs/004_259.png',\n",
              " 'bee_imgs/bee_imgs/004_260.png',\n",
              " 'bee_imgs/bee_imgs/004_261.png',\n",
              " 'bee_imgs/bee_imgs/004_262.png',\n",
              " 'bee_imgs/bee_imgs/004_263.png',\n",
              " 'bee_imgs/bee_imgs/004_264.png',\n",
              " 'bee_imgs/bee_imgs/004_265.png',\n",
              " 'bee_imgs/bee_imgs/004_266.png',\n",
              " 'bee_imgs/bee_imgs/004_267.png',\n",
              " 'bee_imgs/bee_imgs/004_270.png',\n",
              " 'bee_imgs/bee_imgs/004_272.png',\n",
              " 'bee_imgs/bee_imgs/004_273.png',\n",
              " 'bee_imgs/bee_imgs/004_274.png',\n",
              " 'bee_imgs/bee_imgs/004_275.png',\n",
              " 'bee_imgs/bee_imgs/004_276.png',\n",
              " 'bee_imgs/bee_imgs/004_277.png',\n",
              " 'bee_imgs/bee_imgs/004_288.png',\n",
              " 'bee_imgs/bee_imgs/004_289.png',\n",
              " 'bee_imgs/bee_imgs/004_298.png',\n",
              " 'bee_imgs/bee_imgs/004_299.png',\n",
              " 'bee_imgs/bee_imgs/004_300.png',\n",
              " 'bee_imgs/bee_imgs/004_301.png',\n",
              " 'bee_imgs/bee_imgs/004_302.png',\n",
              " 'bee_imgs/bee_imgs/004_303.png',\n",
              " 'bee_imgs/bee_imgs/004_304.png',\n",
              " 'bee_imgs/bee_imgs/004_305.png',\n",
              " 'bee_imgs/bee_imgs/004_306.png',\n",
              " 'bee_imgs/bee_imgs/004_307.png',\n",
              " 'bee_imgs/bee_imgs/004_310.png',\n",
              " 'bee_imgs/bee_imgs/004_311.png',\n",
              " 'bee_imgs/bee_imgs/004_312.png',\n",
              " 'bee_imgs/bee_imgs/004_313.png',\n",
              " 'bee_imgs/bee_imgs/004_314.png',\n",
              " 'bee_imgs/bee_imgs/004_315.png',\n",
              " 'bee_imgs/bee_imgs/004_316.png',\n",
              " 'bee_imgs/bee_imgs/004_317.png',\n",
              " 'bee_imgs/bee_imgs/004_328.png',\n",
              " 'bee_imgs/bee_imgs/004_329.png',\n",
              " 'bee_imgs/bee_imgs/004_338.png',\n",
              " 'bee_imgs/bee_imgs/004_339.png',\n",
              " 'bee_imgs/bee_imgs/004_340.png',\n",
              " 'bee_imgs/bee_imgs/004_341.png',\n",
              " 'bee_imgs/bee_imgs/004_342.png',\n",
              " 'bee_imgs/bee_imgs/004_343.png',\n",
              " 'bee_imgs/bee_imgs/004_344.png',\n",
              " 'bee_imgs/bee_imgs/004_345.png',\n",
              " 'bee_imgs/bee_imgs/004_346.png',\n",
              " 'bee_imgs/bee_imgs/004_347.png',\n",
              " 'bee_imgs/bee_imgs/004_348.png',\n",
              " 'bee_imgs/bee_imgs/004_349.png',\n",
              " 'bee_imgs/bee_imgs/004_350.png',\n",
              " 'bee_imgs/bee_imgs/004_351.png',\n",
              " 'bee_imgs/bee_imgs/004_352.png',\n",
              " 'bee_imgs/bee_imgs/004_353.png',\n",
              " 'bee_imgs/bee_imgs/004_354.png',\n",
              " 'bee_imgs/bee_imgs/004_355.png',\n",
              " 'bee_imgs/bee_imgs/004_356.png',\n",
              " 'bee_imgs/bee_imgs/004_357.png',\n",
              " 'bee_imgs/bee_imgs/004_358.png',\n",
              " 'bee_imgs/bee_imgs/004_359.png',\n",
              " 'bee_imgs/bee_imgs/004_360.png',\n",
              " 'bee_imgs/bee_imgs/004_361.png',\n",
              " 'bee_imgs/bee_imgs/004_362.png',\n",
              " 'bee_imgs/bee_imgs/004_363.png',\n",
              " 'bee_imgs/bee_imgs/004_364.png',\n",
              " 'bee_imgs/bee_imgs/004_365.png',\n",
              " 'bee_imgs/bee_imgs/004_366.png',\n",
              " 'bee_imgs/bee_imgs/004_367.png',\n",
              " 'bee_imgs/bee_imgs/004_368.png',\n",
              " 'bee_imgs/bee_imgs/004_369.png',\n",
              " 'bee_imgs/bee_imgs/004_370.png',\n",
              " 'bee_imgs/bee_imgs/004_371.png',\n",
              " 'bee_imgs/bee_imgs/004_372.png',\n",
              " 'bee_imgs/bee_imgs/004_373.png',\n",
              " 'bee_imgs/bee_imgs/004_374.png',\n",
              " 'bee_imgs/bee_imgs/004_375.png',\n",
              " 'bee_imgs/bee_imgs/004_376.png',\n",
              " 'bee_imgs/bee_imgs/004_377.png',\n",
              " 'bee_imgs/bee_imgs/004_378.png',\n",
              " 'bee_imgs/bee_imgs/004_379.png',\n",
              " 'bee_imgs/bee_imgs/004_380.png',\n",
              " 'bee_imgs/bee_imgs/004_381.png',\n",
              " 'bee_imgs/bee_imgs/004_382.png',\n",
              " 'bee_imgs/bee_imgs/004_383.png',\n",
              " 'bee_imgs/bee_imgs/004_384.png',\n",
              " 'bee_imgs/bee_imgs/004_385.png',\n",
              " 'bee_imgs/bee_imgs/004_386.png',\n",
              " 'bee_imgs/bee_imgs/004_387.png',\n",
              " 'bee_imgs/bee_imgs/004_388.png',\n",
              " 'bee_imgs/bee_imgs/004_389.png',\n",
              " 'bee_imgs/bee_imgs/004_390.png',\n",
              " 'bee_imgs/bee_imgs/004_391.png',\n",
              " 'bee_imgs/bee_imgs/004_392.png',\n",
              " 'bee_imgs/bee_imgs/004_393.png',\n",
              " 'bee_imgs/bee_imgs/004_394.png',\n",
              " 'bee_imgs/bee_imgs/004_395.png',\n",
              " 'bee_imgs/bee_imgs/004_396.png',\n",
              " 'bee_imgs/bee_imgs/004_397.png',\n",
              " 'bee_imgs/bee_imgs/004_398.png',\n",
              " 'bee_imgs/bee_imgs/004_399.png',\n",
              " 'bee_imgs/bee_imgs/004_400.png',\n",
              " 'bee_imgs/bee_imgs/004_401.png',\n",
              " 'bee_imgs/bee_imgs/004_402.png',\n",
              " 'bee_imgs/bee_imgs/004_403.png',\n",
              " 'bee_imgs/bee_imgs/004_404.png',\n",
              " 'bee_imgs/bee_imgs/004_406.png',\n",
              " 'bee_imgs/bee_imgs/004_407.png',\n",
              " 'bee_imgs/bee_imgs/004_408.png',\n",
              " 'bee_imgs/bee_imgs/004_409.png',\n",
              " 'bee_imgs/bee_imgs/004_410.png',\n",
              " 'bee_imgs/bee_imgs/004_411.png',\n",
              " 'bee_imgs/bee_imgs/004_412.png',\n",
              " 'bee_imgs/bee_imgs/004_413.png',\n",
              " 'bee_imgs/bee_imgs/004_414.png',\n",
              " 'bee_imgs/bee_imgs/004_415.png',\n",
              " 'bee_imgs/bee_imgs/004_416.png',\n",
              " 'bee_imgs/bee_imgs/004_417.png',\n",
              " 'bee_imgs/bee_imgs/004_418.png',\n",
              " 'bee_imgs/bee_imgs/004_419.png',\n",
              " 'bee_imgs/bee_imgs/004_420.png',\n",
              " 'bee_imgs/bee_imgs/004_421.png',\n",
              " 'bee_imgs/bee_imgs/004_422.png',\n",
              " 'bee_imgs/bee_imgs/004_423.png',\n",
              " 'bee_imgs/bee_imgs/004_424.png',\n",
              " 'bee_imgs/bee_imgs/004_425.png',\n",
              " 'bee_imgs/bee_imgs/004_426.png',\n",
              " 'bee_imgs/bee_imgs/004_427.png',\n",
              " 'bee_imgs/bee_imgs/004_428.png',\n",
              " 'bee_imgs/bee_imgs/004_429.png',\n",
              " 'bee_imgs/bee_imgs/004_430.png',\n",
              " 'bee_imgs/bee_imgs/004_431.png',\n",
              " 'bee_imgs/bee_imgs/004_432.png',\n",
              " 'bee_imgs/bee_imgs/004_433.png',\n",
              " 'bee_imgs/bee_imgs/004_435.png',\n",
              " 'bee_imgs/bee_imgs/004_436.png',\n",
              " 'bee_imgs/bee_imgs/004_437.png',\n",
              " 'bee_imgs/bee_imgs/004_438.png',\n",
              " 'bee_imgs/bee_imgs/004_439.png',\n",
              " 'bee_imgs/bee_imgs/004_442.png',\n",
              " 'bee_imgs/bee_imgs/004_444.png',\n",
              " 'bee_imgs/bee_imgs/004_445.png',\n",
              " 'bee_imgs/bee_imgs/004_446.png',\n",
              " 'bee_imgs/bee_imgs/004_447.png',\n",
              " 'bee_imgs/bee_imgs/004_448.png',\n",
              " 'bee_imgs/bee_imgs/004_449.png',\n",
              " 'bee_imgs/bee_imgs/004_450.png',\n",
              " 'bee_imgs/bee_imgs/004_451.png',\n",
              " 'bee_imgs/bee_imgs/004_452.png',\n",
              " 'bee_imgs/bee_imgs/004_453.png',\n",
              " 'bee_imgs/bee_imgs/004_456.png',\n",
              " 'bee_imgs/bee_imgs/004_457.png',\n",
              " 'bee_imgs/bee_imgs/004_458.png',\n",
              " 'bee_imgs/bee_imgs/004_459.png',\n",
              " 'bee_imgs/bee_imgs/004_460.png',\n",
              " 'bee_imgs/bee_imgs/004_461.png',\n",
              " 'bee_imgs/bee_imgs/004_462.png',\n",
              " 'bee_imgs/bee_imgs/004_463.png',\n",
              " 'bee_imgs/bee_imgs/004_464.png',\n",
              " 'bee_imgs/bee_imgs/004_465.png',\n",
              " 'bee_imgs/bee_imgs/004_466.png',\n",
              " 'bee_imgs/bee_imgs/004_467.png',\n",
              " 'bee_imgs/bee_imgs/004_469.png',\n",
              " 'bee_imgs/bee_imgs/004_470.png',\n",
              " 'bee_imgs/bee_imgs/004_471.png',\n",
              " 'bee_imgs/bee_imgs/004_472.png',\n",
              " 'bee_imgs/bee_imgs/004_473.png',\n",
              " 'bee_imgs/bee_imgs/004_474.png',\n",
              " 'bee_imgs/bee_imgs/004_475.png',\n",
              " 'bee_imgs/bee_imgs/004_476.png',\n",
              " 'bee_imgs/bee_imgs/004_477.png',\n",
              " 'bee_imgs/bee_imgs/004_478.png',\n",
              " 'bee_imgs/bee_imgs/004_479.png',\n",
              " 'bee_imgs/bee_imgs/004_480.png',\n",
              " 'bee_imgs/bee_imgs/004_481.png',\n",
              " 'bee_imgs/bee_imgs/004_482.png',\n",
              " 'bee_imgs/bee_imgs/004_484.png',\n",
              " 'bee_imgs/bee_imgs/004_485.png',\n",
              " 'bee_imgs/bee_imgs/004_486.png',\n",
              " 'bee_imgs/bee_imgs/004_487.png',\n",
              " 'bee_imgs/bee_imgs/005_058.png',\n",
              " 'bee_imgs/bee_imgs/005_059.png',\n",
              " 'bee_imgs/bee_imgs/005_064.png',\n",
              " 'bee_imgs/bee_imgs/005_065.png',\n",
              " 'bee_imgs/bee_imgs/005_066.png',\n",
              " 'bee_imgs/bee_imgs/005_067.png',\n",
              " 'bee_imgs/bee_imgs/005_070.png',\n",
              " 'bee_imgs/bee_imgs/005_071.png',\n",
              " 'bee_imgs/bee_imgs/005_072.png',\n",
              " 'bee_imgs/bee_imgs/005_073.png',\n",
              " 'bee_imgs/bee_imgs/005_076.png',\n",
              " 'bee_imgs/bee_imgs/005_089.png',\n",
              " 'bee_imgs/bee_imgs/005_098.png',\n",
              " 'bee_imgs/bee_imgs/005_099.png',\n",
              " 'bee_imgs/bee_imgs/005_102.png',\n",
              " 'bee_imgs/bee_imgs/005_103.png',\n",
              " 'bee_imgs/bee_imgs/005_104.png',\n",
              " 'bee_imgs/bee_imgs/005_105.png',\n",
              " 'bee_imgs/bee_imgs/005_106.png',\n",
              " 'bee_imgs/bee_imgs/005_107.png',\n",
              " 'bee_imgs/bee_imgs/005_110.png',\n",
              " 'bee_imgs/bee_imgs/005_111.png',\n",
              " 'bee_imgs/bee_imgs/005_112.png',\n",
              " 'bee_imgs/bee_imgs/005_113.png',\n",
              " 'bee_imgs/bee_imgs/005_115.png',\n",
              " 'bee_imgs/bee_imgs/005_116.png',\n",
              " 'bee_imgs/bee_imgs/005_117.png',\n",
              " 'bee_imgs/bee_imgs/005_128.png',\n",
              " 'bee_imgs/bee_imgs/005_129.png',\n",
              " 'bee_imgs/bee_imgs/005_138.png',\n",
              " 'bee_imgs/bee_imgs/005_139.png',\n",
              " 'bee_imgs/bee_imgs/005_166.png',\n",
              " 'bee_imgs/bee_imgs/005_167.png',\n",
              " 'bee_imgs/bee_imgs/005_173.png',\n",
              " 'bee_imgs/bee_imgs/005_198.png',\n",
              " 'bee_imgs/bee_imgs/005_199.png',\n",
              " 'bee_imgs/bee_imgs/005_204.png',\n",
              " 'bee_imgs/bee_imgs/005_205.png',\n",
              " 'bee_imgs/bee_imgs/005_206.png',\n",
              " 'bee_imgs/bee_imgs/005_207.png',\n",
              " 'bee_imgs/bee_imgs/005_210.png',\n",
              " 'bee_imgs/bee_imgs/005_211.png',\n",
              " 'bee_imgs/bee_imgs/005_212.png',\n",
              " 'bee_imgs/bee_imgs/005_213.png',\n",
              " 'bee_imgs/bee_imgs/005_238.png',\n",
              " 'bee_imgs/bee_imgs/005_239.png',\n",
              " 'bee_imgs/bee_imgs/005_248.png',\n",
              " 'bee_imgs/bee_imgs/005_249.png',\n",
              " 'bee_imgs/bee_imgs/005_258.png',\n",
              " 'bee_imgs/bee_imgs/005_259.png',\n",
              " 'bee_imgs/bee_imgs/005_260.png',\n",
              " 'bee_imgs/bee_imgs/005_261.png',\n",
              " 'bee_imgs/bee_imgs/005_262.png',\n",
              " 'bee_imgs/bee_imgs/005_263.png',\n",
              " 'bee_imgs/bee_imgs/005_264.png',\n",
              " 'bee_imgs/bee_imgs/005_265.png',\n",
              " 'bee_imgs/bee_imgs/005_266.png',\n",
              " 'bee_imgs/bee_imgs/005_270.png',\n",
              " 'bee_imgs/bee_imgs/005_271.png',\n",
              " 'bee_imgs/bee_imgs/005_272.png',\n",
              " 'bee_imgs/bee_imgs/005_273.png',\n",
              " 'bee_imgs/bee_imgs/005_274.png',\n",
              " 'bee_imgs/bee_imgs/005_275.png',\n",
              " 'bee_imgs/bee_imgs/005_276.png',\n",
              " 'bee_imgs/bee_imgs/005_277.png',\n",
              " 'bee_imgs/bee_imgs/005_288.png',\n",
              " 'bee_imgs/bee_imgs/005_289.png',\n",
              " 'bee_imgs/bee_imgs/005_298.png',\n",
              " 'bee_imgs/bee_imgs/005_299.png',\n",
              " 'bee_imgs/bee_imgs/005_300.png',\n",
              " 'bee_imgs/bee_imgs/005_301.png',\n",
              " 'bee_imgs/bee_imgs/005_302.png',\n",
              " 'bee_imgs/bee_imgs/005_303.png',\n",
              " 'bee_imgs/bee_imgs/005_304.png',\n",
              " 'bee_imgs/bee_imgs/005_305.png',\n",
              " 'bee_imgs/bee_imgs/005_306.png',\n",
              " 'bee_imgs/bee_imgs/005_307.png',\n",
              " 'bee_imgs/bee_imgs/005_310.png',\n",
              " 'bee_imgs/bee_imgs/005_311.png',\n",
              " 'bee_imgs/bee_imgs/005_312.png',\n",
              " 'bee_imgs/bee_imgs/005_313.png',\n",
              " 'bee_imgs/bee_imgs/005_314.png',\n",
              " 'bee_imgs/bee_imgs/005_315.png',\n",
              " 'bee_imgs/bee_imgs/005_316.png',\n",
              " 'bee_imgs/bee_imgs/005_317.png',\n",
              " 'bee_imgs/bee_imgs/005_328.png',\n",
              " 'bee_imgs/bee_imgs/005_329.png',\n",
              " 'bee_imgs/bee_imgs/005_338.png',\n",
              " 'bee_imgs/bee_imgs/005_339.png',\n",
              " 'bee_imgs/bee_imgs/005_345.png',\n",
              " 'bee_imgs/bee_imgs/005_347.png',\n",
              " 'bee_imgs/bee_imgs/005_348.png',\n",
              " 'bee_imgs/bee_imgs/005_350.png',\n",
              " 'bee_imgs/bee_imgs/005_351.png',\n",
              " 'bee_imgs/bee_imgs/005_353.png',\n",
              " 'bee_imgs/bee_imgs/005_358.png',\n",
              " 'bee_imgs/bee_imgs/005_360.png',\n",
              " 'bee_imgs/bee_imgs/005_361.png',\n",
              " 'bee_imgs/bee_imgs/005_362.png',\n",
              " 'bee_imgs/bee_imgs/005_363.png',\n",
              " 'bee_imgs/bee_imgs/005_364.png',\n",
              " 'bee_imgs/bee_imgs/005_365.png',\n",
              " 'bee_imgs/bee_imgs/005_366.png',\n",
              " 'bee_imgs/bee_imgs/005_367.png',\n",
              " 'bee_imgs/bee_imgs/005_370.png',\n",
              " 'bee_imgs/bee_imgs/005_371.png',\n",
              " 'bee_imgs/bee_imgs/005_372.png',\n",
              " 'bee_imgs/bee_imgs/005_373.png',\n",
              " 'bee_imgs/bee_imgs/005_374.png',\n",
              " 'bee_imgs/bee_imgs/005_375.png',\n",
              " 'bee_imgs/bee_imgs/005_376.png',\n",
              " 'bee_imgs/bee_imgs/005_377.png',\n",
              " 'bee_imgs/bee_imgs/005_378.png',\n",
              " 'bee_imgs/bee_imgs/005_379.png',\n",
              " 'bee_imgs/bee_imgs/005_381.png',\n",
              " 'bee_imgs/bee_imgs/005_384.png',\n",
              " 'bee_imgs/bee_imgs/005_385.png',\n",
              " 'bee_imgs/bee_imgs/005_386.png',\n",
              " 'bee_imgs/bee_imgs/005_387.png',\n",
              " 'bee_imgs/bee_imgs/005_388.png',\n",
              " 'bee_imgs/bee_imgs/005_389.png',\n",
              " 'bee_imgs/bee_imgs/005_390.png',\n",
              " 'bee_imgs/bee_imgs/005_391.png',\n",
              " 'bee_imgs/bee_imgs/005_392.png',\n",
              " 'bee_imgs/bee_imgs/005_393.png',\n",
              " 'bee_imgs/bee_imgs/005_395.png',\n",
              " 'bee_imgs/bee_imgs/005_398.png',\n",
              " 'bee_imgs/bee_imgs/005_399.png',\n",
              " 'bee_imgs/bee_imgs/005_400.png',\n",
              " 'bee_imgs/bee_imgs/005_401.png',\n",
              " 'bee_imgs/bee_imgs/005_402.png',\n",
              " 'bee_imgs/bee_imgs/005_403.png',\n",
              " 'bee_imgs/bee_imgs/005_404.png',\n",
              " 'bee_imgs/bee_imgs/005_406.png',\n",
              " 'bee_imgs/bee_imgs/005_407.png',\n",
              " 'bee_imgs/bee_imgs/005_408.png',\n",
              " 'bee_imgs/bee_imgs/005_409.png',\n",
              " 'bee_imgs/bee_imgs/005_410.png',\n",
              " 'bee_imgs/bee_imgs/005_411.png',\n",
              " 'bee_imgs/bee_imgs/005_412.png',\n",
              " 'bee_imgs/bee_imgs/005_413.png',\n",
              " 'bee_imgs/bee_imgs/005_414.png',\n",
              " 'bee_imgs/bee_imgs/005_415.png',\n",
              " 'bee_imgs/bee_imgs/005_416.png',\n",
              " 'bee_imgs/bee_imgs/005_417.png',\n",
              " 'bee_imgs/bee_imgs/005_418.png',\n",
              " 'bee_imgs/bee_imgs/005_419.png',\n",
              " 'bee_imgs/bee_imgs/005_420.png',\n",
              " 'bee_imgs/bee_imgs/005_421.png',\n",
              " 'bee_imgs/bee_imgs/005_422.png',\n",
              " 'bee_imgs/bee_imgs/005_423.png',\n",
              " 'bee_imgs/bee_imgs/005_424.png',\n",
              " 'bee_imgs/bee_imgs/005_425.png',\n",
              " 'bee_imgs/bee_imgs/005_427.png',\n",
              " 'bee_imgs/bee_imgs/005_428.png',\n",
              " 'bee_imgs/bee_imgs/005_429.png',\n",
              " 'bee_imgs/bee_imgs/005_430.png',\n",
              " 'bee_imgs/bee_imgs/005_431.png',\n",
              " 'bee_imgs/bee_imgs/005_433.png',\n",
              " 'bee_imgs/bee_imgs/005_434.png',\n",
              " 'bee_imgs/bee_imgs/005_435.png',\n",
              " 'bee_imgs/bee_imgs/005_436.png',\n",
              " 'bee_imgs/bee_imgs/005_437.png',\n",
              " 'bee_imgs/bee_imgs/005_438.png',\n",
              " 'bee_imgs/bee_imgs/005_439.png',\n",
              " 'bee_imgs/bee_imgs/005_448.png',\n",
              " 'bee_imgs/bee_imgs/005_449.png',\n",
              " 'bee_imgs/bee_imgs/005_458.png',\n",
              " 'bee_imgs/bee_imgs/005_459.png',\n",
              " 'bee_imgs/bee_imgs/005_460.png',\n",
              " 'bee_imgs/bee_imgs/005_461.png',\n",
              " 'bee_imgs/bee_imgs/005_462.png',\n",
              " 'bee_imgs/bee_imgs/005_463.png',\n",
              " 'bee_imgs/bee_imgs/005_464.png',\n",
              " 'bee_imgs/bee_imgs/005_465.png',\n",
              " 'bee_imgs/bee_imgs/005_466.png',\n",
              " 'bee_imgs/bee_imgs/005_467.png',\n",
              " 'bee_imgs/bee_imgs/005_469.png',\n",
              " 'bee_imgs/bee_imgs/005_470.png',\n",
              " 'bee_imgs/bee_imgs/005_471.png',\n",
              " 'bee_imgs/bee_imgs/005_472.png',\n",
              " 'bee_imgs/bee_imgs/005_473.png',\n",
              " 'bee_imgs/bee_imgs/005_475.png',\n",
              " 'bee_imgs/bee_imgs/005_476.png',\n",
              " 'bee_imgs/bee_imgs/005_477.png',\n",
              " 'bee_imgs/bee_imgs/005_482.png',\n",
              " 'bee_imgs/bee_imgs/005_488.png',\n",
              " 'bee_imgs/bee_imgs/005_489.png',\n",
              " 'bee_imgs/bee_imgs/005_496.png',\n",
              " 'bee_imgs/bee_imgs/005_498.png',\n",
              " 'bee_imgs/bee_imgs/005_499.png',\n",
              " 'bee_imgs/bee_imgs/005_500.png',\n",
              " 'bee_imgs/bee_imgs/005_501.png',\n",
              " 'bee_imgs/bee_imgs/005_502.png',\n",
              " 'bee_imgs/bee_imgs/005_503.png',\n",
              " 'bee_imgs/bee_imgs/005_504.png',\n",
              " 'bee_imgs/bee_imgs/005_505.png',\n",
              " 'bee_imgs/bee_imgs/005_506.png',\n",
              " 'bee_imgs/bee_imgs/005_507.png',\n",
              " 'bee_imgs/bee_imgs/005_508.png',\n",
              " 'bee_imgs/bee_imgs/005_509.png',\n",
              " 'bee_imgs/bee_imgs/005_510.png',\n",
              " 'bee_imgs/bee_imgs/005_512.png',\n",
              " 'bee_imgs/bee_imgs/005_513.png',\n",
              " 'bee_imgs/bee_imgs/005_514.png',\n",
              " 'bee_imgs/bee_imgs/005_515.png',\n",
              " 'bee_imgs/bee_imgs/005_516.png',\n",
              " 'bee_imgs/bee_imgs/005_517.png',\n",
              " 'bee_imgs/bee_imgs/005_520.png',\n",
              " 'bee_imgs/bee_imgs/005_521.png',\n",
              " 'bee_imgs/bee_imgs/005_528.png',\n",
              " 'bee_imgs/bee_imgs/005_529.png',\n",
              " 'bee_imgs/bee_imgs/005_534.png',\n",
              " 'bee_imgs/bee_imgs/005_535.png',\n",
              " 'bee_imgs/bee_imgs/005_536.png',\n",
              " 'bee_imgs/bee_imgs/005_537.png',\n",
              " 'bee_imgs/bee_imgs/005_538.png',\n",
              " 'bee_imgs/bee_imgs/005_539.png',\n",
              " 'bee_imgs/bee_imgs/005_540.png',\n",
              " 'bee_imgs/bee_imgs/005_541.png',\n",
              " 'bee_imgs/bee_imgs/005_542.png',\n",
              " 'bee_imgs/bee_imgs/005_543.png',\n",
              " 'bee_imgs/bee_imgs/005_544.png',\n",
              " 'bee_imgs/bee_imgs/005_545.png',\n",
              " 'bee_imgs/bee_imgs/005_546.png',\n",
              " 'bee_imgs/bee_imgs/005_547.png',\n",
              " 'bee_imgs/bee_imgs/005_548.png',\n",
              " 'bee_imgs/bee_imgs/005_550.png',\n",
              " 'bee_imgs/bee_imgs/005_551.png',\n",
              " 'bee_imgs/bee_imgs/005_552.png',\n",
              " 'bee_imgs/bee_imgs/005_553.png',\n",
              " 'bee_imgs/bee_imgs/005_554.png',\n",
              " 'bee_imgs/bee_imgs/005_555.png',\n",
              " 'bee_imgs/bee_imgs/005_556.png',\n",
              " 'bee_imgs/bee_imgs/005_557.png',\n",
              " 'bee_imgs/bee_imgs/005_558.png',\n",
              " 'bee_imgs/bee_imgs/005_559.png',\n",
              " 'bee_imgs/bee_imgs/005_560.png',\n",
              " 'bee_imgs/bee_imgs/005_561.png',\n",
              " 'bee_imgs/bee_imgs/005_562.png',\n",
              " 'bee_imgs/bee_imgs/005_563.png',\n",
              " 'bee_imgs/bee_imgs/005_565.png',\n",
              " 'bee_imgs/bee_imgs/005_567.png',\n",
              " 'bee_imgs/bee_imgs/005_568.png',\n",
              " 'bee_imgs/bee_imgs/005_569.png',\n",
              " 'bee_imgs/bee_imgs/005_570.png',\n",
              " 'bee_imgs/bee_imgs/005_571.png',\n",
              " 'bee_imgs/bee_imgs/005_572.png',\n",
              " 'bee_imgs/bee_imgs/005_573.png',\n",
              " 'bee_imgs/bee_imgs/005_574.png',\n",
              " 'bee_imgs/bee_imgs/005_575.png',\n",
              " 'bee_imgs/bee_imgs/005_576.png',\n",
              " 'bee_imgs/bee_imgs/005_577.png',\n",
              " 'bee_imgs/bee_imgs/005_578.png',\n",
              " 'bee_imgs/bee_imgs/005_579.png',\n",
              " 'bee_imgs/bee_imgs/005_582.png',\n",
              " 'bee_imgs/bee_imgs/005_583.png',\n",
              " 'bee_imgs/bee_imgs/005_584.png',\n",
              " 'bee_imgs/bee_imgs/005_585.png',\n",
              " 'bee_imgs/bee_imgs/005_586.png',\n",
              " 'bee_imgs/bee_imgs/005_587.png',\n",
              " 'bee_imgs/bee_imgs/005_588.png',\n",
              " 'bee_imgs/bee_imgs/005_589.png',\n",
              " 'bee_imgs/bee_imgs/005_590.png',\n",
              " 'bee_imgs/bee_imgs/005_591.png',\n",
              " 'bee_imgs/bee_imgs/005_592.png',\n",
              " 'bee_imgs/bee_imgs/005_593.png',\n",
              " 'bee_imgs/bee_imgs/005_594.png',\n",
              " 'bee_imgs/bee_imgs/005_595.png',\n",
              " 'bee_imgs/bee_imgs/005_596.png',\n",
              " 'bee_imgs/bee_imgs/005_597.png',\n",
              " 'bee_imgs/bee_imgs/005_598.png',\n",
              " 'bee_imgs/bee_imgs/005_599.png',\n",
              " 'bee_imgs/bee_imgs/005_600.png',\n",
              " 'bee_imgs/bee_imgs/005_601.png',\n",
              " 'bee_imgs/bee_imgs/005_602.png',\n",
              " 'bee_imgs/bee_imgs/005_603.png',\n",
              " 'bee_imgs/bee_imgs/005_604.png',\n",
              " 'bee_imgs/bee_imgs/005_605.png',\n",
              " 'bee_imgs/bee_imgs/005_607.png',\n",
              " 'bee_imgs/bee_imgs/005_608.png',\n",
              " 'bee_imgs/bee_imgs/005_609.png',\n",
              " 'bee_imgs/bee_imgs/005_610.png',\n",
              " 'bee_imgs/bee_imgs/005_611.png',\n",
              " 'bee_imgs/bee_imgs/005_612.png',\n",
              " 'bee_imgs/bee_imgs/005_613.png',\n",
              " 'bee_imgs/bee_imgs/005_614.png',\n",
              " 'bee_imgs/bee_imgs/005_615.png',\n",
              " 'bee_imgs/bee_imgs/005_616.png',\n",
              " 'bee_imgs/bee_imgs/005_617.png',\n",
              " 'bee_imgs/bee_imgs/005_618.png',\n",
              " 'bee_imgs/bee_imgs/005_619.png',\n",
              " 'bee_imgs/bee_imgs/005_620.png',\n",
              " 'bee_imgs/bee_imgs/005_621.png',\n",
              " 'bee_imgs/bee_imgs/005_622.png',\n",
              " 'bee_imgs/bee_imgs/005_623.png',\n",
              " 'bee_imgs/bee_imgs/005_624.png',\n",
              " 'bee_imgs/bee_imgs/005_625.png',\n",
              " 'bee_imgs/bee_imgs/005_626.png',\n",
              " 'bee_imgs/bee_imgs/005_627.png',\n",
              " 'bee_imgs/bee_imgs/005_628.png',\n",
              " 'bee_imgs/bee_imgs/005_629.png',\n",
              " 'bee_imgs/bee_imgs/005_630.png',\n",
              " 'bee_imgs/bee_imgs/006_004.png',\n",
              " 'bee_imgs/bee_imgs/006_005.png',\n",
              " 'bee_imgs/bee_imgs/006_006.png',\n",
              " 'bee_imgs/bee_imgs/007_028.png',\n",
              " 'bee_imgs/bee_imgs/007_061.png',\n",
              " 'bee_imgs/bee_imgs/007_062.png',\n",
              " 'bee_imgs/bee_imgs/007_100.png',\n",
              " 'bee_imgs/bee_imgs/007_105.png',\n",
              " 'bee_imgs/bee_imgs/007_113.png',\n",
              " 'bee_imgs/bee_imgs/007_114.png',\n",
              " 'bee_imgs/bee_imgs/007_116.png',\n",
              " 'bee_imgs/bee_imgs/007_125.png',\n",
              " 'bee_imgs/bee_imgs/007_159.png',\n",
              " 'bee_imgs/bee_imgs/007_160.png',\n",
              " 'bee_imgs/bee_imgs/007_161.png',\n",
              " 'bee_imgs/bee_imgs/007_163.png',\n",
              " 'bee_imgs/bee_imgs/007_174.png',\n",
              " 'bee_imgs/bee_imgs/007_187.png',\n",
              " 'bee_imgs/bee_imgs/008_044.png',\n",
              " 'bee_imgs/bee_imgs/008_045.png',\n",
              " 'bee_imgs/bee_imgs/008_046.png',\n",
              " 'bee_imgs/bee_imgs/008_047.png',\n",
              " 'bee_imgs/bee_imgs/008_050.png',\n",
              " 'bee_imgs/bee_imgs/008_051.png',\n",
              " 'bee_imgs/bee_imgs/008_052.png',\n",
              " 'bee_imgs/bee_imgs/008_053.png',\n",
              " 'bee_imgs/bee_imgs/008_068.png',\n",
              " 'bee_imgs/bee_imgs/008_069.png',\n",
              " 'bee_imgs/bee_imgs/008_078.png',\n",
              " 'bee_imgs/bee_imgs/008_079.png',\n",
              " 'bee_imgs/bee_imgs/008_081.png',\n",
              " 'bee_imgs/bee_imgs/008_082.png',\n",
              " 'bee_imgs/bee_imgs/008_083.png',\n",
              " 'bee_imgs/bee_imgs/008_084.png',\n",
              " 'bee_imgs/bee_imgs/008_085.png',\n",
              " 'bee_imgs/bee_imgs/008_086.png',\n",
              " 'bee_imgs/bee_imgs/008_087.png',\n",
              " 'bee_imgs/bee_imgs/008_090.png',\n",
              " 'bee_imgs/bee_imgs/008_091.png',\n",
              " 'bee_imgs/bee_imgs/008_092.png',\n",
              " 'bee_imgs/bee_imgs/008_093.png',\n",
              " 'bee_imgs/bee_imgs/008_094.png',\n",
              " 'bee_imgs/bee_imgs/008_095.png',\n",
              " 'bee_imgs/bee_imgs/008_096.png',\n",
              " 'bee_imgs/bee_imgs/008_097.png',\n",
              " 'bee_imgs/bee_imgs/008_108.png',\n",
              " 'bee_imgs/bee_imgs/008_109.png',\n",
              " 'bee_imgs/bee_imgs/008_118.png',\n",
              " 'bee_imgs/bee_imgs/008_119.png',\n",
              " 'bee_imgs/bee_imgs/008_120.png',\n",
              " 'bee_imgs/bee_imgs/008_121.png',\n",
              " 'bee_imgs/bee_imgs/008_122.png',\n",
              " 'bee_imgs/bee_imgs/008_123.png',\n",
              " 'bee_imgs/bee_imgs/008_124.png',\n",
              " 'bee_imgs/bee_imgs/008_125.png',\n",
              " 'bee_imgs/bee_imgs/008_126.png',\n",
              " 'bee_imgs/bee_imgs/008_127.png',\n",
              " 'bee_imgs/bee_imgs/008_130.png',\n",
              " 'bee_imgs/bee_imgs/008_131.png',\n",
              " 'bee_imgs/bee_imgs/008_132.png',\n",
              " 'bee_imgs/bee_imgs/008_133.png',\n",
              " 'bee_imgs/bee_imgs/008_134.png',\n",
              " 'bee_imgs/bee_imgs/008_135.png',\n",
              " 'bee_imgs/bee_imgs/008_136.png',\n",
              " 'bee_imgs/bee_imgs/008_137.png',\n",
              " 'bee_imgs/bee_imgs/008_142.png',\n",
              " 'bee_imgs/bee_imgs/008_144.png',\n",
              " 'bee_imgs/bee_imgs/008_145.png',\n",
              " 'bee_imgs/bee_imgs/008_146.png',\n",
              " 'bee_imgs/bee_imgs/008_147.png',\n",
              " 'bee_imgs/bee_imgs/008_150.png',\n",
              " 'bee_imgs/bee_imgs/008_151.png',\n",
              " 'bee_imgs/bee_imgs/008_152.png',\n",
              " 'bee_imgs/bee_imgs/008_153.png',\n",
              " 'bee_imgs/bee_imgs/008_155.png',\n",
              " 'bee_imgs/bee_imgs/008_156.png',\n",
              " 'bee_imgs/bee_imgs/008_157.png',\n",
              " 'bee_imgs/bee_imgs/008_168.png',\n",
              " 'bee_imgs/bee_imgs/008_169.png',\n",
              " 'bee_imgs/bee_imgs/008_171.png',\n",
              " 'bee_imgs/bee_imgs/008_178.png',\n",
              " 'bee_imgs/bee_imgs/008_179.png',\n",
              " 'bee_imgs/bee_imgs/008_180.png',\n",
              " 'bee_imgs/bee_imgs/008_181.png',\n",
              " 'bee_imgs/bee_imgs/008_182.png',\n",
              " 'bee_imgs/bee_imgs/008_183.png',\n",
              " 'bee_imgs/bee_imgs/008_184.png',\n",
              " 'bee_imgs/bee_imgs/008_185.png',\n",
              " 'bee_imgs/bee_imgs/008_186.png',\n",
              " 'bee_imgs/bee_imgs/008_187.png',\n",
              " 'bee_imgs/bee_imgs/008_190.png',\n",
              " 'bee_imgs/bee_imgs/008_191.png',\n",
              " 'bee_imgs/bee_imgs/008_192.png',\n",
              " 'bee_imgs/bee_imgs/008_193.png',\n",
              " 'bee_imgs/bee_imgs/008_194.png',\n",
              " 'bee_imgs/bee_imgs/008_195.png',\n",
              " 'bee_imgs/bee_imgs/008_196.png',\n",
              " 'bee_imgs/bee_imgs/008_197.png',\n",
              " 'bee_imgs/bee_imgs/008_199.png',\n",
              " 'bee_imgs/bee_imgs/008_204.png',\n",
              " 'bee_imgs/bee_imgs/008_205.png',\n",
              " 'bee_imgs/bee_imgs/008_206.png',\n",
              " 'bee_imgs/bee_imgs/008_207.png',\n",
              " 'bee_imgs/bee_imgs/008_208.png',\n",
              " 'bee_imgs/bee_imgs/008_209.png',\n",
              " 'bee_imgs/bee_imgs/008_210.png',\n",
              " 'bee_imgs/bee_imgs/008_211.png',\n",
              " 'bee_imgs/bee_imgs/008_212.png',\n",
              " 'bee_imgs/bee_imgs/008_213.png',\n",
              " 'bee_imgs/bee_imgs/008_214.png',\n",
              " 'bee_imgs/bee_imgs/008_215.png',\n",
              " 'bee_imgs/bee_imgs/008_218.png',\n",
              " 'bee_imgs/bee_imgs/008_219.png',\n",
              " 'bee_imgs/bee_imgs/008_220.png',\n",
              " 'bee_imgs/bee_imgs/008_221.png',\n",
              " 'bee_imgs/bee_imgs/008_222.png',\n",
              " 'bee_imgs/bee_imgs/008_223.png',\n",
              " 'bee_imgs/bee_imgs/008_224.png',\n",
              " 'bee_imgs/bee_imgs/008_225.png',\n",
              " 'bee_imgs/bee_imgs/008_226.png',\n",
              " 'bee_imgs/bee_imgs/008_228.png',\n",
              " 'bee_imgs/bee_imgs/008_229.png',\n",
              " 'bee_imgs/bee_imgs/008_230.png',\n",
              " 'bee_imgs/bee_imgs/008_231.png',\n",
              " 'bee_imgs/bee_imgs/008_232.png',\n",
              " 'bee_imgs/bee_imgs/008_233.png',\n",
              " 'bee_imgs/bee_imgs/008_234.png',\n",
              " 'bee_imgs/bee_imgs/008_235.png',\n",
              " 'bee_imgs/bee_imgs/008_236.png',\n",
              " 'bee_imgs/bee_imgs/008_237.png',\n",
              " 'bee_imgs/bee_imgs/008_238.png',\n",
              " 'bee_imgs/bee_imgs/008_239.png',\n",
              " 'bee_imgs/bee_imgs/008_240.png',\n",
              " 'bee_imgs/bee_imgs/008_241.png',\n",
              " 'bee_imgs/bee_imgs/008_242.png',\n",
              " 'bee_imgs/bee_imgs/008_243.png',\n",
              " 'bee_imgs/bee_imgs/008_244.png',\n",
              " 'bee_imgs/bee_imgs/008_245.png',\n",
              " 'bee_imgs/bee_imgs/008_246.png',\n",
              " 'bee_imgs/bee_imgs/008_247.png',\n",
              " 'bee_imgs/bee_imgs/008_250.png',\n",
              " 'bee_imgs/bee_imgs/008_251.png',\n",
              " 'bee_imgs/bee_imgs/008_252.png',\n",
              " 'bee_imgs/bee_imgs/008_253.png',\n",
              " 'bee_imgs/bee_imgs/008_254.png',\n",
              " 'bee_imgs/bee_imgs/008_255.png',\n",
              " 'bee_imgs/bee_imgs/008_256.png',\n",
              " 'bee_imgs/bee_imgs/008_257.png',\n",
              " 'bee_imgs/bee_imgs/008_258.png',\n",
              " 'bee_imgs/bee_imgs/008_259.png',\n",
              " 'bee_imgs/bee_imgs/008_264.png',\n",
              " 'bee_imgs/bee_imgs/008_265.png',\n",
              " 'bee_imgs/bee_imgs/008_266.png',\n",
              " 'bee_imgs/bee_imgs/008_267.png',\n",
              " 'bee_imgs/bee_imgs/008_268.png',\n",
              " 'bee_imgs/bee_imgs/008_269.png',\n",
              " 'bee_imgs/bee_imgs/008_270.png',\n",
              " 'bee_imgs/bee_imgs/008_271.png',\n",
              " 'bee_imgs/bee_imgs/008_272.png',\n",
              " 'bee_imgs/bee_imgs/008_273.png',\n",
              " 'bee_imgs/bee_imgs/008_276.png',\n",
              " 'bee_imgs/bee_imgs/008_277.png',\n",
              " 'bee_imgs/bee_imgs/008_278.png',\n",
              " 'bee_imgs/bee_imgs/008_279.png',\n",
              " 'bee_imgs/bee_imgs/008_280.png',\n",
              " 'bee_imgs/bee_imgs/008_281.png',\n",
              " 'bee_imgs/bee_imgs/008_282.png',\n",
              " 'bee_imgs/bee_imgs/008_283.png',\n",
              " 'bee_imgs/bee_imgs/008_284.png',\n",
              " 'bee_imgs/bee_imgs/008_285.png',\n",
              " 'bee_imgs/bee_imgs/008_286.png',\n",
              " 'bee_imgs/bee_imgs/008_287.png',\n",
              " 'bee_imgs/bee_imgs/008_288.png',\n",
              " 'bee_imgs/bee_imgs/008_289.png',\n",
              " 'bee_imgs/bee_imgs/008_290.png',\n",
              " 'bee_imgs/bee_imgs/008_291.png',\n",
              " 'bee_imgs/bee_imgs/008_292.png',\n",
              " 'bee_imgs/bee_imgs/008_293.png',\n",
              " 'bee_imgs/bee_imgs/008_294.png',\n",
              " 'bee_imgs/bee_imgs/008_295.png',\n",
              " 'bee_imgs/bee_imgs/008_296.png',\n",
              " 'bee_imgs/bee_imgs/008_297.png',\n",
              " 'bee_imgs/bee_imgs/008_298.png',\n",
              " 'bee_imgs/bee_imgs/008_299.png',\n",
              " 'bee_imgs/bee_imgs/008_301.png',\n",
              " 'bee_imgs/bee_imgs/008_302.png',\n",
              " 'bee_imgs/bee_imgs/008_303.png',\n",
              " 'bee_imgs/bee_imgs/008_304.png',\n",
              " 'bee_imgs/bee_imgs/009_040.png',\n",
              " 'bee_imgs/bee_imgs/009_041.png',\n",
              " 'bee_imgs/bee_imgs/009_042.png',\n",
              " 'bee_imgs/bee_imgs/009_043.png',\n",
              " 'bee_imgs/bee_imgs/009_044.png',\n",
              " 'bee_imgs/bee_imgs/009_045.png',\n",
              " 'bee_imgs/bee_imgs/009_046.png',\n",
              " 'bee_imgs/bee_imgs/009_047.png',\n",
              " 'bee_imgs/bee_imgs/009_050.png',\n",
              " 'bee_imgs/bee_imgs/009_051.png',\n",
              " 'bee_imgs/bee_imgs/009_052.png',\n",
              " 'bee_imgs/bee_imgs/009_053.png',\n",
              " 'bee_imgs/bee_imgs/009_054.png',\n",
              " 'bee_imgs/bee_imgs/009_055.png',\n",
              " 'bee_imgs/bee_imgs/009_056.png',\n",
              " 'bee_imgs/bee_imgs/009_057.png',\n",
              " 'bee_imgs/bee_imgs/009_068.png',\n",
              " 'bee_imgs/bee_imgs/009_069.png',\n",
              " 'bee_imgs/bee_imgs/009_078.png',\n",
              " 'bee_imgs/bee_imgs/009_079.png',\n",
              " 'bee_imgs/bee_imgs/009_080.png',\n",
              " 'bee_imgs/bee_imgs/009_081.png',\n",
              " 'bee_imgs/bee_imgs/009_082.png',\n",
              " 'bee_imgs/bee_imgs/009_083.png',\n",
              " 'bee_imgs/bee_imgs/009_084.png',\n",
              " 'bee_imgs/bee_imgs/009_085.png',\n",
              " 'bee_imgs/bee_imgs/009_086.png',\n",
              " 'bee_imgs/bee_imgs/009_087.png',\n",
              " 'bee_imgs/bee_imgs/009_088.png',\n",
              " 'bee_imgs/bee_imgs/009_089.png',\n",
              " 'bee_imgs/bee_imgs/009_090.png',\n",
              " 'bee_imgs/bee_imgs/009_091.png',\n",
              " 'bee_imgs/bee_imgs/009_092.png',\n",
              " 'bee_imgs/bee_imgs/009_093.png',\n",
              " 'bee_imgs/bee_imgs/009_094.png',\n",
              " 'bee_imgs/bee_imgs/009_095.png',\n",
              " 'bee_imgs/bee_imgs/009_096.png',\n",
              " 'bee_imgs/bee_imgs/009_097.png',\n",
              " 'bee_imgs/bee_imgs/009_100.png',\n",
              " 'bee_imgs/bee_imgs/009_101.png',\n",
              " 'bee_imgs/bee_imgs/009_102.png',\n",
              " 'bee_imgs/bee_imgs/009_103.png',\n",
              " 'bee_imgs/bee_imgs/009_104.png',\n",
              " 'bee_imgs/bee_imgs/009_105.png',\n",
              " 'bee_imgs/bee_imgs/009_106.png',\n",
              " 'bee_imgs/bee_imgs/009_108.png',\n",
              " 'bee_imgs/bee_imgs/009_109.png',\n",
              " 'bee_imgs/bee_imgs/009_110.png',\n",
              " 'bee_imgs/bee_imgs/009_111.png',\n",
              " 'bee_imgs/bee_imgs/009_112.png',\n",
              " 'bee_imgs/bee_imgs/010_055.png',\n",
              " 'bee_imgs/bee_imgs/010_068.png',\n",
              " 'bee_imgs/bee_imgs/010_069.png',\n",
              " 'bee_imgs/bee_imgs/010_081.png',\n",
              " ...]"
            ]
          },
          "execution_count": 7,
          "metadata": {},
          "output_type": "execute_result"
        }
      ],
      "source": [
        "import zipfile\n",
        "archive = zipfile.ZipFile('archive.zip', 'r')\n",
        "archive.namelist()"
      ]
    },
    {
      "cell_type": "code",
      "execution_count": null,
      "metadata": {
        "colab": {
          "base_uri": "https://localhost:8080/"
        },
        "id": "Zz1Ltt5cVeDG",
        "outputId": "cbf6509f-d8ea-4ac8-d226-83dcafb7df62"
      },
      "outputs": [
        {
          "name": "stdout",
          "output_type": "stream",
          "text": [
            "Extracting all the files now...\n",
            "Done!\n"
          ]
        }
      ],
      "source": [
        "from zipfile import ZipFile\n",
        "\n",
        "file_name = \"archive.zip\"\n",
        "  \n",
        "# opening the zip file in READ mode\n",
        "with ZipFile(file_name, 'r') as zip:\n",
        "    # # printing all the contents of the zip file\n",
        "    # zip.printdir()\n",
        "  \n",
        "    # extracting all the files\n",
        "    print('Extracting all the files now...')\n",
        "    zip.extractall()\n",
        "    print('Done!')"
      ]
    },
    {
      "cell_type": "code",
      "execution_count": null,
      "metadata": {
        "colab": {
          "base_uri": "https://localhost:8080/"
        },
        "id": "lCE4xZxnUSLq",
        "outputId": "e591e76c-c3b6-495f-984e-62929fda45b4"
      },
      "outputs": [
        {
          "name": "stdout",
          "output_type": "stream",
          "text": [
            "The Bees dataset has 5172 rows and 9 columns\n"
          ]
        }
      ],
      "source": [
        "bees = pd.read_csv('/content/bee_data.csv')\n",
        "row,col = bees.shape\n",
        "print(f'The Bees dataset has {row} rows and {col} columns')"
      ]
    },
    {
      "cell_type": "code",
      "execution_count": null,
      "metadata": {
        "colab": {
          "base_uri": "https://localhost:8080/",
          "height": 206
        },
        "id": "dsnohaI2VIp5",
        "outputId": "804cc7fb-e186-48c9-d6e2-e614d534bc4f"
      },
      "outputs": [
        {
          "data": {
            "text/html": [
              "\n",
              "  <div id=\"df-5d4008ac-0322-4302-b716-6f1858f3ffda\">\n",
              "    <div class=\"colab-df-container\">\n",
              "      <div>\n",
              "<style scoped>\n",
              "    .dataframe tbody tr th:only-of-type {\n",
              "        vertical-align: middle;\n",
              "    }\n",
              "\n",
              "    .dataframe tbody tr th {\n",
              "        vertical-align: top;\n",
              "    }\n",
              "\n",
              "    .dataframe thead th {\n",
              "        text-align: right;\n",
              "    }\n",
              "</style>\n",
              "<table border=\"1\" class=\"dataframe\">\n",
              "  <thead>\n",
              "    <tr style=\"text-align: right;\">\n",
              "      <th></th>\n",
              "      <th>file</th>\n",
              "      <th>date</th>\n",
              "      <th>time</th>\n",
              "      <th>location</th>\n",
              "      <th>zip code</th>\n",
              "      <th>subspecies</th>\n",
              "      <th>health</th>\n",
              "      <th>pollen_carrying</th>\n",
              "      <th>caste</th>\n",
              "    </tr>\n",
              "  </thead>\n",
              "  <tbody>\n",
              "    <tr>\n",
              "      <th>0</th>\n",
              "      <td>041_066.png</td>\n",
              "      <td>8/28/18</td>\n",
              "      <td>16:07</td>\n",
              "      <td>Alvin, TX, USA</td>\n",
              "      <td>77511</td>\n",
              "      <td>-1</td>\n",
              "      <td>hive being robbed</td>\n",
              "      <td>False</td>\n",
              "      <td>worker</td>\n",
              "    </tr>\n",
              "    <tr>\n",
              "      <th>1</th>\n",
              "      <td>041_072.png</td>\n",
              "      <td>8/28/18</td>\n",
              "      <td>16:07</td>\n",
              "      <td>Alvin, TX, USA</td>\n",
              "      <td>77511</td>\n",
              "      <td>-1</td>\n",
              "      <td>hive being robbed</td>\n",
              "      <td>False</td>\n",
              "      <td>worker</td>\n",
              "    </tr>\n",
              "    <tr>\n",
              "      <th>2</th>\n",
              "      <td>041_073.png</td>\n",
              "      <td>8/28/18</td>\n",
              "      <td>16:07</td>\n",
              "      <td>Alvin, TX, USA</td>\n",
              "      <td>77511</td>\n",
              "      <td>-1</td>\n",
              "      <td>hive being robbed</td>\n",
              "      <td>False</td>\n",
              "      <td>worker</td>\n",
              "    </tr>\n",
              "    <tr>\n",
              "      <th>3</th>\n",
              "      <td>041_067.png</td>\n",
              "      <td>8/28/18</td>\n",
              "      <td>16:07</td>\n",
              "      <td>Alvin, TX, USA</td>\n",
              "      <td>77511</td>\n",
              "      <td>-1</td>\n",
              "      <td>hive being robbed</td>\n",
              "      <td>False</td>\n",
              "      <td>worker</td>\n",
              "    </tr>\n",
              "    <tr>\n",
              "      <th>4</th>\n",
              "      <td>041_059.png</td>\n",
              "      <td>8/28/18</td>\n",
              "      <td>16:07</td>\n",
              "      <td>Alvin, TX, USA</td>\n",
              "      <td>77511</td>\n",
              "      <td>-1</td>\n",
              "      <td>hive being robbed</td>\n",
              "      <td>False</td>\n",
              "      <td>worker</td>\n",
              "    </tr>\n",
              "  </tbody>\n",
              "</table>\n",
              "</div>\n",
              "      <button class=\"colab-df-convert\" onclick=\"convertToInteractive('df-5d4008ac-0322-4302-b716-6f1858f3ffda')\"\n",
              "              title=\"Convert this dataframe to an interactive table.\"\n",
              "              style=\"display:none;\">\n",
              "        \n",
              "  <svg xmlns=\"http://www.w3.org/2000/svg\" height=\"24px\"viewBox=\"0 0 24 24\"\n",
              "       width=\"24px\">\n",
              "    <path d=\"M0 0h24v24H0V0z\" fill=\"none\"/>\n",
              "    <path d=\"M18.56 5.44l.94 2.06.94-2.06 2.06-.94-2.06-.94-.94-2.06-.94 2.06-2.06.94zm-11 1L8.5 8.5l.94-2.06 2.06-.94-2.06-.94L8.5 2.5l-.94 2.06-2.06.94zm10 10l.94 2.06.94-2.06 2.06-.94-2.06-.94-.94-2.06-.94 2.06-2.06.94z\"/><path d=\"M17.41 7.96l-1.37-1.37c-.4-.4-.92-.59-1.43-.59-.52 0-1.04.2-1.43.59L10.3 9.45l-7.72 7.72c-.78.78-.78 2.05 0 2.83L4 21.41c.39.39.9.59 1.41.59.51 0 1.02-.2 1.41-.59l7.78-7.78 2.81-2.81c.8-.78.8-2.07 0-2.86zM5.41 20L4 18.59l7.72-7.72 1.47 1.35L5.41 20z\"/>\n",
              "  </svg>\n",
              "      </button>\n",
              "      \n",
              "  <style>\n",
              "    .colab-df-container {\n",
              "      display:flex;\n",
              "      flex-wrap:wrap;\n",
              "      gap: 12px;\n",
              "    }\n",
              "\n",
              "    .colab-df-convert {\n",
              "      background-color: #E8F0FE;\n",
              "      border: none;\n",
              "      border-radius: 50%;\n",
              "      cursor: pointer;\n",
              "      display: none;\n",
              "      fill: #1967D2;\n",
              "      height: 32px;\n",
              "      padding: 0 0 0 0;\n",
              "      width: 32px;\n",
              "    }\n",
              "\n",
              "    .colab-df-convert:hover {\n",
              "      background-color: #E2EBFA;\n",
              "      box-shadow: 0px 1px 2px rgba(60, 64, 67, 0.3), 0px 1px 3px 1px rgba(60, 64, 67, 0.15);\n",
              "      fill: #174EA6;\n",
              "    }\n",
              "\n",
              "    [theme=dark] .colab-df-convert {\n",
              "      background-color: #3B4455;\n",
              "      fill: #D2E3FC;\n",
              "    }\n",
              "\n",
              "    [theme=dark] .colab-df-convert:hover {\n",
              "      background-color: #434B5C;\n",
              "      box-shadow: 0px 1px 3px 1px rgba(0, 0, 0, 0.15);\n",
              "      filter: drop-shadow(0px 1px 2px rgba(0, 0, 0, 0.3));\n",
              "      fill: #FFFFFF;\n",
              "    }\n",
              "  </style>\n",
              "\n",
              "      <script>\n",
              "        const buttonEl =\n",
              "          document.querySelector('#df-5d4008ac-0322-4302-b716-6f1858f3ffda button.colab-df-convert');\n",
              "        buttonEl.style.display =\n",
              "          google.colab.kernel.accessAllowed ? 'block' : 'none';\n",
              "\n",
              "        async function convertToInteractive(key) {\n",
              "          const element = document.querySelector('#df-5d4008ac-0322-4302-b716-6f1858f3ffda');\n",
              "          const dataTable =\n",
              "            await google.colab.kernel.invokeFunction('convertToInteractive',\n",
              "                                                     [key], {});\n",
              "          if (!dataTable) return;\n",
              "\n",
              "          const docLinkHtml = 'Like what you see? Visit the ' +\n",
              "            '<a target=\"_blank\" href=https://colab.research.google.com/notebooks/data_table.ipynb>data table notebook</a>'\n",
              "            + ' to learn more about interactive tables.';\n",
              "          element.innerHTML = '';\n",
              "          dataTable['output_type'] = 'display_data';\n",
              "          await google.colab.output.renderOutput(dataTable, element);\n",
              "          const docLink = document.createElement('div');\n",
              "          docLink.innerHTML = docLinkHtml;\n",
              "          element.appendChild(docLink);\n",
              "        }\n",
              "      </script>\n",
              "    </div>\n",
              "  </div>\n",
              "  "
            ],
            "text/plain": [
              "          file     date   time        location  zip code subspecies  \\\n",
              "0  041_066.png  8/28/18  16:07  Alvin, TX, USA     77511         -1   \n",
              "1  041_072.png  8/28/18  16:07  Alvin, TX, USA     77511         -1   \n",
              "2  041_073.png  8/28/18  16:07  Alvin, TX, USA     77511         -1   \n",
              "3  041_067.png  8/28/18  16:07  Alvin, TX, USA     77511         -1   \n",
              "4  041_059.png  8/28/18  16:07  Alvin, TX, USA     77511         -1   \n",
              "\n",
              "              health  pollen_carrying   caste  \n",
              "0  hive being robbed            False  worker  \n",
              "1  hive being robbed            False  worker  \n",
              "2  hive being robbed            False  worker  \n",
              "3  hive being robbed            False  worker  \n",
              "4  hive being robbed            False  worker  "
            ]
          },
          "execution_count": 10,
          "metadata": {},
          "output_type": "execute_result"
        }
      ],
      "source": [
        "bees.head(5)"
      ]
    },
    {
      "cell_type": "markdown",
      "metadata": {
        "id": "G6IFSpQ8_zNW"
      },
      "source": [
        "### Exploratory Data Analysis"
      ]
    },
    {
      "cell_type": "code",
      "execution_count": null,
      "metadata": {
        "id": "CAEH9-zmWgrQ"
      },
      "outputs": [],
      "source": [
        "from mpl_toolkits.mplot3d import Axes3D\n",
        "from sklearn.preprocessing import StandardScaler"
      ]
    },
    {
      "cell_type": "code",
      "execution_count": null,
      "metadata": {
        "colab": {
          "base_uri": "https://localhost:8080/"
        },
        "id": "HDB7BH1Weet3",
        "outputId": "fb2b5036-dd90-42cc-80d9-13b1d24a989a"
      },
      "outputs": [
        {
          "data": {
            "text/plain": [
              "file               0\n",
              "date               0\n",
              "time               0\n",
              "location           0\n",
              "zip code           0\n",
              "subspecies         0\n",
              "health             0\n",
              "pollen_carrying    0\n",
              "caste              0\n",
              "dtype: int64"
            ]
          },
          "execution_count": 13,
          "metadata": {},
          "output_type": "execute_result"
        }
      ],
      "source": [
        "bees.isnull().sum()#checks for missing data"
      ]
    },
    {
      "cell_type": "code",
      "execution_count": null,
      "metadata": {
        "colab": {
          "base_uri": "https://localhost:8080/",
          "height": 342
        },
        "id": "5RFzvSniexae",
        "outputId": "51a8577d-47f9-46d4-f5f1-7e95f38f6efa"
      },
      "outputs": [
        {
          "data": {
            "text/plain": [
              "<matplotlib.axes._subplots.AxesSubplot at 0x7f2ab7e3ab90>"
            ]
          },
          "execution_count": 14,
          "metadata": {},
          "output_type": "execute_result"
        },
        {
          "data": {
            "image/png": "[encoded data removed]",
            "text/plain": [
              "<Figure size 360x360 with 2 Axes>"
            ]
          },
          "metadata": {},
          "output_type": "display_data"
        }
      ],
      "source": [
        "plt.figure(figsize=(5,5))\n",
        "sns.heatmap(bees.corr(),cbar=True,annot=True,cmap='Blues')"
      ]
    },
    {
      "cell_type": "code",
      "execution_count": null,
      "metadata": {
        "colab": {
          "base_uri": "https://localhost:8080/",
          "height": 279
        },
        "id": "wwKo_n1mbujx",
        "outputId": "55841d67-d397-4fda-a54b-ba91c8915d30"
      },
      "outputs": [
        {
          "data": {
            "image/png": "[encoded data removed]",
            "text/plain": [
              "<Figure size 432x288 with 1 Axes>"
            ]
          },
          "metadata": {},
          "output_type": "display_data"
        }
      ],
      "source": [
        "sns.scatterplot(x=\"health\", y=\"subspecies\", data=bees);"
      ]
    },
    {
      "cell_type": "code",
      "execution_count": null,
      "metadata": {
        "colab": {
          "base_uri": "https://localhost:8080/",
          "height": 296
        },
        "id": "JkDdsD3XdT61",
        "outputId": "06772d8d-cf05-4cbb-e137-789a566df345"
      },
      "outputs": [
        {
          "data": {
            "text/plain": [
              "<matplotlib.axes._subplots.AxesSubplot at 0x7f2ab491ac90>"
            ]
          },
          "execution_count": 16,
          "metadata": {},
          "output_type": "execute_result"
        },
        {
          "data": {
            "image/png": "[encoded data removed]",
            "text/plain": [
              "<Figure size 432x288 with 1 Axes>"
            ]
          },
          "metadata": {},
          "output_type": "display_data"
        }
      ],
      "source": [
        "sns.histplot(bees.location,bins=100)"
      ]
    },
    {
      "cell_type": "code",
      "execution_count": null,
      "metadata": {
        "colab": {
          "base_uri": "https://localhost:8080/",
          "height": 638
        },
        "id": "Q1Zi_kc4YH1J",
        "outputId": "fcf78c66-0e82-44e2-e336-2187c8293c74"
      },
      "outputs": [
        {
          "data": {
            "text/plain": [
              "Text(0, 0.5, 'Count')"
            ]
          },
          "execution_count": 17,
          "metadata": {},
          "output_type": "execute_result"
        },
        {
          "data": {
            "image/png": "[encoded data removed]",
            "text/plain": [
              "<Figure size 864x576 with 4 Axes>"
            ]
          },
          "metadata": {},
          "output_type": "display_data"
        }
      ],
      "source": [
        "f, ax = plt.subplots(nrows=2, ncols=2, figsize=(12,8))\n",
        "\n",
        "bees.subspecies.value_counts().plot(kind='bar',ax=ax[0, 0])\n",
        "ax[0,0].set_ylabel('Count')\n",
        "ax[0,0].set_title('Subspecies')\n",
        "\n",
        "bees.location.value_counts().plot(kind='bar', ax=ax[0, 1])\n",
        "ax[0,1].set_title('Location')\n",
        "ax[0,1].set_ylabel('Count')\n",
        "\n",
        "bees.caste.value_counts().plot(kind='bar', ax=ax[1, 0])\n",
        "ax[1,0].set_title('Caste')\n",
        "ax[1,0].set_ylabel('Count')\n",
        "\n",
        "bees.health.value_counts().plot(kind='bar', ax=ax[1,1])\n",
        "ax[1,1].set_title('Health')\n",
        "ax[1,1].set_ylabel('Count')\n"
      ]
    },
    {
      "cell_type": "code",
      "execution_count": null,
      "metadata": {
        "id": "GcgNS37OWzF_"
      },
      "outputs": [],
      "source": [
        "# Distribution graphs (histogram/bar graph) of column data\n",
        "def plotPerColumnDistribution(df, nGraphShown, nGraphPerRow):\n",
        "    nunique = df.nunique()\n",
        "    df = df[[col for col in df if nunique[col] > 1 and nunique[col] < 50]] # For displaying purposes, pick columns that have between 1 and 50 unique values\n",
        "    nRow, nCol = df.shape\n",
        "    columnNames = list(df)\n",
        "    nGraphRow = (nCol + nGraphPerRow - 1) / nGraphPerRow\n",
        "    plt.figure(num = None, figsize = (6 * nGraphPerRow, 8 * nGraphRow), dpi = 80, facecolor = 'w', edgecolor = 'k')\n",
        "    for i in range(min(nCol, nGraphShown)):\n",
        "        plt.subplot(nGraphRow, nGraphPerRow, i + 1)\n",
        "        columnDf = df.iloc[:, i]\n",
        "        if (not np.issubdtype(type(columnDf.iloc[0]), np.number)):\n",
        "            valueCounts = columnDf.value_counts()\n",
        "            valueCounts.plot.bar()\n",
        "        else:\n",
        "            columnDf.hist()\n",
        "        plt.ylabel('counts')\n",
        "        plt.xticks(rotation = 90)\n",
        "        plt.title(f'{columnNames[i]} (column {i})')\n",
        "    plt.tight_layout(pad = 1.0, w_pad = 1.0, h_pad = 1.0)\n",
        "    plt.show\n"
      ]
    },
    {
      "cell_type": "code",
      "execution_count": null,
      "metadata": {
        "colab": {
          "base_uri": "https://localhost:8080/",
          "height": 569
        },
        "id": "82DbMMC-2wna",
        "outputId": "b5816ec7-41c8-4ae9-c059-656f667c87d4"
      },
      "outputs": [
        {
          "data": {
            "image/png": "[encoded data removed]",
            "text/plain": [
              "<Figure size 2400x1408 with 7 Axes>"
            ]
          },
          "metadata": {},
          "output_type": "display_data"
        }
      ],
      "source": [
        "plotPerColumnDistribution(bees, 10, 5)"
      ]
    },
    {
      "cell_type": "code",
      "execution_count": null,
      "metadata": {
        "colab": {
          "base_uri": "https://localhost:8080/"
        },
        "id": "7gEM2i1SIkDg",
        "outputId": "80114b48-0564-4f74-dc10-41373822d022"
      },
      "outputs": [
        {
          "data": {
            "text/plain": [
              "1537"
            ]
          },
          "execution_count": 20,
          "metadata": {},
          "output_type": "execute_result"
        }
      ],
      "source": [
        "healthy = []\n",
        "Subspecies = list(bees['subspecies'].unique())\n",
        "healthy_bees = bees.loc[bees['health']!='healthy']\n",
        "res = healthy_bees['subspecies']=='-1'\n",
        "count=0\n",
        "for i in res:\n",
        "  if i==False:\n",
        "    count+=1\n",
        "count"
      ]
    },
    {
      "cell_type": "code",
      "execution_count": null,
      "metadata": {
        "colab": {
          "base_uri": "https://localhost:8080/",
          "height": 295
        },
        "id": "Y1FgbIZ2AZp5",
        "outputId": "3c40447a-c095-426e-e31e-c8b33d65ed29"
      },
      "outputs": [
        {
          "data": {
            "image/png": "[encoded data removed]",
            "text/plain": [
              "<Figure size 432x288 with 1 Axes>"
            ]
          },
          "metadata": {},
          "output_type": "display_data"
        }
      ],
      "source": [
        "import numpy as np\n",
        "import matplotlib.pyplot as plt\n",
        "\n",
        "Subspecies = list(bees['subspecies'].unique())\n",
        "\n",
        "healthy = []\n",
        "healthy_bees = bees.loc[bees['health']=='healthy']\n",
        "for ss in Subspecies:\n",
        "  count = 0\n",
        "  res = (healthy_bees['subspecies']==ss)\n",
        "  for i in res:\n",
        "    if i==True:\n",
        "      count+=1\n",
        "  healthy.append(count)\n",
        "\n",
        "unhealthy = []\n",
        "unhealthy_bees = bees.loc[bees['health']!='healthy']\n",
        "for ss in Subspecies:\n",
        "  count = 0\n",
        "  res = (unhealthy_bees['subspecies']==ss)\n",
        "  for i in res:\n",
        "    if i==True:\n",
        "      count+=1\n",
        "  unhealthy.append(count)\n",
        "\n",
        "n=7\n",
        "r = np.arange(n)\n",
        "width = 0.25\n",
        "\n",
        "\n",
        "plt.bar(r, healthy, color = 'g',\n",
        "\t\twidth = width, edgecolor = 'black',\n",
        "\t\tlabel='Healthy')\n",
        "plt.bar(r + width, unhealthy, color = 'b',\n",
        "\t\twidth = width, edgecolor = 'black',\n",
        "\t\tlabel='Unhealthy')\n",
        "\n",
        "plt.xlabel(\"Subspecies\")\n",
        "plt.ylabel(\"Health\")\n",
        "plt.title(\"Health of Bees in each Subspecies\")\n",
        "\n",
        "# plt.grid(linestyle='--')\n",
        "plt.xticks(r + width/2,Subspecies)\n",
        "plt.legend()\n",
        "\n",
        "plt.show()"
      ]
    },
    {
      "cell_type": "markdown",
      "metadata": {
        "id": "TBWVO4SGA3ak"
      },
      "source": [
        "## Moving Files"
      ]
    },
    {
      "cell_type": "code",
      "execution_count": null,
      "metadata": {
        "colab": {
          "base_uri": "https://localhost:8080/"
        },
        "id": "W9VUCnxfHZst",
        "outputId": "7bdd9cfb-7700-4092-8402-b11025235513"
      },
      "outputs": [
        {
          "data": {
            "text/plain": [
              "array(['-1', 'Italian honey bee', 'VSH Italian honey bee',\n",
              "       'Carniolan honey bee', 'Russian honey bee',\n",
              "       '1 Mixed local stock 2', 'Western honey bee'], dtype=object)"
            ]
          },
          "execution_count": 22,
          "metadata": {},
          "output_type": "execute_result"
        }
      ],
      "source": [
        "bees['subspecies'].unique()"
      ]
    },
    {
      "cell_type": "code",
      "execution_count": null,
      "metadata": {
        "id": "N2OfUUCVsNL1"
      },
      "outputs": [],
      "source": [
        "bees['subspecies'] = bees['subspecies'].replace(['Italian honey bee','VSH Italian honey bee','Carniolan honey bee','1 Mixed local stock 2','Russian honey bee','Western honey bee'],\n",
        "             ['Italian','VSH_Italian','Carniolan','1_Mixed_local_stock_2','Russian','Western'])"
      ]
    },
    {
      "cell_type": "code",
      "execution_count": null,
      "metadata": {
        "colab": {
          "base_uri": "https://localhost:8080/",
          "height": 424
        },
        "id": "n8lBwBogrmoz",
        "outputId": "bb9f7954-0507-4e06-d56e-540c05d1a0e1"
      },
      "outputs": [
        {
          "data": {
            "text/html": [
              "\n",
              "  <div id=\"df-44ed794f-e736-485a-9a1b-51fc937feeee\">\n",
              "    <div class=\"colab-df-container\">\n",
              "      <div>\n",
              "<style scoped>\n",
              "    .dataframe tbody tr th:only-of-type {\n",
              "        vertical-align: middle;\n",
              "    }\n",
              "\n",
              "    .dataframe tbody tr th {\n",
              "        vertical-align: top;\n",
              "    }\n",
              "\n",
              "    .dataframe thead th {\n",
              "        text-align: right;\n",
              "    }\n",
              "</style>\n",
              "<table border=\"1\" class=\"dataframe\">\n",
              "  <thead>\n",
              "    <tr style=\"text-align: right;\">\n",
              "      <th></th>\n",
              "      <th>file</th>\n",
              "      <th>date</th>\n",
              "      <th>time</th>\n",
              "      <th>location</th>\n",
              "      <th>zip code</th>\n",
              "      <th>subspecies</th>\n",
              "      <th>health</th>\n",
              "      <th>pollen_carrying</th>\n",
              "      <th>caste</th>\n",
              "    </tr>\n",
              "  </thead>\n",
              "  <tbody>\n",
              "    <tr>\n",
              "      <th>1943</th>\n",
              "      <td>002_024.png</td>\n",
              "      <td>8/25/18</td>\n",
              "      <td>14:00</td>\n",
              "      <td>Keene, NH, USA</td>\n",
              "      <td>3431</td>\n",
              "      <td>Russian</td>\n",
              "      <td>healthy</td>\n",
              "      <td>False</td>\n",
              "      <td>worker</td>\n",
              "    </tr>\n",
              "    <tr>\n",
              "      <th>1944</th>\n",
              "      <td>002_030.png</td>\n",
              "      <td>8/25/18</td>\n",
              "      <td>14:00</td>\n",
              "      <td>Keene, NH, USA</td>\n",
              "      <td>3431</td>\n",
              "      <td>Russian</td>\n",
              "      <td>healthy</td>\n",
              "      <td>False</td>\n",
              "      <td>worker</td>\n",
              "    </tr>\n",
              "    <tr>\n",
              "      <th>1945</th>\n",
              "      <td>002_031.png</td>\n",
              "      <td>8/25/18</td>\n",
              "      <td>14:00</td>\n",
              "      <td>Keene, NH, USA</td>\n",
              "      <td>3431</td>\n",
              "      <td>Russian</td>\n",
              "      <td>healthy</td>\n",
              "      <td>False</td>\n",
              "      <td>worker</td>\n",
              "    </tr>\n",
              "    <tr>\n",
              "      <th>1946</th>\n",
              "      <td>002_033.png</td>\n",
              "      <td>8/25/18</td>\n",
              "      <td>14:00</td>\n",
              "      <td>Keene, NH, USA</td>\n",
              "      <td>3431</td>\n",
              "      <td>Russian</td>\n",
              "      <td>healthy</td>\n",
              "      <td>False</td>\n",
              "      <td>worker</td>\n",
              "    </tr>\n",
              "    <tr>\n",
              "      <th>1947</th>\n",
              "      <td>002_026.png</td>\n",
              "      <td>8/25/18</td>\n",
              "      <td>14:00</td>\n",
              "      <td>Keene, NH, USA</td>\n",
              "      <td>3431</td>\n",
              "      <td>Russian</td>\n",
              "      <td>healthy</td>\n",
              "      <td>False</td>\n",
              "      <td>worker</td>\n",
              "    </tr>\n",
              "    <tr>\n",
              "      <th>...</th>\n",
              "      <td>...</td>\n",
              "      <td>...</td>\n",
              "      <td>...</td>\n",
              "      <td>...</td>\n",
              "      <td>...</td>\n",
              "      <td>...</td>\n",
              "      <td>...</td>\n",
              "      <td>...</td>\n",
              "      <td>...</td>\n",
              "    </tr>\n",
              "    <tr>\n",
              "      <th>4167</th>\n",
              "      <td>032_904.png</td>\n",
              "      <td>8/21/18</td>\n",
              "      <td>9:00</td>\n",
              "      <td>Des Moines, IA, USA</td>\n",
              "      <td>50315</td>\n",
              "      <td>Russian</td>\n",
              "      <td>healthy</td>\n",
              "      <td>False</td>\n",
              "      <td>worker</td>\n",
              "    </tr>\n",
              "    <tr>\n",
              "      <th>4168</th>\n",
              "      <td>032_910.png</td>\n",
              "      <td>8/21/18</td>\n",
              "      <td>9:00</td>\n",
              "      <td>Des Moines, IA, USA</td>\n",
              "      <td>50315</td>\n",
              "      <td>Russian</td>\n",
              "      <td>healthy</td>\n",
              "      <td>False</td>\n",
              "      <td>worker</td>\n",
              "    </tr>\n",
              "    <tr>\n",
              "      <th>4169</th>\n",
              "      <td>032_899.png</td>\n",
              "      <td>8/21/18</td>\n",
              "      <td>9:00</td>\n",
              "      <td>Des Moines, IA, USA</td>\n",
              "      <td>50315</td>\n",
              "      <td>Russian</td>\n",
              "      <td>healthy</td>\n",
              "      <td>False</td>\n",
              "      <td>worker</td>\n",
              "    </tr>\n",
              "    <tr>\n",
              "      <th>4170</th>\n",
              "      <td>032_906.png</td>\n",
              "      <td>8/21/18</td>\n",
              "      <td>9:00</td>\n",
              "      <td>Des Moines, IA, USA</td>\n",
              "      <td>50315</td>\n",
              "      <td>Russian</td>\n",
              "      <td>healthy</td>\n",
              "      <td>False</td>\n",
              "      <td>worker</td>\n",
              "    </tr>\n",
              "    <tr>\n",
              "      <th>4171</th>\n",
              "      <td>032_912.png</td>\n",
              "      <td>8/21/18</td>\n",
              "      <td>9:00</td>\n",
              "      <td>Des Moines, IA, USA</td>\n",
              "      <td>50315</td>\n",
              "      <td>Russian</td>\n",
              "      <td>healthy</td>\n",
              "      <td>False</td>\n",
              "      <td>worker</td>\n",
              "    </tr>\n",
              "  </tbody>\n",
              "</table>\n",
              "<p>527 rows × 9 columns</p>\n",
              "</div>\n",
              "      <button class=\"colab-df-convert\" onclick=\"convertToInteractive('df-44ed794f-e736-485a-9a1b-51fc937feeee')\"\n",
              "              title=\"Convert this dataframe to an interactive table.\"\n",
              "              style=\"display:none;\">\n",
              "        \n",
              "  <svg xmlns=\"http://www.w3.org/2000/svg\" height=\"24px\"viewBox=\"0 0 24 24\"\n",
              "       width=\"24px\">\n",
              "    <path d=\"M0 0h24v24H0V0z\" fill=\"none\"/>\n",
              "    <path d=\"M18.56 5.44l.94 2.06.94-2.06 2.06-.94-2.06-.94-.94-2.06-.94 2.06-2.06.94zm-11 1L8.5 8.5l.94-2.06 2.06-.94-2.06-.94L8.5 2.5l-.94 2.06-2.06.94zm10 10l.94 2.06.94-2.06 2.06-.94-2.06-.94-.94-2.06-.94 2.06-2.06.94z\"/><path d=\"M17.41 7.96l-1.37-1.37c-.4-.4-.92-.59-1.43-.59-.52 0-1.04.2-1.43.59L10.3 9.45l-7.72 7.72c-.78.78-.78 2.05 0 2.83L4 21.41c.39.39.9.59 1.41.59.51 0 1.02-.2 1.41-.59l7.78-7.78 2.81-2.81c.8-.78.8-2.07 0-2.86zM5.41 20L4 18.59l7.72-7.72 1.47 1.35L5.41 20z\"/>\n",
              "  </svg>\n",
              "      </button>\n",
              "      \n",
              "  <style>\n",
              "    .colab-df-container {\n",
              "      display:flex;\n",
              "      flex-wrap:wrap;\n",
              "      gap: 12px;\n",
              "    }\n",
              "\n",
              "    .colab-df-convert {\n",
              "      background-color: #E8F0FE;\n",
              "      border: none;\n",
              "      border-radius: 50%;\n",
              "      cursor: pointer;\n",
              "      display: none;\n",
              "      fill: #1967D2;\n",
              "      height: 32px;\n",
              "      padding: 0 0 0 0;\n",
              "      width: 32px;\n",
              "    }\n",
              "\n",
              "    .colab-df-convert:hover {\n",
              "      background-color: #E2EBFA;\n",
              "      box-shadow: 0px 1px 2px rgba(60, 64, 67, 0.3), 0px 1px 3px 1px rgba(60, 64, 67, 0.15);\n",
              "      fill: #174EA6;\n",
              "    }\n",
              "\n",
              "    [theme=dark] .colab-df-convert {\n",
              "      background-color: #3B4455;\n",
              "      fill: #D2E3FC;\n",
              "    }\n",
              "\n",
              "    [theme=dark] .colab-df-convert:hover {\n",
              "      background-color: #434B5C;\n",
              "      box-shadow: 0px 1px 3px 1px rgba(0, 0, 0, 0.15);\n",
              "      filter: drop-shadow(0px 1px 2px rgba(0, 0, 0, 0.3));\n",
              "      fill: #FFFFFF;\n",
              "    }\n",
              "  </style>\n",
              "\n",
              "      <script>\n",
              "        const buttonEl =\n",
              "          document.querySelector('#df-44ed794f-e736-485a-9a1b-51fc937feeee button.colab-df-convert');\n",
              "        buttonEl.style.display =\n",
              "          google.colab.kernel.accessAllowed ? 'block' : 'none';\n",
              "\n",
              "        async function convertToInteractive(key) {\n",
              "          const element = document.querySelector('#df-44ed794f-e736-485a-9a1b-51fc937feeee');\n",
              "          const dataTable =\n",
              "            await google.colab.kernel.invokeFunction('convertToInteractive',\n",
              "                                                     [key], {});\n",
              "          if (!dataTable) return;\n",
              "\n",
              "          const docLinkHtml = 'Like what you see? Visit the ' +\n",
              "            '<a target=\"_blank\" href=https://colab.research.google.com/notebooks/data_table.ipynb>data table notebook</a>'\n",
              "            + ' to learn more about interactive tables.';\n",
              "          element.innerHTML = '';\n",
              "          dataTable['output_type'] = 'display_data';\n",
              "          await google.colab.output.renderOutput(dataTable, element);\n",
              "          const docLink = document.createElement('div');\n",
              "          docLink.innerHTML = docLinkHtml;\n",
              "          element.appendChild(docLink);\n",
              "        }\n",
              "      </script>\n",
              "    </div>\n",
              "  </div>\n",
              "  "
            ],
            "text/plain": [
              "             file     date   time             location  zip code subspecies  \\\n",
              "1943  002_024.png  8/25/18  14:00       Keene, NH, USA      3431    Russian   \n",
              "1944  002_030.png  8/25/18  14:00       Keene, NH, USA      3431    Russian   \n",
              "1945  002_031.png  8/25/18  14:00       Keene, NH, USA      3431    Russian   \n",
              "1946  002_033.png  8/25/18  14:00       Keene, NH, USA      3431    Russian   \n",
              "1947  002_026.png  8/25/18  14:00       Keene, NH, USA      3431    Russian   \n",
              "...           ...      ...    ...                  ...       ...        ...   \n",
              "4167  032_904.png  8/21/18   9:00  Des Moines, IA, USA     50315    Russian   \n",
              "4168  032_910.png  8/21/18   9:00  Des Moines, IA, USA     50315    Russian   \n",
              "4169  032_899.png  8/21/18   9:00  Des Moines, IA, USA     50315    Russian   \n",
              "4170  032_906.png  8/21/18   9:00  Des Moines, IA, USA     50315    Russian   \n",
              "4171  032_912.png  8/21/18   9:00  Des Moines, IA, USA     50315    Russian   \n",
              "\n",
              "       health  pollen_carrying   caste  \n",
              "1943  healthy            False  worker  \n",
              "1944  healthy            False  worker  \n",
              "1945  healthy            False  worker  \n",
              "1946  healthy            False  worker  \n",
              "1947  healthy            False  worker  \n",
              "...       ...              ...     ...  \n",
              "4167  healthy            False  worker  \n",
              "4168  healthy            False  worker  \n",
              "4169  healthy            False  worker  \n",
              "4170  healthy            False  worker  \n",
              "4171  healthy            False  worker  \n",
              "\n",
              "[527 rows x 9 columns]"
            ]
          },
          "execution_count": 24,
          "metadata": {},
          "output_type": "execute_result"
        }
      ],
      "source": [
        "bees.loc[bees['subspecies']=='Russian']"
      ]
    },
    {
      "cell_type": "code",
      "execution_count": null,
      "metadata": {
        "colab": {
          "base_uri": "https://localhost:8080/"
        },
        "id": "hI0B_Jg1qK_y",
        "outputId": "4f943dc1-814d-43c9-bedc-357528639d00"
      },
      "outputs": [
        {
          "data": {
            "text/plain": [
              "3644    Russian\n",
              "Name: subspecies, dtype: object"
            ]
          },
          "execution_count": 25,
          "metadata": {},
          "output_type": "execute_result"
        }
      ],
      "source": [
        "row = bees.loc[bees['file']=='001_043.png']\n",
        "class_name = row['subspecies']\n",
        "class_name"
      ]
    },
    {
      "cell_type": "code",
      "execution_count": null,
      "metadata": {
        "colab": {
          "base_uri": "https://localhost:8080/",
          "height": 35
        },
        "id": "2LCDGqT0pmKf",
        "outputId": "e07c8826-703a-4966-dd09-3060ddb4e666"
      },
      "outputs": [
        {
          "data": {
            "application/vnd.google.colaboratory.intrinsic+json": {
              "type": "string"
            },
            "text/plain": [
              "'Russian'"
            ]
          },
          "execution_count": 26,
          "metadata": {},
          "output_type": "execute_result"
        }
      ],
      "source": [
        "row = bees.loc[bees['file']=='001_043.png']\n",
        "class_name = str(row['subspecies']).split(\"\\n\")\n",
        "class_name[0][8:]"
      ]
    },
    {
      "cell_type": "code",
      "execution_count": null,
      "metadata": {
        "colab": {
          "base_uri": "https://localhost:8080/",
          "height": 35
        },
        "id": "9_Fsx1Gx6Epc",
        "outputId": "428ef991-c096-447f-e198-1f9315b96000"
      },
      "outputs": [
        {
          "data": {
            "application/vnd.google.colaboratory.intrinsic+json": {
              "type": "string"
            },
            "text/plain": [
              "'Italian'"
            ]
          },
          "execution_count": 27,
          "metadata": {},
          "output_type": "execute_result"
        }
      ],
      "source": [
        "row = bees.loc[bees['file']=='017_129.png']\n",
        "class_name = str(row['subspecies']).split(\"\\n\")[0]\n",
        "if 'VSH' in class_name: class_name = \"VSH_Italian\"\n",
        "elif 'Italian' in class_name: class_name='Italian'\n",
        "elif 'Russian' in class_name: class_name='Russian'\n",
        "elif 'Carniolan' in class_name: class_name='Carniolan'\n",
        "elif 'Western' in class_name: class_name='Western'\n",
        "elif 'Mixed' in class_name: class_name='1_Mixed_local_stock_2'\n",
        "else : class_name='-1'\n",
        "\n",
        "class_name"
      ]
    },
    {
      "cell_type": "markdown",
      "metadata": {
        "id": "NzyFHILjBor1"
      },
      "source": [
        "### Bees Subspecies"
      ]
    },
    {
      "cell_type": "code",
      "execution_count": null,
      "metadata": {
        "id": "ZRFOPdOgE8cJ"
      },
      "outputs": [],
      "source": [
        "#Bees Subspecies\n",
        "import shutil\n",
        "\n",
        "root_dir = './'\n",
        "src_dir = '/content/bee_imgs/bee_imgs'\n",
        "try:\n",
        "  os.makedirs(root_dir +'bees_subspecies')\n",
        "except: pass\n",
        "\n",
        "# giving file extension\n",
        "ext = ('.png')\n",
        "\n",
        "# iterating over all files in posClsSrc\n",
        "for fileName in os.listdir(src_dir):\n",
        "    if fileName.endswith(ext):\n",
        "        row = bees.loc[bees['file']==str(fileName)]\n",
        "        class_name = str(row['subspecies']).split(\"\\n\")[0]\n",
        "        if 'VSH' in class_name: class_name = \"VSH_Italian\"\n",
        "        elif 'Italian' in class_name: class_name='Italian'\n",
        "        elif 'Russian' in class_name: class_name='Russian'\n",
        "        elif 'Carniolan' in class_name: class_name='Carniolan'\n",
        "        elif 'Western' in class_name: class_name='Western'\n",
        "        elif 'Mixed' in class_name: class_name='1_Mixed_local_stock_2'\n",
        "        else : class_name='-1'\n",
        "        src_path = f\"{src_dir}/{fileName}\"\n",
        "        dest_path = f\"/content/bees_subspecies/{class_name}/{fileName}\" \n",
        "        try:\n",
        "          os.makedirs(dest_path)\n",
        "        except:\n",
        "          pass\n",
        "        shutil.copy(src_path, dest_path)\n",
        "    else:\n",
        "        continue"
      ]
    },
    {
      "cell_type": "markdown",
      "metadata": {
        "id": "n9h_4z26BuOt"
      },
      "source": [
        "### Bees Health"
      ]
    },
    {
      "cell_type": "code",
      "execution_count": null,
      "metadata": {
        "colab": {
          "base_uri": "https://localhost:8080/"
        },
        "id": "8j-Z5Uu1QcgF",
        "outputId": "5a7bff8a-06da-405a-c3f5-78edd762a191"
      },
      "outputs": [
        {
          "data": {
            "text/plain": [
              "array(['hive being robbed', 'healthy', 'few varrao, hive beetles',\n",
              "       'ant problems', 'missing queen', 'Varroa, Small Hive Beetles'],\n",
              "      dtype=object)"
            ]
          },
          "execution_count": 29,
          "metadata": {},
          "output_type": "execute_result"
        }
      ],
      "source": [
        "bees['health'].unique()"
      ]
    },
    {
      "cell_type": "code",
      "execution_count": null,
      "metadata": {
        "colab": {
          "base_uri": "https://localhost:8080/"
        },
        "id": "wLGuOgJ1xHQI",
        "outputId": "86c47b65-064a-4e05-f997-8cb5113599ed"
      },
      "outputs": [
        {
          "data": {
            "application/vnd.google.colaboratory.intrinsic+json": {
              "type": "string"
            },
            "text/plain": [
              "'healthy'"
            ]
          },
          "execution_count": 30,
          "metadata": {},
          "output_type": "execute_result"
        }
      ],
      "source": [
        "row = bees.loc[bees['file']=='017_000.png']\n",
        "class_name = str(row['health']).split(\"\\n\")[0]\n",
        "class_name.split(\" \")[-1]"
      ]
    },
    {
      "cell_type": "code",
      "execution_count": null,
      "metadata": {
        "id": "IXiSO1Yh0RbZ"
      },
      "outputs": [],
      "source": [
        "import shutil\n",
        "\n",
        "root_dir = './'\n",
        "src_dir = '/content/bee_imgs/bee_imgs'\n",
        "try:\n",
        "  os.makedirs(root_dir +'bees_health')\n",
        "except: pass\n",
        "\n",
        "# giving file extension\n",
        "ext = ('.png')\n",
        "\n",
        "# iterating over all files in posClsSrc\n",
        "for fileName in os.listdir(src_dir):\n",
        "    if fileName.endswith(ext):\n",
        "        row = bees.loc[bees['file']==str(fileName)]\n",
        "        class_name = str(row['health']).split(\"\\n\")[0]\n",
        "        class_name = class_name.split(\" \")[-1]\n",
        "        if class_name!='healthy': class_name = 'unhealthy'\n",
        "        \n",
        "        src_path = f\"{src_dir}/{fileName}\"\n",
        "        dest_path = f\"/content/bees_health/{class_name}/{fileName}\" \n",
        "        try:\n",
        "          os.makedirs(dest_path)\n",
        "        except:\n",
        "          pass\n",
        "        shutil.copy(src_path, dest_path)\n",
        "    else:\n",
        "        continue"
      ]
    },
    {
      "cell_type": "markdown",
      "metadata": {
        "id": "UR5oicXWIjwF"
      },
      "source": [
        "### Bees Pollen Carrying"
      ]
    },
    {
      "cell_type": "code",
      "execution_count": null,
      "metadata": {
        "colab": {
          "base_uri": "https://localhost:8080/"
        },
        "id": "c0ymjPxeIjwG",
        "outputId": "e82ecf21-8dc5-46b0-8078-f58ecc4066ab"
      },
      "outputs": [
        {
          "data": {
            "text/plain": [
              "array([False,  True])"
            ]
          },
          "execution_count": 32,
          "metadata": {},
          "output_type": "execute_result"
        }
      ],
      "source": [
        "bees['pollen_carrying'].unique()"
      ]
    },
    {
      "cell_type": "code",
      "execution_count": null,
      "metadata": {
        "colab": {
          "base_uri": "https://localhost:8080/"
        },
        "id": "DmvJgUgfIjwG",
        "outputId": "e6d01a46-e9f7-46a2-c0ae-70336a83ed71"
      },
      "outputs": [
        {
          "data": {
            "application/vnd.google.colaboratory.intrinsic+json": {
              "type": "string"
            },
            "text/plain": [
              "'False'"
            ]
          },
          "execution_count": 33,
          "metadata": {},
          "output_type": "execute_result"
        }
      ],
      "source": [
        "row = bees.loc[bees['file']=='017_000.png']\n",
        "class_name = str(row['pollen_carrying']).split(\"\\n\")[0]\n",
        "class_name.split(\" \")[-1]"
      ]
    },
    {
      "cell_type": "code",
      "execution_count": null,
      "metadata": {
        "id": "LV0Grr4PIjwG"
      },
      "outputs": [],
      "source": [
        "import shutil\n",
        "\n",
        "root_dir = './'\n",
        "src_dir = '/content/bee_imgs/bee_imgs'\n",
        "try:\n",
        "  os.makedirs(root_dir +'pollen_carrying')\n",
        "except: pass\n",
        "\n",
        "# giving file extension\n",
        "ext = ('.png')\n",
        "\n",
        "# iterating over all files in posClsSrc\n",
        "for fileName in os.listdir(src_dir):\n",
        "    if fileName.endswith(ext):\n",
        "        row = bees.loc[bees['file']==str(fileName)]\n",
        "        class_name = str(row['pollen_carrying']).split(\"\\n\")[0]\n",
        "        class_name = class_name.split(\" \")[-1]\n",
        "        if class_name=='True': class_name = 'pollen_carrying'\n",
        "        else: class_name='not_pollen_carrying'\n",
        "        \n",
        "        src_path = f\"{src_dir}/{fileName}\"\n",
        "        dest_path = f\"/content/pollen_carrying/{class_name}/{fileName}\" \n",
        "        try:\n",
        "          os.makedirs(dest_path)\n",
        "        except:\n",
        "          pass\n",
        "        shutil.copy(src_path, dest_path)\n",
        "    else:\n",
        "        continue"
      ]
    },
    {
      "cell_type": "code",
      "execution_count": null,
      "metadata": {
        "id": "HfmfntcfKafF"
      },
      "outputs": [],
      "source": [
        ""
      ]
    },
    {
      "cell_type": "markdown",
      "metadata": {
        "id": "jQmnecJnNhH0"
      },
      "source": [
        "### Bees Caste"
      ]
    },
    {
      "cell_type": "code",
      "execution_count": null,
      "metadata": {
        "colab": {
          "base_uri": "https://localhost:8080/"
        },
        "id": "CO120OuGNhH1",
        "outputId": "34d1c558-3e16-418a-b464-ac0d4826b498"
      },
      "outputs": [
        {
          "data": {
            "text/plain": [
              "array(['worker'], dtype=object)"
            ]
          },
          "execution_count": 35,
          "metadata": {},
          "output_type": "execute_result"
        }
      ],
      "source": [
        "bees['caste'].unique()"
      ]
    },
    {
      "cell_type": "markdown",
      "metadata": {
        "id": "sFW2vFJUYHhU"
      },
      "source": [
        "## Image Preprocessing (Augmentation)"
      ]
    },
    {
      "cell_type": "code",
      "execution_count": null,
      "metadata": {
        "id": "MTTkq8UHulob"
      },
      "outputs": [],
      "source": [
        "import skimage\n",
        "import skimage.io\n",
        "import skimage.transform"
      ]
    },
    {
      "cell_type": "code",
      "execution_count": null,
      "metadata": {
        "id": "sSHxw1YtuLw5"
      },
      "outputs": [],
      "source": [
        "# def read_image_sizes(file_name):\n",
        "#     image = skimage.io.imread(IMAGE_PATH + file_name)\n",
        "#     return list(image.shape)\n",
        "# read_image_sizes('001_043.png')"
      ]
    },
    {
      "cell_type": "code",
      "execution_count": null,
      "metadata": {
        "id": "3jReUEXV_vhC"
      },
      "outputs": [],
      "source": [
        "# def read_image_sizes(file_name):\n",
        "#     image = skimage.io.imread(IMAGE_PATH + file_name)\n",
        "#     return list(image.shape)\n",
        "# read_image_sizes('017_000.png')"
      ]
    },
    {
      "cell_type": "markdown",
      "metadata": {
        "id": "uF6KnHoPW_n3"
      },
      "source": [
        "The above two code stubs shows that every image in the dataset has differnt size."
      ]
    },
    {
      "cell_type": "code",
      "execution_count": null,
      "metadata": {
        "id": "XIB_JupjtWHC"
      },
      "outputs": [],
      "source": [
        "IMAGE_PATH = '/content/bee_imgs/bee_imgs/'\n",
        "IMAGE_WIDTH = 100\n",
        "IMAGE_HEIGHT = 100\n",
        "IMAGE_CHANNELS = 3\n",
        "RANDOM_STATE = 2018\n",
        "TEST_SIZE = 0.2\n",
        "VAL_SIZE = 0.2\n",
        "CONV_2D_DIM_1 = 16\n",
        "CONV_2D_DIM_2 = 16\n",
        "CONV_2D_DIM_3 = 32\n",
        "CONV_2D_DIM_4 = 64\n",
        "MAX_POOL_DIM = 2\n",
        "KERNEL_SIZE = 3\n",
        "BATCH_SIZE = 32\n",
        "NO_EPOCHS_1 = 5\n",
        "NO_EPOCHS_2 = 15\n",
        "NO_EPOCHS_3 = 50\n",
        "PATIENCE = 5\n",
        "VERBOSE = 1"
      ]
    },
    {
      "cell_type": "code",
      "execution_count": null,
      "metadata": {
        "id": "eioHVg9zmbvt"
      },
      "outputs": [],
      "source": [
        "from keras.preprocessing.image import ImageDataGenerator\n",
        "train_datagen=ImageDataGenerator(rescale=1./255, validation_split=0.2)\n",
        "test_datagen=ImageDataGenerator(rescale=1./255)"
      ]
    },
    {
      "cell_type": "code",
      "execution_count": null,
      "metadata": {
        "colab": {
          "base_uri": "https://localhost:8080/"
        },
        "id": "5Fc2sv8moR0A",
        "outputId": "decc0c88-ee86-48c1-fcd8-79d87a26e03b"
      },
      "outputs": [
        {
          "name": "stdout",
          "output_type": "stream",
          "text": [
            "Found 4141 images belonging to 7 classes.\n",
            "Found 1031 images belonging to 7 classes.\n"
          ]
        }
      ],
      "source": [
        "#Subspecies Data\n",
        "subspecies_train_data = train_datagen.flow_from_directory('/content/bees_subspecies',\n",
        "                                               target_size=(224,224),\n",
        "                                               batch_size=32,\n",
        "                                               class_mode='categorical',\n",
        "                                               subset='training')\n",
        "subspecies_val_data = train_datagen.flow_from_directory('/content/bees_subspecies',\n",
        "                                               target_size=(224,224),\n",
        "                                               batch_size=32,\n",
        "                                               class_mode='categorical',\n",
        "                                               subset='validation')\n",
        "# test_data = test_datagen.flow_from_directory('/content/bees_subspecies',\n",
        "#                                                target_size=(224,224),\n",
        "#                                                batch_size=32,\n",
        "#                                                class_mode='categorical')"
      ]
    },
    {
      "cell_type": "code",
      "execution_count": null,
      "metadata": {
        "colab": {
          "base_uri": "https://localhost:8080/"
        },
        "id": "Nf1kANvnVc5S",
        "outputId": "f240634a-3472-4135-955e-4d20cc9bc6fb"
      },
      "outputs": [
        {
          "name": "stdout",
          "output_type": "stream",
          "text": [
            "Found 4139 images belonging to 2 classes.\n",
            "Found 1033 images belonging to 2 classes.\n"
          ]
        }
      ],
      "source": [
        "#Bees Health Data\n",
        "health_train_data = train_datagen.flow_from_directory('/content/bees_health',\n",
        "                                               target_size=(224,224),\n",
        "                                               batch_size=32,\n",
        "                                               class_mode='categorical',\n",
        "                                               subset='training')\n",
        "health_val_data = train_datagen.flow_from_directory('/content/bees_health',\n",
        "                                               target_size=(224,224),\n",
        "                                               batch_size=32,\n",
        "                                               class_mode='categorical',\n",
        "                                               subset='validation')"
      ]
    },
    {
      "cell_type": "code",
      "execution_count": null,
      "metadata": {
        "colab": {
          "base_uri": "https://localhost:8080/"
        },
        "id": "IWQmD-EbWKDc",
        "outputId": "3a03eef7-8da6-49f5-b200-fd781cc31b13"
      },
      "outputs": [
        {
          "name": "stdout",
          "output_type": "stream",
          "text": [
            "Found 4139 images belonging to 2 classes.\n",
            "Found 1033 images belonging to 2 classes.\n"
          ]
        }
      ],
      "source": [
        "#Pollen Carrying Bees Data\n",
        "pc_train_data = train_datagen.flow_from_directory('/content/pollen_carrying',\n",
        "                                               target_size=(224,224),\n",
        "                                               batch_size=32,\n",
        "                                               class_mode='categorical',\n",
        "                                               subset='training')\n",
        "pc_val_data = train_datagen.flow_from_directory('/content/pollen_carrying',\n",
        "                                               target_size=(224,224),\n",
        "                                               batch_size=32,\n",
        "                                               class_mode='categorical',\n",
        "                                               subset='validation')"
      ]
    },
    {
      "cell_type": "markdown",
      "metadata": {
        "id": "ZDZPgtK6AEAp"
      },
      "source": [
        "# MODELS"
      ]
    },
    {
      "cell_type": "markdown",
      "metadata": {
        "id": "ZWIuofksYWJd"
      },
      "source": [
        "### Model 1 : VGG16 (Subspecies classification)\n",
        "100 Epochs - 95.94% train accuracy\n",
        "\n",
        "\n",
        "\n",
        "\n",
        "\n",
        "\n",
        "\n",
        "\n",
        "\n",
        "\n",
        "\n",
        "\n",
        "\n"
      ]
    },
    {
      "cell_type": "code",
      "execution_count": null,
      "metadata": {
        "colab": {
          "base_uri": "https://localhost:8080/"
        },
        "id": "iywfZ2iLGPW7",
        "outputId": "7d30385a-28fb-40d2-a2dd-72e6c5e13403"
      },
      "outputs": [
        {
          "name": "stdout",
          "output_type": "stream",
          "text": [
            "Downloading data from https://storage.googleapis.com/tensorflow/keras-applications/vgg16/vgg16_weights_tf_dim_ordering_tf_kernels_notop.h5\n",
            "58892288/58889256 [==============================] - 0s 0us/step\n",
            "58900480/58889256 [==============================] - 0s 0us/step\n",
            "Model: \"model\"\n",
            "_________________________________________________________________\n",
            " Layer (type)                Output Shape              Param #   \n",
            "=================================================================\n",
            " input_1 (InputLayer)        [(None, 224, 224, 3)]     0         \n",
            "                                                                 \n",
            " block1_conv1 (Conv2D)       (None, 224, 224, 64)      1792      \n",
            "                                                                 \n",
            " block1_conv2 (Conv2D)       (None, 224, 224, 64)      36928     \n",
            "                                                                 \n",
            " block1_pool (MaxPooling2D)  (None, 112, 112, 64)      0         \n",
            "                                                                 \n",
            " block2_conv1 (Conv2D)       (None, 112, 112, 128)     73856     \n",
            "                                                                 \n",
            " block2_conv2 (Conv2D)       (None, 112, 112, 128)     147584    \n",
            "                                                                 \n",
            " block2_pool (MaxPooling2D)  (None, 56, 56, 128)       0         \n",
            "                                                                 \n",
            " block3_conv1 (Conv2D)       (None, 56, 56, 256)       295168    \n",
            "                                                                 \n",
            " block3_conv2 (Conv2D)       (None, 56, 56, 256)       590080    \n",
            "                                                                 \n",
            " block3_conv3 (Conv2D)       (None, 56, 56, 256)       590080    \n",
            "                                                                 \n",
            " block3_pool (MaxPooling2D)  (None, 28, 28, 256)       0         \n",
            "                                                                 \n",
            " block4_conv1 (Conv2D)       (None, 28, 28, 512)       1180160   \n",
            "                                                                 \n",
            " block4_conv2 (Conv2D)       (None, 28, 28, 512)       2359808   \n",
            "                                                                 \n",
            " block4_conv3 (Conv2D)       (None, 28, 28, 512)       2359808   \n",
            "                                                                 \n",
            " block4_pool (MaxPooling2D)  (None, 14, 14, 512)       0         \n",
            "                                                                 \n",
            " block5_conv1 (Conv2D)       (None, 14, 14, 512)       2359808   \n",
            "                                                                 \n",
            " block5_conv2 (Conv2D)       (None, 14, 14, 512)       2359808   \n",
            "                                                                 \n",
            " block5_conv3 (Conv2D)       (None, 14, 14, 512)       2359808   \n",
            "                                                                 \n",
            " block5_pool (MaxPooling2D)  (None, 7, 7, 512)         0         \n",
            "                                                                 \n",
            " flatten (Flatten)           (None, 25088)             0         \n",
            "                                                                 \n",
            " dense (Dense)               (None, 512)               12845568  \n",
            "                                                                 \n",
            " dropout (Dropout)           (None, 512)               0         \n",
            "                                                                 \n",
            " dense_1 (Dense)             (None, 7)                 3591      \n",
            "                                                                 \n",
            "=================================================================\n",
            "Total params: 27,563,847\n",
            "Trainable params: 12,849,159\n",
            "Non-trainable params: 14,714,688\n",
            "_________________________________________________________________\n"
          ]
        }
      ],
      "source": [
        "import tensorflow\n",
        "from keras.applications.vgg16 import VGG16\n",
        "from keras.layers import Flatten,Dense,Dropout\n",
        "\n",
        "base_model1=VGG16(input_shape=(224,224,3),\n",
        "                 include_top=False,\n",
        "                 weights='imagenet')\n",
        "for layer in base_model1.layers:\n",
        "  layer.trainable=False\n",
        "x=Flatten()(base_model1.output)\n",
        "x=Dense(512,activation='relu')(x)\n",
        "x=Dropout(0.2)(x)\n",
        "x=Dense(7,activation='softmax')(x)\n",
        "\n",
        "model1=tensorflow.keras.Model(base_model1.input,x)\n",
        "model1.summary()"
      ]
    },
    {
      "cell_type": "code",
      "execution_count": null,
      "metadata": {
        "colab": {
          "base_uri": "https://localhost:8080/"
        },
        "id": "1RAcCBb76rqp",
        "outputId": "0dc8414d-d68b-4502-8ede-25686e799dad"
      },
      "outputs": [
        {
          "data": {
            "text/plain": [
              "130"
            ]
          },
          "execution_count": 41,
          "metadata": {},
          "output_type": "execute_result"
        }
      ],
      "source": [
        "len(subspecies_train_data)"
      ]
    },
    {
      "cell_type": "code",
      "execution_count": null,
      "metadata": {
        "colab": {
          "base_uri": "https://localhost:8080/"
        },
        "id": "GD-fXHw1Hc2b",
        "outputId": "59f2f299-4e2d-4c11-f486-6cbb191a47a2"
      },
      "outputs": [
        {
          "name": "stdout",
          "output_type": "stream",
          "text": [
            "Epoch 1/100\n",
            "10/10 [==============================] - 27s 1s/step - loss: 4.6341 - accuracy: 0.4406 - val_loss: 2.1471 - val_accuracy: 0.2803\n",
            "Epoch 2/100\n",
            "10/10 [==============================] - 12s 1s/step - loss: 1.5265 - accuracy: 0.5406 - val_loss: 1.2820 - val_accuracy: 0.7013\n",
            "Epoch 3/100\n",
            "10/10 [==============================] - 12s 1s/step - loss: 0.9428 - accuracy: 0.6969 - val_loss: 1.2082 - val_accuracy: 0.5936\n",
            "Epoch 4/100\n",
            "10/10 [==============================] - 12s 1s/step - loss: 0.6005 - accuracy: 0.7812 - val_loss: 1.1094 - val_accuracy: 0.5965\n",
            "Epoch 5/100\n",
            "10/10 [==============================] - 12s 1s/step - loss: 0.5544 - accuracy: 0.8344 - val_loss: 1.0475 - val_accuracy: 0.6877\n",
            "Epoch 6/100\n",
            "10/10 [==============================] - 12s 1s/step - loss: 0.4575 - accuracy: 0.8500 - val_loss: 1.0177 - val_accuracy: 0.6780\n",
            "Epoch 7/100\n",
            "10/10 [==============================] - 12s 1s/step - loss: 0.4971 - accuracy: 0.8281 - val_loss: 1.1438 - val_accuracy: 0.5703\n",
            "Epoch 8/100\n",
            "10/10 [==============================] - 12s 1s/step - loss: 0.4722 - accuracy: 0.8313 - val_loss: 0.9859 - val_accuracy: 0.6838\n",
            "Epoch 9/100\n",
            "10/10 [==============================] - 12s 1s/step - loss: 0.4267 - accuracy: 0.8500 - val_loss: 0.9953 - val_accuracy: 0.7022\n",
            "Epoch 10/100\n",
            "10/10 [==============================] - 12s 1s/step - loss: 0.2995 - accuracy: 0.9031 - val_loss: 1.0259 - val_accuracy: 0.7255\n",
            "Epoch 11/100\n",
            "10/10 [==============================] - 12s 1s/step - loss: 0.4517 - accuracy: 0.8625 - val_loss: 1.0128 - val_accuracy: 0.6489\n",
            "Epoch 12/100\n",
            "10/10 [==============================] - 12s 1s/step - loss: 0.3536 - accuracy: 0.8813 - val_loss: 1.0406 - val_accuracy: 0.6062\n",
            "Epoch 13/100\n",
            "10/10 [==============================] - 12s 1s/step - loss: 0.3203 - accuracy: 0.8875 - val_loss: 1.2626 - val_accuracy: 0.5849\n",
            "Epoch 14/100\n",
            "10/10 [==============================] - 12s 1s/step - loss: 0.3701 - accuracy: 0.8531 - val_loss: 1.1021 - val_accuracy: 0.6489\n",
            "Epoch 15/100\n",
            "10/10 [==============================] - 14s 1s/step - loss: 0.3084 - accuracy: 0.9003 - val_loss: 1.2355 - val_accuracy: 0.6916\n",
            "Epoch 16/100\n",
            "10/10 [==============================] - 12s 1s/step - loss: 0.2959 - accuracy: 0.8937 - val_loss: 1.0994 - val_accuracy: 0.7177\n",
            "Epoch 17/100\n",
            "10/10 [==============================] - 12s 1s/step - loss: 0.2205 - accuracy: 0.9281 - val_loss: 1.1627 - val_accuracy: 0.7226\n",
            "Epoch 18/100\n",
            "10/10 [==============================] - 12s 1s/step - loss: 0.2826 - accuracy: 0.9125 - val_loss: 0.9778 - val_accuracy: 0.7032\n",
            "Epoch 19/100\n",
            "10/10 [==============================] - 12s 1s/step - loss: 0.2124 - accuracy: 0.9219 - val_loss: 0.9895 - val_accuracy: 0.7216\n",
            "Epoch 20/100\n",
            "10/10 [==============================] - 12s 1s/step - loss: 0.2433 - accuracy: 0.9187 - val_loss: 1.0150 - val_accuracy: 0.7371\n",
            "Epoch 21/100\n",
            "10/10 [==============================] - 12s 1s/step - loss: 0.1960 - accuracy: 0.9344 - val_loss: 1.0543 - val_accuracy: 0.7352\n",
            "Epoch 22/100\n",
            "10/10 [==============================] - 12s 1s/step - loss: 0.2725 - accuracy: 0.8969 - val_loss: 1.0959 - val_accuracy: 0.7158\n",
            "Epoch 23/100\n",
            "10/10 [==============================] - 12s 1s/step - loss: 0.3369 - accuracy: 0.8719 - val_loss: 1.0813 - val_accuracy: 0.6828\n",
            "Epoch 24/100\n",
            "10/10 [==============================] - 12s 1s/step - loss: 0.2675 - accuracy: 0.9062 - val_loss: 0.9856 - val_accuracy: 0.7090\n",
            "Epoch 25/100\n",
            "10/10 [==============================] - 12s 1s/step - loss: 0.1721 - accuracy: 0.9469 - val_loss: 1.0069 - val_accuracy: 0.6887\n",
            "Epoch 26/100\n",
            "10/10 [==============================] - 12s 1s/step - loss: 0.1864 - accuracy: 0.9438 - val_loss: 1.0311 - val_accuracy: 0.7032\n",
            "Epoch 27/100\n",
            "10/10 [==============================] - 12s 1s/step - loss: 0.1944 - accuracy: 0.9281 - val_loss: 1.0827 - val_accuracy: 0.7158\n",
            "Epoch 28/100\n",
            "10/10 [==============================] - 12s 1s/step - loss: 0.1679 - accuracy: 0.9438 - val_loss: 1.0243 - val_accuracy: 0.7071\n",
            "Epoch 29/100\n",
            "10/10 [==============================] - 12s 1s/step - loss: 0.2006 - accuracy: 0.9281 - val_loss: 1.0708 - val_accuracy: 0.7236\n",
            "Epoch 30/100\n",
            "10/10 [==============================] - 12s 1s/step - loss: 0.1377 - accuracy: 0.9438 - val_loss: 1.0374 - val_accuracy: 0.7158\n",
            "Epoch 31/100\n",
            "10/10 [==============================] - 12s 1s/step - loss: 0.2067 - accuracy: 0.9250 - val_loss: 0.9908 - val_accuracy: 0.7420\n",
            "Epoch 32/100\n",
            "10/10 [==============================] - 12s 1s/step - loss: 0.2385 - accuracy: 0.9344 - val_loss: 1.0257 - val_accuracy: 0.7420\n",
            "Epoch 33/100\n",
            "10/10 [==============================] - 12s 1s/step - loss: 0.1956 - accuracy: 0.9344 - val_loss: 1.1566 - val_accuracy: 0.6004\n",
            "Epoch 34/100\n",
            "10/10 [==============================] - 12s 1s/step - loss: 0.2744 - accuracy: 0.8906 - val_loss: 1.1216 - val_accuracy: 0.7430\n",
            "Epoch 35/100\n",
            "10/10 [==============================] - 12s 1s/step - loss: 0.2118 - accuracy: 0.9312 - val_loss: 1.1043 - val_accuracy: 0.7401\n",
            "Epoch 36/100\n",
            "10/10 [==============================] - 12s 1s/step - loss: 0.1962 - accuracy: 0.9438 - val_loss: 1.1535 - val_accuracy: 0.7226\n",
            "Epoch 37/100\n",
            "10/10 [==============================] - 12s 1s/step - loss: 0.1678 - accuracy: 0.9563 - val_loss: 1.1585 - val_accuracy: 0.7401\n",
            "Epoch 38/100\n",
            "10/10 [==============================] - 12s 1s/step - loss: 0.1692 - accuracy: 0.9344 - val_loss: 1.1543 - val_accuracy: 0.7371\n",
            "Epoch 39/100\n",
            "10/10 [==============================] - 12s 1s/step - loss: 0.1257 - accuracy: 0.9625 - val_loss: 1.1545 - val_accuracy: 0.7352\n",
            "Epoch 40/100\n",
            "10/10 [==============================] - 12s 1s/step - loss: 0.1556 - accuracy: 0.9500 - val_loss: 1.2294 - val_accuracy: 0.7323\n",
            "Epoch 41/100\n",
            "10/10 [==============================] - 12s 1s/step - loss: 0.1430 - accuracy: 0.9688 - val_loss: 1.1479 - val_accuracy: 0.7255\n",
            "Epoch 42/100\n",
            "10/10 [==============================] - 12s 1s/step - loss: 0.1538 - accuracy: 0.9469 - val_loss: 1.1486 - val_accuracy: 0.7042\n",
            "Epoch 43/100\n",
            "10/10 [==============================] - 12s 1s/step - loss: 0.1369 - accuracy: 0.9500 - val_loss: 1.1815 - val_accuracy: 0.7439\n",
            "Epoch 44/100\n",
            "10/10 [==============================] - 12s 1s/step - loss: 0.1223 - accuracy: 0.9625 - val_loss: 1.1270 - val_accuracy: 0.7371\n",
            "Epoch 45/100\n",
            "10/10 [==============================] - 12s 1s/step - loss: 0.1135 - accuracy: 0.9500 - val_loss: 1.1926 - val_accuracy: 0.7081\n",
            "Epoch 46/100\n",
            "10/10 [==============================] - 12s 1s/step - loss: 0.1452 - accuracy: 0.9469 - val_loss: 1.1316 - val_accuracy: 0.7100\n",
            "Epoch 47/100\n",
            "10/10 [==============================] - 12s 1s/step - loss: 0.1352 - accuracy: 0.9656 - val_loss: 1.2187 - val_accuracy: 0.6974\n",
            "Epoch 48/100\n",
            "10/10 [==============================] - 12s 1s/step - loss: 0.1617 - accuracy: 0.9500 - val_loss: 1.2107 - val_accuracy: 0.7236\n",
            "Epoch 49/100\n",
            "10/10 [==============================] - 13s 1s/step - loss: 0.1479 - accuracy: 0.9375 - val_loss: 1.1659 - val_accuracy: 0.7517\n",
            "Epoch 50/100\n",
            "10/10 [==============================] - 12s 1s/step - loss: 0.1141 - accuracy: 0.9563 - val_loss: 1.2159 - val_accuracy: 0.7129\n",
            "Epoch 51/100\n",
            "10/10 [==============================] - 12s 1s/step - loss: 0.1326 - accuracy: 0.9563 - val_loss: 1.1125 - val_accuracy: 0.7284\n",
            "Epoch 52/100\n",
            "10/10 [==============================] - 12s 1s/step - loss: 0.1405 - accuracy: 0.9469 - val_loss: 1.0440 - val_accuracy: 0.7401\n",
            "Epoch 53/100\n",
            "10/10 [==============================] - 12s 1s/step - loss: 0.1112 - accuracy: 0.9594 - val_loss: 1.1722 - val_accuracy: 0.7071\n",
            "Epoch 54/100\n",
            "10/10 [==============================] - 12s 1s/step - loss: 0.1591 - accuracy: 0.9469 - val_loss: 1.3499 - val_accuracy: 0.7110\n",
            "Epoch 55/100\n",
            "10/10 [==============================] - 12s 1s/step - loss: 0.2142 - accuracy: 0.9219 - val_loss: 1.1445 - val_accuracy: 0.7294\n",
            "Epoch 56/100\n",
            "10/10 [==============================] - 12s 1s/step - loss: 0.1370 - accuracy: 0.9438 - val_loss: 1.0496 - val_accuracy: 0.7022\n",
            "Epoch 57/100\n",
            "10/10 [==============================] - 12s 1s/step - loss: 0.1220 - accuracy: 0.9500 - val_loss: 1.0773 - val_accuracy: 0.7468\n",
            "Epoch 58/100\n",
            "10/10 [==============================] - 12s 1s/step - loss: 0.1013 - accuracy: 0.9625 - val_loss: 1.1450 - val_accuracy: 0.7323\n",
            "Epoch 59/100\n",
            "10/10 [==============================] - 12s 1s/step - loss: 0.1287 - accuracy: 0.9344 - val_loss: 1.2537 - val_accuracy: 0.7168\n",
            "Epoch 60/100\n",
            "10/10 [==============================] - 12s 1s/step - loss: 0.0975 - accuracy: 0.9750 - val_loss: 1.3484 - val_accuracy: 0.7740\n",
            "Epoch 61/100\n",
            "10/10 [==============================] - 12s 1s/step - loss: 0.1469 - accuracy: 0.9406 - val_loss: 1.2952 - val_accuracy: 0.7478\n",
            "Epoch 62/100\n",
            "10/10 [==============================] - 12s 1s/step - loss: 0.0983 - accuracy: 0.9656 - val_loss: 1.3135 - val_accuracy: 0.6780\n",
            "Epoch 63/100\n",
            "10/10 [==============================] - 12s 1s/step - loss: 0.1408 - accuracy: 0.9438 - val_loss: 1.3226 - val_accuracy: 0.7333\n",
            "Epoch 64/100\n",
            "10/10 [==============================] - 12s 1s/step - loss: 0.0931 - accuracy: 0.9734 - val_loss: 1.2524 - val_accuracy: 0.7119\n",
            "Epoch 65/100\n",
            "10/10 [==============================] - 12s 1s/step - loss: 0.1304 - accuracy: 0.9406 - val_loss: 1.2684 - val_accuracy: 0.7789\n",
            "Epoch 66/100\n",
            "10/10 [==============================] - 12s 1s/step - loss: 0.1021 - accuracy: 0.9688 - val_loss: 1.1988 - val_accuracy: 0.7119\n",
            "Epoch 67/100\n",
            "10/10 [==============================] - 12s 1s/step - loss: 0.1023 - accuracy: 0.9719 - val_loss: 1.1987 - val_accuracy: 0.7449\n",
            "Epoch 68/100\n",
            "10/10 [==============================] - 12s 1s/step - loss: 0.0757 - accuracy: 0.9688 - val_loss: 1.2575 - val_accuracy: 0.7333\n",
            "Epoch 69/100\n",
            "10/10 [==============================] - 13s 1s/step - loss: 0.0563 - accuracy: 0.9844 - val_loss: 1.4133 - val_accuracy: 0.7381\n",
            "Epoch 70/100\n",
            "10/10 [==============================] - 12s 1s/step - loss: 0.0738 - accuracy: 0.9719 - val_loss: 1.3989 - val_accuracy: 0.7304\n",
            "Epoch 71/100\n",
            "10/10 [==============================] - 12s 1s/step - loss: 0.0655 - accuracy: 0.9719 - val_loss: 1.4658 - val_accuracy: 0.7342\n",
            "Epoch 72/100\n",
            "10/10 [==============================] - 12s 1s/step - loss: 0.0711 - accuracy: 0.9781 - val_loss: 1.3230 - val_accuracy: 0.7245\n",
            "Epoch 73/100\n",
            "10/10 [==============================] - 12s 1s/step - loss: 0.1004 - accuracy: 0.9719 - val_loss: 1.2934 - val_accuracy: 0.7216\n",
            "Epoch 74/100\n",
            "10/10 [==============================] - 12s 1s/step - loss: 0.0520 - accuracy: 0.9750 - val_loss: 1.3017 - val_accuracy: 0.7313\n",
            "Epoch 75/100\n",
            "10/10 [==============================] - 12s 1s/step - loss: 0.0763 - accuracy: 0.9719 - val_loss: 1.4784 - val_accuracy: 0.7207\n",
            "Epoch 76/100\n",
            "10/10 [==============================] - 12s 1s/step - loss: 0.1013 - accuracy: 0.9625 - val_loss: 1.6550 - val_accuracy: 0.5247\n",
            "Epoch 77/100\n",
            "10/10 [==============================] - 12s 1s/step - loss: 0.1361 - accuracy: 0.9438 - val_loss: 1.3482 - val_accuracy: 0.7488\n",
            "Epoch 78/100\n",
            "10/10 [==============================] - 12s 1s/step - loss: 0.0894 - accuracy: 0.9750 - val_loss: 1.3687 - val_accuracy: 0.7177\n",
            "Epoch 79/100\n",
            "10/10 [==============================] - 12s 1s/step - loss: 0.1357 - accuracy: 0.9406 - val_loss: 1.2037 - val_accuracy: 0.7100\n",
            "Epoch 80/100\n",
            "10/10 [==============================] - 12s 1s/step - loss: 0.0853 - accuracy: 0.9781 - val_loss: 1.4833 - val_accuracy: 0.7439\n",
            "Epoch 81/100\n",
            "10/10 [==============================] - 12s 1s/step - loss: 0.0597 - accuracy: 0.9812 - val_loss: 1.4202 - val_accuracy: 0.7410\n",
            "Epoch 82/100\n",
            "10/10 [==============================] - 12s 1s/step - loss: 0.0893 - accuracy: 0.9656 - val_loss: 1.5592 - val_accuracy: 0.7294\n",
            "Epoch 83/100\n",
            "10/10 [==============================] - 12s 1s/step - loss: 0.0791 - accuracy: 0.9781 - val_loss: 1.2888 - val_accuracy: 0.7148\n",
            "Epoch 84/100\n",
            "10/10 [==============================] - 12s 1s/step - loss: 0.0903 - accuracy: 0.9688 - val_loss: 1.4559 - val_accuracy: 0.7556\n",
            "Epoch 85/100\n",
            "10/10 [==============================] - 12s 1s/step - loss: 0.0631 - accuracy: 0.9844 - val_loss: 1.2804 - val_accuracy: 0.7352\n",
            "Epoch 86/100\n",
            "10/10 [==============================] - 12s 1s/step - loss: 0.0989 - accuracy: 0.9688 - val_loss: 1.3627 - val_accuracy: 0.7410\n",
            "Epoch 87/100\n",
            "10/10 [==============================] - 12s 1s/step - loss: 0.0901 - accuracy: 0.9656 - val_loss: 1.4217 - val_accuracy: 0.7090\n",
            "Epoch 88/100\n",
            "10/10 [==============================] - 12s 1s/step - loss: 0.0752 - accuracy: 0.9844 - val_loss: 1.3080 - val_accuracy: 0.7158\n",
            "Epoch 89/100\n",
            "10/10 [==============================] - 12s 1s/step - loss: 0.1428 - accuracy: 0.9531 - val_loss: 1.2808 - val_accuracy: 0.7255\n",
            "Epoch 90/100\n",
            "10/10 [==============================] - 12s 1s/step - loss: 0.0703 - accuracy: 0.9812 - val_loss: 1.3194 - val_accuracy: 0.7818\n",
            "Epoch 91/100\n",
            "10/10 [==============================] - 12s 1s/step - loss: 0.1100 - accuracy: 0.9438 - val_loss: 1.3841 - val_accuracy: 0.7342\n",
            "Epoch 92/100\n",
            "10/10 [==============================] - 12s 1s/step - loss: 0.0470 - accuracy: 0.9906 - val_loss: 1.4481 - val_accuracy: 0.7333\n",
            "Epoch 93/100\n",
            "10/10 [==============================] - 12s 1s/step - loss: 0.1121 - accuracy: 0.9594 - val_loss: 1.4470 - val_accuracy: 0.7284\n",
            "Epoch 94/100\n",
            "10/10 [==============================] - 12s 1s/step - loss: 0.0987 - accuracy: 0.9719 - val_loss: 1.4381 - val_accuracy: 0.7022\n",
            "Epoch 95/100\n",
            "10/10 [==============================] - 12s 1s/step - loss: 0.1412 - accuracy: 0.9594 - val_loss: 1.6292 - val_accuracy: 0.7381\n",
            "Epoch 96/100\n",
            "10/10 [==============================] - 12s 1s/step - loss: 0.0961 - accuracy: 0.9750 - val_loss: 1.2704 - val_accuracy: 0.7779\n",
            "Epoch 97/100\n",
            "10/10 [==============================] - 12s 1s/step - loss: 0.0764 - accuracy: 0.9750 - val_loss: 1.3369 - val_accuracy: 0.7284\n",
            "Epoch 98/100\n",
            "10/10 [==============================] - 12s 1s/step - loss: 0.0973 - accuracy: 0.9625 - val_loss: 1.4133 - val_accuracy: 0.7430\n",
            "Epoch 99/100\n",
            "10/10 [==============================] - 12s 1s/step - loss: 0.1252 - accuracy: 0.9438 - val_loss: 1.3899 - val_accuracy: 0.7662\n",
            "Epoch 100/100\n",
            "10/10 [==============================] - 12s 1s/step - loss: 0.1059 - accuracy: 0.9594 - val_loss: 1.4089 - val_accuracy: 0.7187\n"
          ]
        },
        {
          "data": {
            "text/plain": [
              "<keras.callbacks.History at 0x7f7a2e9039d0>"
            ]
          },
          "execution_count": 42,
          "metadata": {},
          "output_type": "execute_result"
        }
      ],
      "source": [
        "ssVgg16 = model1\n",
        "ssVgg16.compile(optimizer='adam',loss='categorical_crossentropy',metrics=['accuracy'])\n",
        "ssVgg16.fit(subspecies_train_data, epochs=100, steps_per_epoch=10, validation_data=subspecies_val_data)"
      ]
    },
    {
      "cell_type": "code",
      "execution_count": null,
      "metadata": {
        "id": "bDKMP9bBez7b"
      },
      "outputs": [],
      "source": [
        "import tensorflow as tf\n",
        "tf.keras.models.save_model(ssVgg16,'subSubspecies.hdf5')"
      ]
    },
    {
      "cell_type": "markdown",
      "metadata": {
        "id": "Lqebg1qvUOZm"
      },
      "source": [
        "### Model 2 : VGG16 (Healthy bees classification)\n",
        "100 Epochs - 99.69% train accuracy\n",
        "\n",
        "\n",
        "\n",
        "\n",
        "\n",
        "\n",
        "\n",
        "\n",
        "\n",
        "\n",
        "\n",
        "\n",
        "\n"
      ]
    },
    {
      "cell_type": "code",
      "execution_count": null,
      "metadata": {
        "colab": {
          "base_uri": "https://localhost:8080/"
        },
        "id": "eyO1B1rFUOZn",
        "outputId": "23b29b83-e8f8-47fe-cb27-8bc651333199"
      },
      "outputs": [
        {
          "name": "stdout",
          "output_type": "stream",
          "text": [
            "Model: \"model_1\"\n",
            "_________________________________________________________________\n",
            " Layer (type)                Output Shape              Param #   \n",
            "=================================================================\n",
            " input_2 (InputLayer)        [(None, 224, 224, 3)]     0         \n",
            "                                                                 \n",
            " block1_conv1 (Conv2D)       (None, 224, 224, 64)      1792      \n",
            "                                                                 \n",
            " block1_conv2 (Conv2D)       (None, 224, 224, 64)      36928     \n",
            "                                                                 \n",
            " block1_pool (MaxPooling2D)  (None, 112, 112, 64)      0         \n",
            "                                                                 \n",
            " block2_conv1 (Conv2D)       (None, 112, 112, 128)     73856     \n",
            "                                                                 \n",
            " block2_conv2 (Conv2D)       (None, 112, 112, 128)     147584    \n",
            "                                                                 \n",
            " block2_pool (MaxPooling2D)  (None, 56, 56, 128)       0         \n",
            "                                                                 \n",
            " block3_conv1 (Conv2D)       (None, 56, 56, 256)       295168    \n",
            "                                                                 \n",
            " block3_conv2 (Conv2D)       (None, 56, 56, 256)       590080    \n",
            "                                                                 \n",
            " block3_conv3 (Conv2D)       (None, 56, 56, 256)       590080    \n",
            "                                                                 \n",
            " block3_pool (MaxPooling2D)  (None, 28, 28, 256)       0         \n",
            "                                                                 \n",
            " block4_conv1 (Conv2D)       (None, 28, 28, 512)       1180160   \n",
            "                                                                 \n",
            " block4_conv2 (Conv2D)       (None, 28, 28, 512)       2359808   \n",
            "                                                                 \n",
            " block4_conv3 (Conv2D)       (None, 28, 28, 512)       2359808   \n",
            "                                                                 \n",
            " block4_pool (MaxPooling2D)  (None, 14, 14, 512)       0         \n",
            "                                                                 \n",
            " block5_conv1 (Conv2D)       (None, 14, 14, 512)       2359808   \n",
            "                                                                 \n",
            " block5_conv2 (Conv2D)       (None, 14, 14, 512)       2359808   \n",
            "                                                                 \n",
            " block5_conv3 (Conv2D)       (None, 14, 14, 512)       2359808   \n",
            "                                                                 \n",
            " block5_pool (MaxPooling2D)  (None, 7, 7, 512)         0         \n",
            "                                                                 \n",
            " flatten_1 (Flatten)         (None, 25088)             0         \n",
            "                                                                 \n",
            " dense_2 (Dense)             (None, 512)               12845568  \n",
            "                                                                 \n",
            " dropout_1 (Dropout)         (None, 512)               0         \n",
            "                                                                 \n",
            " dense_3 (Dense)             (None, 2)                 1026      \n",
            "                                                                 \n",
            "=================================================================\n",
            "Total params: 27,561,282\n",
            "Trainable params: 12,846,594\n",
            "Non-trainable params: 14,714,688\n",
            "_________________________________________________________________\n"
          ]
        }
      ],
      "source": [
        "import tensorflow\n",
        "from keras.applications.vgg16 import VGG16\n",
        "from keras.layers import Flatten,Dense,Dropout\n",
        "\n",
        "base_model2=VGG16(input_shape=(224,224,3),\n",
        "                 include_top=False,\n",
        "                 weights='imagenet')\n",
        "for layer in base_model2.layers:\n",
        "  layer.trainable=False\n",
        "x=Flatten()(base_model2.output)\n",
        "x=Dense(512,activation='relu')(x)\n",
        "x=Dropout(0.2)(x)\n",
        "x=Dense(2,activation='softmax')(x)\n",
        "\n",
        "model2=tensorflow.keras.Model(base_model2.input,x)\n",
        "model2.summary()"
      ]
    },
    {
      "cell_type": "code",
      "execution_count": null,
      "metadata": {
        "colab": {
          "base_uri": "https://localhost:8080/"
        },
        "id": "2DsGYIQcUOZp",
        "outputId": "151dd4df-e8e5-44b0-d265-486cc38b6af6"
      },
      "outputs": [
        {
          "data": {
            "text/plain": [
              "130"
            ]
          },
          "execution_count": 44,
          "metadata": {},
          "output_type": "execute_result"
        }
      ],
      "source": [
        "len(health_train_data)"
      ]
    },
    {
      "cell_type": "code",
      "execution_count": null,
      "metadata": {
        "colab": {
          "base_uri": "https://localhost:8080/"
        },
        "id": "_F2YAvogUOZq",
        "outputId": "fab9c50d-1288-4ddc-b250-35605924c511"
      },
      "outputs": [
        {
          "name": "stdout",
          "output_type": "stream",
          "text": [
            "Epoch 1/100\n",
            "10/10 [==============================] - 9s 879ms/step - loss: 4.3590 - accuracy: 0.5469 - val_loss: 4.1812 - val_accuracy: 0.6544\n",
            "Epoch 2/100\n",
            "10/10 [==============================] - 7s 726ms/step - loss: 1.6819 - accuracy: 0.6187 - val_loss: 1.1028 - val_accuracy: 0.6631\n",
            "Epoch 3/100\n",
            "10/10 [==============================] - 7s 727ms/step - loss: 0.5655 - accuracy: 0.7844 - val_loss: 1.0173 - val_accuracy: 0.6225\n",
            "Epoch 4/100\n",
            "10/10 [==============================] - 7s 733ms/step - loss: 0.4399 - accuracy: 0.8062 - val_loss: 0.8668 - val_accuracy: 0.5624\n",
            "Epoch 5/100\n",
            "10/10 [==============================] - 7s 734ms/step - loss: 0.3517 - accuracy: 0.8625 - val_loss: 0.5668 - val_accuracy: 0.7202\n",
            "Epoch 6/100\n",
            "10/10 [==============================] - 7s 738ms/step - loss: 0.2293 - accuracy: 0.9187 - val_loss: 0.7500 - val_accuracy: 0.6137\n",
            "Epoch 7/100\n",
            "10/10 [==============================] - 7s 739ms/step - loss: 0.3878 - accuracy: 0.8344 - val_loss: 0.5772 - val_accuracy: 0.7299\n",
            "Epoch 8/100\n",
            "10/10 [==============================] - 7s 742ms/step - loss: 0.2664 - accuracy: 0.8969 - val_loss: 0.5529 - val_accuracy: 0.7522\n",
            "Epoch 9/100\n",
            "10/10 [==============================] - 7s 750ms/step - loss: 0.2278 - accuracy: 0.9250 - val_loss: 0.5035 - val_accuracy: 0.7628\n",
            "Epoch 10/100\n",
            "10/10 [==============================] - 7s 747ms/step - loss: 0.1828 - accuracy: 0.9406 - val_loss: 0.5038 - val_accuracy: 0.7493\n",
            "Epoch 11/100\n",
            "10/10 [==============================] - 7s 752ms/step - loss: 0.1158 - accuracy: 0.9594 - val_loss: 0.5740 - val_accuracy: 0.7212\n",
            "Epoch 12/100\n",
            "10/10 [==============================] - 7s 752ms/step - loss: 0.1257 - accuracy: 0.9563 - val_loss: 0.5340 - val_accuracy: 0.7744\n",
            "Epoch 13/100\n",
            "10/10 [==============================] - 7s 757ms/step - loss: 0.1719 - accuracy: 0.9344 - val_loss: 0.5292 - val_accuracy: 0.7706\n",
            "Epoch 14/100\n",
            "10/10 [==============================] - 7s 752ms/step - loss: 0.1590 - accuracy: 0.9438 - val_loss: 0.5210 - val_accuracy: 0.7851\n",
            "Epoch 15/100\n",
            "10/10 [==============================] - 7s 752ms/step - loss: 0.1680 - accuracy: 0.9281 - val_loss: 0.5868 - val_accuracy: 0.7406\n",
            "Epoch 16/100\n",
            "10/10 [==============================] - 7s 754ms/step - loss: 0.1458 - accuracy: 0.9375 - val_loss: 0.5234 - val_accuracy: 0.7754\n",
            "Epoch 17/100\n",
            "10/10 [==============================] - 7s 752ms/step - loss: 0.1807 - accuracy: 0.9250 - val_loss: 0.4850 - val_accuracy: 0.7851\n",
            "Epoch 18/100\n",
            "10/10 [==============================] - 7s 750ms/step - loss: 0.1237 - accuracy: 0.9563 - val_loss: 0.4695 - val_accuracy: 0.8064\n",
            "Epoch 19/100\n",
            "10/10 [==============================] - 7s 755ms/step - loss: 0.1069 - accuracy: 0.9625 - val_loss: 0.5563 - val_accuracy: 0.7609\n",
            "Epoch 20/100\n",
            "10/10 [==============================] - 7s 756ms/step - loss: 0.0969 - accuracy: 0.9625 - val_loss: 0.5543 - val_accuracy: 0.7696\n",
            "Epoch 21/100\n",
            "10/10 [==============================] - 7s 758ms/step - loss: 0.1195 - accuracy: 0.9625 - val_loss: 0.6274 - val_accuracy: 0.7493\n",
            "Epoch 22/100\n",
            "10/10 [==============================] - 7s 759ms/step - loss: 0.1273 - accuracy: 0.9500 - val_loss: 0.5958 - val_accuracy: 0.7512\n",
            "Epoch 23/100\n",
            "10/10 [==============================] - 7s 749ms/step - loss: 0.0789 - accuracy: 0.9750 - val_loss: 0.7054 - val_accuracy: 0.7260\n",
            "Epoch 24/100\n",
            "10/10 [==============================] - 7s 750ms/step - loss: 0.1581 - accuracy: 0.9469 - val_loss: 0.4854 - val_accuracy: 0.8025\n",
            "Epoch 25/100\n",
            "10/10 [==============================] - 7s 748ms/step - loss: 0.1359 - accuracy: 0.9594 - val_loss: 0.4053 - val_accuracy: 0.8403\n",
            "Epoch 26/100\n",
            "10/10 [==============================] - 7s 755ms/step - loss: 0.0694 - accuracy: 0.9719 - val_loss: 0.4071 - val_accuracy: 0.8500\n",
            "Epoch 27/100\n",
            "10/10 [==============================] - 7s 760ms/step - loss: 0.1045 - accuracy: 0.9719 - val_loss: 0.4728 - val_accuracy: 0.8180\n",
            "Epoch 28/100\n",
            "10/10 [==============================] - 7s 759ms/step - loss: 0.0716 - accuracy: 0.9781 - val_loss: 0.4658 - val_accuracy: 0.8151\n",
            "Epoch 29/100\n",
            "10/10 [==============================] - 7s 752ms/step - loss: 0.0821 - accuracy: 0.9750 - val_loss: 0.4082 - val_accuracy: 0.8345\n",
            "Epoch 30/100\n",
            "10/10 [==============================] - 7s 752ms/step - loss: 0.1043 - accuracy: 0.9688 - val_loss: 0.4086 - val_accuracy: 0.8403\n",
            "Epoch 31/100\n",
            "10/10 [==============================] - 7s 747ms/step - loss: 0.0650 - accuracy: 0.9812 - val_loss: 0.4693 - val_accuracy: 0.8238\n",
            "Epoch 32/100\n",
            "10/10 [==============================] - 7s 754ms/step - loss: 0.0689 - accuracy: 0.9844 - val_loss: 0.5777 - val_accuracy: 0.7967\n",
            "Epoch 33/100\n",
            "10/10 [==============================] - 7s 746ms/step - loss: 0.0328 - accuracy: 1.0000 - val_loss: 0.5456 - val_accuracy: 0.7957\n",
            "Epoch 34/100\n",
            "10/10 [==============================] - 7s 746ms/step - loss: 0.0544 - accuracy: 0.9844 - val_loss: 0.5454 - val_accuracy: 0.8035\n",
            "Epoch 35/100\n",
            "10/10 [==============================] - 7s 747ms/step - loss: 0.0692 - accuracy: 0.9781 - val_loss: 0.5923 - val_accuracy: 0.7967\n",
            "Epoch 36/100\n",
            "10/10 [==============================] - 7s 755ms/step - loss: 0.0482 - accuracy: 0.9875 - val_loss: 0.7316 - val_accuracy: 0.7812\n",
            "Epoch 37/100\n",
            "10/10 [==============================] - 7s 750ms/step - loss: 0.1186 - accuracy: 0.9625 - val_loss: 0.6154 - val_accuracy: 0.8006\n",
            "Epoch 38/100\n",
            "10/10 [==============================] - 7s 748ms/step - loss: 0.0514 - accuracy: 0.9844 - val_loss: 0.5802 - val_accuracy: 0.8074\n",
            "Epoch 39/100\n",
            "10/10 [==============================] - 7s 754ms/step - loss: 0.0514 - accuracy: 0.9812 - val_loss: 0.5643 - val_accuracy: 0.8074\n",
            "Epoch 40/100\n",
            "10/10 [==============================] - 8s 891ms/step - loss: 0.0699 - accuracy: 0.9799 - val_loss: 0.5136 - val_accuracy: 0.8296\n",
            "Epoch 41/100\n",
            "10/10 [==============================] - 7s 754ms/step - loss: 0.0495 - accuracy: 0.9781 - val_loss: 0.5241 - val_accuracy: 0.8180\n",
            "Epoch 42/100\n",
            "10/10 [==============================] - 7s 758ms/step - loss: 0.0975 - accuracy: 0.9625 - val_loss: 0.4474 - val_accuracy: 0.8432\n",
            "Epoch 43/100\n",
            "10/10 [==============================] - 7s 756ms/step - loss: 0.0604 - accuracy: 0.9750 - val_loss: 0.4600 - val_accuracy: 0.8393\n",
            "Epoch 44/100\n",
            "10/10 [==============================] - 7s 757ms/step - loss: 0.0953 - accuracy: 0.9625 - val_loss: 0.5729 - val_accuracy: 0.7957\n",
            "Epoch 45/100\n",
            "10/10 [==============================] - 7s 757ms/step - loss: 0.0558 - accuracy: 0.9812 - val_loss: 0.5669 - val_accuracy: 0.8112\n",
            "Epoch 46/100\n",
            "10/10 [==============================] - 7s 755ms/step - loss: 0.0633 - accuracy: 0.9719 - val_loss: 0.5514 - val_accuracy: 0.8219\n",
            "Epoch 47/100\n",
            "10/10 [==============================] - 7s 753ms/step - loss: 0.0449 - accuracy: 0.9906 - val_loss: 0.5986 - val_accuracy: 0.8209\n",
            "Epoch 48/100\n",
            "10/10 [==============================] - 7s 735ms/step - loss: 0.0420 - accuracy: 0.9900 - val_loss: 0.5820 - val_accuracy: 0.8170\n",
            "Epoch 49/100\n",
            "10/10 [==============================] - 7s 747ms/step - loss: 0.0574 - accuracy: 0.9781 - val_loss: 0.6193 - val_accuracy: 0.8190\n",
            "Epoch 50/100\n",
            "10/10 [==============================] - 7s 754ms/step - loss: 0.0646 - accuracy: 0.9844 - val_loss: 0.7210 - val_accuracy: 0.7861\n",
            "Epoch 51/100\n",
            "10/10 [==============================] - 7s 762ms/step - loss: 0.0527 - accuracy: 0.9812 - val_loss: 0.6826 - val_accuracy: 0.7977\n",
            "Epoch 52/100\n",
            "10/10 [==============================] - 7s 762ms/step - loss: 0.0263 - accuracy: 0.9937 - val_loss: 0.4906 - val_accuracy: 0.8354\n",
            "Epoch 53/100\n",
            "10/10 [==============================] - 7s 760ms/step - loss: 0.0476 - accuracy: 0.9812 - val_loss: 0.5470 - val_accuracy: 0.8287\n",
            "Epoch 54/100\n",
            "10/10 [==============================] - 7s 757ms/step - loss: 0.0575 - accuracy: 0.9844 - val_loss: 0.6381 - val_accuracy: 0.8180\n",
            "Epoch 55/100\n",
            "10/10 [==============================] - 7s 755ms/step - loss: 0.0706 - accuracy: 0.9688 - val_loss: 0.7040 - val_accuracy: 0.7890\n",
            "Epoch 56/100\n",
            "10/10 [==============================] - 7s 754ms/step - loss: 0.0306 - accuracy: 0.9906 - val_loss: 0.6093 - val_accuracy: 0.8161\n",
            "Epoch 57/100\n",
            "10/10 [==============================] - 7s 746ms/step - loss: 0.0216 - accuracy: 0.9906 - val_loss: 0.5747 - val_accuracy: 0.8219\n",
            "Epoch 58/100\n",
            "10/10 [==============================] - 7s 746ms/step - loss: 0.0301 - accuracy: 0.9875 - val_loss: 0.7607 - val_accuracy: 0.7909\n",
            "Epoch 59/100\n",
            "10/10 [==============================] - 7s 753ms/step - loss: 0.0308 - accuracy: 0.9906 - val_loss: 0.5711 - val_accuracy: 0.8209\n",
            "Epoch 60/100\n",
            "10/10 [==============================] - 7s 760ms/step - loss: 0.0564 - accuracy: 0.9812 - val_loss: 0.6459 - val_accuracy: 0.8093\n",
            "Epoch 61/100\n",
            "10/10 [==============================] - 7s 764ms/step - loss: 0.0546 - accuracy: 0.9719 - val_loss: 0.6390 - val_accuracy: 0.8103\n",
            "Epoch 62/100\n",
            "10/10 [==============================] - 7s 756ms/step - loss: 0.0473 - accuracy: 0.9937 - val_loss: 0.5448 - val_accuracy: 0.8228\n",
            "Epoch 63/100\n",
            "10/10 [==============================] - 7s 759ms/step - loss: 0.0220 - accuracy: 0.9969 - val_loss: 0.6266 - val_accuracy: 0.8199\n",
            "Epoch 64/100\n",
            "10/10 [==============================] - 7s 747ms/step - loss: 0.0489 - accuracy: 0.9812 - val_loss: 0.7212 - val_accuracy: 0.8093\n",
            "Epoch 65/100\n",
            "10/10 [==============================] - 7s 746ms/step - loss: 0.0307 - accuracy: 0.9937 - val_loss: 0.7028 - val_accuracy: 0.8112\n",
            "Epoch 66/100\n",
            "10/10 [==============================] - 7s 754ms/step - loss: 0.0230 - accuracy: 0.9937 - val_loss: 0.4487 - val_accuracy: 0.8577\n",
            "Epoch 67/100\n",
            "10/10 [==============================] - 7s 757ms/step - loss: 0.0395 - accuracy: 0.9844 - val_loss: 0.5013 - val_accuracy: 0.8432\n",
            "Epoch 68/100\n",
            "10/10 [==============================] - 7s 763ms/step - loss: 0.0338 - accuracy: 0.9906 - val_loss: 0.5912 - val_accuracy: 0.8132\n",
            "Epoch 69/100\n",
            "10/10 [==============================] - 7s 756ms/step - loss: 0.0271 - accuracy: 0.9969 - val_loss: 0.4070 - val_accuracy: 0.8645\n",
            "Epoch 70/100\n",
            "10/10 [==============================] - 7s 751ms/step - loss: 0.0195 - accuracy: 0.9969 - val_loss: 0.4389 - val_accuracy: 0.8616\n",
            "Epoch 71/100\n",
            "10/10 [==============================] - 7s 756ms/step - loss: 0.0106 - accuracy: 0.9969 - val_loss: 0.4757 - val_accuracy: 0.8538\n",
            "Epoch 72/100\n",
            "10/10 [==============================] - 7s 753ms/step - loss: 0.0212 - accuracy: 0.9937 - val_loss: 0.5637 - val_accuracy: 0.8403\n",
            "Epoch 73/100\n",
            "10/10 [==============================] - 7s 756ms/step - loss: 0.0248 - accuracy: 0.9906 - val_loss: 0.5215 - val_accuracy: 0.8432\n",
            "Epoch 74/100\n",
            "10/10 [==============================] - 7s 759ms/step - loss: 0.0775 - accuracy: 0.9812 - val_loss: 0.6909 - val_accuracy: 0.8103\n",
            "Epoch 75/100\n",
            "10/10 [==============================] - 7s 758ms/step - loss: 0.0916 - accuracy: 0.9625 - val_loss: 0.7469 - val_accuracy: 0.7841\n",
            "Epoch 76/100\n",
            "10/10 [==============================] - 7s 759ms/step - loss: 0.0305 - accuracy: 0.9875 - val_loss: 0.5776 - val_accuracy: 0.8228\n",
            "Epoch 77/100\n",
            "10/10 [==============================] - 7s 755ms/step - loss: 0.0273 - accuracy: 0.9906 - val_loss: 0.5411 - val_accuracy: 0.8335\n",
            "Epoch 78/100\n",
            "10/10 [==============================] - 7s 755ms/step - loss: 0.0234 - accuracy: 0.9937 - val_loss: 0.5179 - val_accuracy: 0.8470\n",
            "Epoch 79/100\n",
            "10/10 [==============================] - 7s 747ms/step - loss: 0.0304 - accuracy: 0.9906 - val_loss: 0.6466 - val_accuracy: 0.8209\n",
            "Epoch 80/100\n",
            "10/10 [==============================] - 7s 743ms/step - loss: 0.0503 - accuracy: 0.9866 - val_loss: 0.5257 - val_accuracy: 0.8470\n",
            "Epoch 81/100\n",
            "10/10 [==============================] - 7s 747ms/step - loss: 0.0167 - accuracy: 0.9933 - val_loss: 0.4778 - val_accuracy: 0.8490\n",
            "Epoch 82/100\n",
            "10/10 [==============================] - 7s 760ms/step - loss: 0.0342 - accuracy: 0.9875 - val_loss: 0.4798 - val_accuracy: 0.8422\n",
            "Epoch 83/100\n",
            "10/10 [==============================] - 7s 752ms/step - loss: 0.0534 - accuracy: 0.9844 - val_loss: 0.5019 - val_accuracy: 0.8451\n",
            "Epoch 84/100\n",
            "10/10 [==============================] - 7s 754ms/step - loss: 0.0347 - accuracy: 0.9906 - val_loss: 0.7226 - val_accuracy: 0.8064\n",
            "Epoch 85/100\n",
            "10/10 [==============================] - 7s 750ms/step - loss: 0.0153 - accuracy: 0.9969 - val_loss: 0.6450 - val_accuracy: 0.8316\n",
            "Epoch 86/100\n",
            "10/10 [==============================] - 7s 753ms/step - loss: 0.0217 - accuracy: 0.9969 - val_loss: 0.6601 - val_accuracy: 0.8393\n",
            "Epoch 87/100\n",
            "10/10 [==============================] - 7s 755ms/step - loss: 0.0083 - accuracy: 1.0000 - val_loss: 0.6703 - val_accuracy: 0.8267\n",
            "Epoch 88/100\n",
            "10/10 [==============================] - 7s 756ms/step - loss: 0.0295 - accuracy: 0.9875 - val_loss: 0.6301 - val_accuracy: 0.8325\n",
            "Epoch 89/100\n",
            "10/10 [==============================] - 7s 758ms/step - loss: 0.0401 - accuracy: 0.9875 - val_loss: 0.5531 - val_accuracy: 0.8500\n",
            "Epoch 90/100\n",
            "10/10 [==============================] - 7s 759ms/step - loss: 0.0615 - accuracy: 0.9906 - val_loss: 0.4628 - val_accuracy: 0.8693\n",
            "Epoch 91/100\n",
            "10/10 [==============================] - 7s 757ms/step - loss: 0.0322 - accuracy: 0.9844 - val_loss: 0.5805 - val_accuracy: 0.8296\n",
            "Epoch 92/100\n",
            "10/10 [==============================] - 7s 752ms/step - loss: 0.0164 - accuracy: 0.9969 - val_loss: 0.6562 - val_accuracy: 0.8267\n",
            "Epoch 93/100\n",
            "10/10 [==============================] - 7s 745ms/step - loss: 0.0236 - accuracy: 0.9906 - val_loss: 0.5160 - val_accuracy: 0.8529\n",
            "Epoch 94/100\n",
            "10/10 [==============================] - 7s 750ms/step - loss: 0.0097 - accuracy: 1.0000 - val_loss: 0.5183 - val_accuracy: 0.8519\n",
            "Epoch 95/100\n",
            "10/10 [==============================] - 7s 759ms/step - loss: 0.0203 - accuracy: 0.9875 - val_loss: 0.4449 - val_accuracy: 0.8761\n",
            "Epoch 96/100\n",
            "10/10 [==============================] - 7s 758ms/step - loss: 0.0104 - accuracy: 0.9969 - val_loss: 0.6634 - val_accuracy: 0.8248\n",
            "Epoch 97/100\n",
            "10/10 [==============================] - 7s 758ms/step - loss: 0.0243 - accuracy: 0.9906 - val_loss: 0.5400 - val_accuracy: 0.8374\n",
            "Epoch 98/100\n",
            "10/10 [==============================] - 7s 755ms/step - loss: 0.0096 - accuracy: 0.9969 - val_loss: 0.5216 - val_accuracy: 0.8364\n",
            "Epoch 99/100\n",
            "10/10 [==============================] - 7s 755ms/step - loss: 0.0132 - accuracy: 0.9969 - val_loss: 0.6135 - val_accuracy: 0.8345\n",
            "Epoch 100/100\n",
            "10/10 [==============================] - 7s 752ms/step - loss: 0.0101 - accuracy: 0.9969 - val_loss: 0.5920 - val_accuracy: 0.8432\n"
          ]
        },
        {
          "data": {
            "text/plain": [
              "<keras.callbacks.History at 0x7ff3200ee4d0>"
            ]
          },
          "execution_count": 45,
          "metadata": {},
          "output_type": "execute_result"
        }
      ],
      "source": [
        "beesHealthVgg16 = model2 \n",
        "beesHealthVgg16.compile(optimizer='adam',loss='categorical_crossentropy',metrics=['accuracy'])\n",
        "beesHealthVgg16.fit(health_train_data, epochs=100, steps_per_epoch=10, validation_data=health_val_data)"
      ]
    },
    {
      "cell_type": "markdown",
      "metadata": {
        "id": "D_S4ctgVZI5-"
      },
      "source": [
        "### Model 3 : VGG16 (Pollen Carrying classification)\n",
        "100 Epochs - 100% train accuracy\n",
        "\n",
        "\n",
        "\n",
        "\n",
        "\n",
        "\n",
        "\n",
        "\n",
        "\n",
        "\n",
        "\n",
        "\n",
        "\n"
      ]
    },
    {
      "cell_type": "code",
      "execution_count": null,
      "metadata": {
        "colab": {
          "base_uri": "https://localhost:8080/"
        },
        "id": "Px5Yd8DfZI6A",
        "outputId": "19fb340a-233e-4d2c-de1b-f7d595ad50c9"
      },
      "outputs": [
        {
          "name": "stdout",
          "output_type": "stream",
          "text": [
            "Downloading data from https://storage.googleapis.com/tensorflow/keras-applications/vgg16/vgg16_weights_tf_dim_ordering_tf_kernels_notop.h5\n",
            "58892288/58889256 [==============================] - 0s 0us/step\n",
            "58900480/58889256 [==============================] - 0s 0us/step\n",
            "Model: \"model\"\n",
            "_________________________________________________________________\n",
            " Layer (type)                Output Shape              Param #   \n",
            "=================================================================\n",
            " input_1 (InputLayer)        [(None, 224, 224, 3)]     0         \n",
            "                                                                 \n",
            " block1_conv1 (Conv2D)       (None, 224, 224, 64)      1792      \n",
            "                                                                 \n",
            " block1_conv2 (Conv2D)       (None, 224, 224, 64)      36928     \n",
            "                                                                 \n",
            " block1_pool (MaxPooling2D)  (None, 112, 112, 64)      0         \n",
            "                                                                 \n",
            " block2_conv1 (Conv2D)       (None, 112, 112, 128)     73856     \n",
            "                                                                 \n",
            " block2_conv2 (Conv2D)       (None, 112, 112, 128)     147584    \n",
            "                                                                 \n",
            " block2_pool (MaxPooling2D)  (None, 56, 56, 128)       0         \n",
            "                                                                 \n",
            " block3_conv1 (Conv2D)       (None, 56, 56, 256)       295168    \n",
            "                                                                 \n",
            " block3_conv2 (Conv2D)       (None, 56, 56, 256)       590080    \n",
            "                                                                 \n",
            " block3_conv3 (Conv2D)       (None, 56, 56, 256)       590080    \n",
            "                                                                 \n",
            " block3_pool (MaxPooling2D)  (None, 28, 28, 256)       0         \n",
            "                                                                 \n",
            " block4_conv1 (Conv2D)       (None, 28, 28, 512)       1180160   \n",
            "                                                                 \n",
            " block4_conv2 (Conv2D)       (None, 28, 28, 512)       2359808   \n",
            "                                                                 \n",
            " block4_conv3 (Conv2D)       (None, 28, 28, 512)       2359808   \n",
            "                                                                 \n",
            " block4_pool (MaxPooling2D)  (None, 14, 14, 512)       0         \n",
            "                                                                 \n",
            " block5_conv1 (Conv2D)       (None, 14, 14, 512)       2359808   \n",
            "                                                                 \n",
            " block5_conv2 (Conv2D)       (None, 14, 14, 512)       2359808   \n",
            "                                                                 \n",
            " block5_conv3 (Conv2D)       (None, 14, 14, 512)       2359808   \n",
            "                                                                 \n",
            " block5_pool (MaxPooling2D)  (None, 7, 7, 512)         0         \n",
            "                                                                 \n",
            " flatten (Flatten)           (None, 25088)             0         \n",
            "                                                                 \n",
            " dense (Dense)               (None, 512)               12845568  \n",
            "                                                                 \n",
            " dropout (Dropout)           (None, 512)               0         \n",
            "                                                                 \n",
            " dense_1 (Dense)             (None, 2)                 1026      \n",
            "                                                                 \n",
            "=================================================================\n",
            "Total params: 27,561,282\n",
            "Trainable params: 12,846,594\n",
            "Non-trainable params: 14,714,688\n",
            "_________________________________________________________________\n"
          ]
        }
      ],
      "source": [
        "import tensorflow\n",
        "from keras.applications.vgg16 import VGG16\n",
        "from keras.layers import Flatten,Dense,Dropout\n",
        "\n",
        "base_model3=VGG16(input_shape=(224,224,3),\n",
        "                 include_top=False,\n",
        "                 weights='imagenet')\n",
        "for layer in base_model3.layers:\n",
        "  layer.trainable=False\n",
        "x=Flatten()(base_model3.output)\n",
        "x=Dense(512,activation='relu')(x)\n",
        "x=Dropout(0.2)(x)\n",
        "x=Dense(2,activation='softmax')(x)\n",
        "\n",
        "model3=tensorflow.keras.Model(base_model3.input,x)\n",
        "model3.summary()"
      ]
    },
    {
      "cell_type": "code",
      "execution_count": null,
      "metadata": {
        "colab": {
          "base_uri": "https://localhost:8080/"
        },
        "id": "f8ptR96LZI6C",
        "outputId": "0b43e983-65a9-4c02-98b4-5dceec6ec926"
      },
      "outputs": [
        {
          "data": {
            "text/plain": [
              "130"
            ]
          },
          "execution_count": 38,
          "metadata": {},
          "output_type": "execute_result"
        }
      ],
      "source": [
        "len(pc_train_data)"
      ]
    },
    {
      "cell_type": "code",
      "execution_count": null,
      "metadata": {
        "colab": {
          "base_uri": "https://localhost:8080/"
        },
        "id": "_qMCMzG5ZI6E",
        "outputId": "a2ade124-b67b-4c49-eda3-42969a1efc3f"
      },
      "outputs": [
        {
          "name": "stdout",
          "output_type": "stream",
          "text": [
            "Epoch 1/100\n",
            "10/10 [==============================] - 29s 2s/step - loss: 0.8225 - accuracy: 0.9833 - val_loss: 0.3724 - val_accuracy: 0.9971\n",
            "Epoch 2/100\n",
            "10/10 [==============================] - 13s 1s/step - loss: 0.4301 - accuracy: 0.9969 - val_loss: 0.3368 - val_accuracy: 0.9971\n",
            "Epoch 3/100\n",
            "10/10 [==============================] - 13s 1s/step - loss: 0.0000e+00 - accuracy: 1.0000 - val_loss: 0.3124 - val_accuracy: 0.9971\n",
            "Epoch 4/100\n",
            "10/10 [==============================] - 13s 1s/step - loss: 0.0000e+00 - accuracy: 1.0000 - val_loss: 0.3039 - val_accuracy: 0.9971\n",
            "Epoch 5/100\n",
            "10/10 [==============================] - 13s 1s/step - loss: 0.9185 - accuracy: 0.9906 - val_loss: 0.2230 - val_accuracy: 0.9971\n",
            "Epoch 6/100\n",
            "10/10 [==============================] - 13s 1s/step - loss: 0.0000e+00 - accuracy: 1.0000 - val_loss: 0.1438 - val_accuracy: 0.9971\n",
            "Epoch 7/100\n",
            "10/10 [==============================] - 13s 1s/step - loss: 0.0000e+00 - accuracy: 1.0000 - val_loss: 0.1193 - val_accuracy: 0.9971\n",
            "Epoch 8/100\n",
            "10/10 [==============================] - 13s 1s/step - loss: 0.0000e+00 - accuracy: 1.0000 - val_loss: 0.1109 - val_accuracy: 0.9971\n",
            "Epoch 9/100\n",
            "10/10 [==============================] - 13s 1s/step - loss: 0.1506 - accuracy: 0.9969 - val_loss: 0.0906 - val_accuracy: 0.9971\n",
            "Epoch 10/100\n",
            "10/10 [==============================] - 13s 1s/step - loss: 0.0965 - accuracy: 0.9969 - val_loss: 0.0461 - val_accuracy: 0.9971\n",
            "Epoch 11/100\n",
            "10/10 [==============================] - 13s 1s/step - loss: 8.5547e-06 - accuracy: 1.0000 - val_loss: 0.0265 - val_accuracy: 0.9971\n",
            "Epoch 12/100\n",
            "10/10 [==============================] - 13s 1s/step - loss: 0.0475 - accuracy: 0.9875 - val_loss: 0.0472 - val_accuracy: 0.9971\n",
            "Epoch 13/100\n",
            "10/10 [==============================] - 13s 1s/step - loss: 0.1126 - accuracy: 0.9937 - val_loss: 0.0434 - val_accuracy: 0.9971\n",
            "Epoch 14/100\n",
            "10/10 [==============================] - 13s 1s/step - loss: 0.0255 - accuracy: 0.9969 - val_loss: 0.0165 - val_accuracy: 0.9971\n",
            "Epoch 15/100\n",
            "10/10 [==============================] - 13s 1s/step - loss: 0.0055 - accuracy: 0.9969 - val_loss: 0.0429 - val_accuracy: 0.9971\n",
            "Epoch 16/100\n",
            "10/10 [==============================] - 13s 1s/step - loss: 0.0741 - accuracy: 0.9969 - val_loss: 0.0311 - val_accuracy: 0.9971\n",
            "Epoch 17/100\n",
            "10/10 [==============================] - 13s 1s/step - loss: 0.0359 - accuracy: 0.9937 - val_loss: 0.0286 - val_accuracy: 0.9971\n",
            "Epoch 18/100\n",
            "10/10 [==============================] - 13s 1s/step - loss: 8.6734e-05 - accuracy: 1.0000 - val_loss: 0.0474 - val_accuracy: 0.9971\n",
            "Epoch 19/100\n",
            "10/10 [==============================] - 13s 1s/step - loss: 5.5393e-06 - accuracy: 1.0000 - val_loss: 0.0546 - val_accuracy: 0.9971\n",
            "Epoch 20/100\n",
            "10/10 [==============================] - 13s 1s/step - loss: 0.0752 - accuracy: 0.9969 - val_loss: 0.0466 - val_accuracy: 0.9971\n",
            "Epoch 21/100\n",
            "10/10 [==============================] - 13s 1s/step - loss: 0.0019 - accuracy: 1.0000 - val_loss: 0.0264 - val_accuracy: 0.9971\n",
            "Epoch 22/100\n",
            "10/10 [==============================] - 13s 1s/step - loss: 5.5372e-04 - accuracy: 1.0000 - val_loss: 0.0363 - val_accuracy: 0.9971\n",
            "Epoch 23/100\n",
            "10/10 [==============================] - 13s 1s/step - loss: 1.3962e-05 - accuracy: 1.0000 - val_loss: 0.0435 - val_accuracy: 0.9971\n",
            "Epoch 24/100\n",
            "10/10 [==============================] - 13s 1s/step - loss: 0.0886 - accuracy: 0.9937 - val_loss: 0.0150 - val_accuracy: 0.9971\n",
            "Epoch 25/100\n",
            "10/10 [==============================] - 13s 1s/step - loss: 0.1059 - accuracy: 0.9906 - val_loss: 0.0357 - val_accuracy: 0.9971\n",
            "Epoch 26/100\n",
            "10/10 [==============================] - 13s 1s/step - loss: 0.0025 - accuracy: 1.0000 - val_loss: 0.0114 - val_accuracy: 0.9971\n",
            "Epoch 27/100\n",
            "10/10 [==============================] - 13s 1s/step - loss: 0.0022 - accuracy: 1.0000 - val_loss: 0.0270 - val_accuracy: 0.9971\n",
            "Epoch 28/100\n",
            "10/10 [==============================] - 13s 1s/step - loss: 1.6107e-05 - accuracy: 1.0000 - val_loss: 0.0582 - val_accuracy: 0.9971\n",
            "Epoch 29/100\n",
            "10/10 [==============================] - 13s 1s/step - loss: 3.6022e-07 - accuracy: 1.0000 - val_loss: 0.0737 - val_accuracy: 0.9971\n",
            "Epoch 30/100\n",
            "10/10 [==============================] - 13s 1s/step - loss: 0.0731 - accuracy: 0.9969 - val_loss: 0.0727 - val_accuracy: 0.9971\n",
            "Epoch 31/100\n",
            "10/10 [==============================] - 13s 1s/step - loss: 6.9537e-06 - accuracy: 1.0000 - val_loss: 0.0386 - val_accuracy: 0.9971\n",
            "Epoch 32/100\n",
            "10/10 [==============================] - 12s 1s/step - loss: 0.0747 - accuracy: 0.9900 - val_loss: 0.0120 - val_accuracy: 0.9971\n",
            "Epoch 33/100\n",
            "10/10 [==============================] - 13s 1s/step - loss: 0.0342 - accuracy: 0.9969 - val_loss: 0.0374 - val_accuracy: 0.9971\n",
            "Epoch 34/100\n",
            "10/10 [==============================] - 13s 1s/step - loss: 5.2317e-05 - accuracy: 1.0000 - val_loss: 0.0209 - val_accuracy: 0.9971\n",
            "Epoch 35/100\n",
            "10/10 [==============================] - 13s 1s/step - loss: 0.0221 - accuracy: 0.9969 - val_loss: 0.0096 - val_accuracy: 0.9971\n",
            "Epoch 36/100\n",
            "10/10 [==============================] - 13s 1s/step - loss: 0.0251 - accuracy: 0.9937 - val_loss: 0.0102 - val_accuracy: 0.9971\n",
            "Epoch 37/100\n",
            "10/10 [==============================] - 13s 1s/step - loss: 0.0029 - accuracy: 1.0000 - val_loss: 0.0185 - val_accuracy: 0.9971\n",
            "Epoch 38/100\n",
            "10/10 [==============================] - 13s 1s/step - loss: 0.0282 - accuracy: 0.9969 - val_loss: 0.0108 - val_accuracy: 0.9971\n",
            "Epoch 39/100\n",
            "10/10 [==============================] - 13s 1s/step - loss: 0.0852 - accuracy: 0.9875 - val_loss: 0.0160 - val_accuracy: 0.9971\n",
            "Epoch 40/100\n",
            "10/10 [==============================] - 13s 1s/step - loss: 0.0096 - accuracy: 0.9969 - val_loss: 0.0195 - val_accuracy: 0.9971\n",
            "Epoch 41/100\n",
            "10/10 [==============================] - 13s 1s/step - loss: 0.0187 - accuracy: 0.9969 - val_loss: 0.0116 - val_accuracy: 0.9971\n",
            "Epoch 42/100\n",
            "10/10 [==============================] - 13s 1s/step - loss: 0.0011 - accuracy: 1.0000 - val_loss: 0.0351 - val_accuracy: 0.9971\n",
            "Epoch 43/100\n",
            "10/10 [==============================] - 13s 1s/step - loss: 9.2458e-06 - accuracy: 1.0000 - val_loss: 0.0565 - val_accuracy: 0.9971\n",
            "Epoch 44/100\n",
            "10/10 [==============================] - 13s 1s/step - loss: 0.0603 - accuracy: 0.9969 - val_loss: 0.0450 - val_accuracy: 0.9971\n",
            "Epoch 45/100\n",
            "10/10 [==============================] - 13s 1s/step - loss: 0.0448 - accuracy: 0.9937 - val_loss: 0.0108 - val_accuracy: 0.9971\n",
            "Epoch 46/100\n",
            "10/10 [==============================] - 13s 1s/step - loss: 0.0179 - accuracy: 0.9969 - val_loss: 0.0334 - val_accuracy: 0.9971\n",
            "Epoch 47/100\n",
            "10/10 [==============================] - 13s 1s/step - loss: 0.0205 - accuracy: 0.9969 - val_loss: 0.0251 - val_accuracy: 0.9971\n",
            "Epoch 48/100\n",
            "10/10 [==============================] - 13s 1s/step - loss: 0.0515 - accuracy: 0.9812 - val_loss: 0.0126 - val_accuracy: 0.9971\n",
            "Epoch 49/100\n",
            "10/10 [==============================] - 13s 1s/step - loss: 0.0010 - accuracy: 1.0000 - val_loss: 0.0289 - val_accuracy: 0.9971\n",
            "Epoch 50/100\n",
            "10/10 [==============================] - 13s 1s/step - loss: 0.0315 - accuracy: 0.9906 - val_loss: 0.0235 - val_accuracy: 0.9971\n",
            "Epoch 51/100\n",
            "10/10 [==============================] - 13s 1s/step - loss: 0.0103 - accuracy: 0.9969 - val_loss: 0.0169 - val_accuracy: 0.9971\n",
            "Epoch 52/100\n",
            "10/10 [==============================] - 13s 1s/step - loss: 1.3319e-04 - accuracy: 1.0000 - val_loss: 0.0574 - val_accuracy: 0.9971\n",
            "Epoch 53/100\n",
            "10/10 [==============================] - 13s 1s/step - loss: 0.0012 - accuracy: 1.0000 - val_loss: 0.0815 - val_accuracy: 0.9971\n",
            "Epoch 54/100\n",
            "10/10 [==============================] - 13s 1s/step - loss: 0.1471 - accuracy: 0.9937 - val_loss: 0.0320 - val_accuracy: 0.9971\n",
            "Epoch 55/100\n",
            "10/10 [==============================] - 13s 1s/step - loss: 0.0609 - accuracy: 0.9906 - val_loss: 0.0228 - val_accuracy: 0.9971\n",
            "Epoch 56/100\n",
            "10/10 [==============================] - 13s 1s/step - loss: 3.4486e-04 - accuracy: 1.0000 - val_loss: 0.0152 - val_accuracy: 0.9971\n",
            "Epoch 57/100\n",
            "10/10 [==============================] - 13s 1s/step - loss: 0.0178 - accuracy: 0.9937 - val_loss: 0.0091 - val_accuracy: 0.9981\n",
            "Epoch 58/100\n",
            "10/10 [==============================] - 13s 1s/step - loss: 0.0074 - accuracy: 1.0000 - val_loss: 0.0201 - val_accuracy: 0.9971\n",
            "Epoch 59/100\n",
            "10/10 [==============================] - 12s 1s/step - loss: 0.0172 - accuracy: 0.9969 - val_loss: 0.0220 - val_accuracy: 0.9971\n",
            "Epoch 60/100\n",
            "10/10 [==============================] - 13s 1s/step - loss: 1.0667e-04 - accuracy: 1.0000 - val_loss: 0.0191 - val_accuracy: 0.9971\n",
            "Epoch 61/100\n",
            "10/10 [==============================] - 13s 1s/step - loss: 3.5779e-04 - accuracy: 1.0000 - val_loss: 0.0199 - val_accuracy: 0.9971\n",
            "Epoch 62/100\n",
            "10/10 [==============================] - 13s 1s/step - loss: 0.0241 - accuracy: 0.9875 - val_loss: 0.0098 - val_accuracy: 0.9971\n",
            "Epoch 63/100\n",
            "10/10 [==============================] - 13s 1s/step - loss: 9.1973e-04 - accuracy: 1.0000 - val_loss: 0.0358 - val_accuracy: 0.9971\n",
            "Epoch 64/100\n",
            "10/10 [==============================] - 13s 1s/step - loss: 0.0330 - accuracy: 0.9969 - val_loss: 0.0277 - val_accuracy: 0.9971\n",
            "Epoch 65/100\n",
            "10/10 [==============================] - 13s 1s/step - loss: 4.1956e-04 - accuracy: 1.0000 - val_loss: 0.0181 - val_accuracy: 0.9971\n",
            "Epoch 66/100\n",
            "10/10 [==============================] - 13s 1s/step - loss: 3.1977e-04 - accuracy: 1.0000 - val_loss: 0.0189 - val_accuracy: 0.9971\n",
            "Epoch 67/100\n",
            "10/10 [==============================] - 13s 1s/step - loss: 0.0048 - accuracy: 0.9969 - val_loss: 0.0137 - val_accuracy: 0.9971\n",
            "Epoch 68/100\n",
            "10/10 [==============================] - 13s 1s/step - loss: 0.0154 - accuracy: 0.9937 - val_loss: 0.0248 - val_accuracy: 0.9971\n",
            "Epoch 69/100\n",
            "10/10 [==============================] - 13s 1s/step - loss: 1.9521e-05 - accuracy: 1.0000 - val_loss: 0.0352 - val_accuracy: 0.9971\n",
            "Epoch 70/100\n",
            "10/10 [==============================] - 12s 1s/step - loss: 0.0204 - accuracy: 0.9969 - val_loss: 0.0236 - val_accuracy: 0.9971\n",
            "Epoch 71/100\n",
            "10/10 [==============================] - 13s 1s/step - loss: 0.0126 - accuracy: 0.9937 - val_loss: 0.0124 - val_accuracy: 0.9971\n",
            "Epoch 72/100\n",
            "10/10 [==============================] - 13s 1s/step - loss: 0.0152 - accuracy: 0.9875 - val_loss: 0.0260 - val_accuracy: 0.9971\n",
            "Epoch 73/100\n",
            "10/10 [==============================] - 12s 1s/step - loss: 4.9201e-04 - accuracy: 1.0000 - val_loss: 0.0395 - val_accuracy: 0.9971\n",
            "Epoch 74/100\n",
            "10/10 [==============================] - 13s 1s/step - loss: 0.0551 - accuracy: 0.9937 - val_loss: 0.0102 - val_accuracy: 0.9971\n",
            "Epoch 75/100\n",
            "10/10 [==============================] - 12s 1s/step - loss: 0.0195 - accuracy: 0.9933 - val_loss: 0.0225 - val_accuracy: 0.9971\n",
            "Epoch 76/100\n",
            "10/10 [==============================] - 12s 1s/step - loss: 0.0492 - accuracy: 0.9875 - val_loss: 0.0122 - val_accuracy: 0.9971\n",
            "Epoch 77/100\n",
            "10/10 [==============================] - 13s 1s/step - loss: 0.0056 - accuracy: 0.9969 - val_loss: 0.0230 - val_accuracy: 0.9971\n",
            "Epoch 78/100\n",
            "10/10 [==============================] - 13s 1s/step - loss: 3.7107e-05 - accuracy: 1.0000 - val_loss: 0.0263 - val_accuracy: 0.9971\n",
            "Epoch 79/100\n",
            "10/10 [==============================] - 12s 1s/step - loss: 1.3592e-05 - accuracy: 1.0000 - val_loss: 0.0276 - val_accuracy: 0.9971\n",
            "Epoch 80/100\n",
            "10/10 [==============================] - 13s 1s/step - loss: 0.0054 - accuracy: 0.9969 - val_loss: 0.0264 - val_accuracy: 0.9971\n",
            "Epoch 81/100\n",
            "10/10 [==============================] - 12s 1s/step - loss: 0.0675 - accuracy: 0.9866 - val_loss: 0.0181 - val_accuracy: 0.9971\n",
            "Epoch 82/100\n",
            "10/10 [==============================] - 13s 1s/step - loss: 0.0509 - accuracy: 0.9937 - val_loss: 0.0311 - val_accuracy: 0.9971\n",
            "Epoch 83/100\n",
            "10/10 [==============================] - 13s 1s/step - loss: 7.6309e-04 - accuracy: 1.0000 - val_loss: 0.0138 - val_accuracy: 0.9971\n",
            "Epoch 84/100\n",
            "10/10 [==============================] - 13s 1s/step - loss: 0.0154 - accuracy: 0.9937 - val_loss: 0.0114 - val_accuracy: 0.9971\n",
            "Epoch 85/100\n",
            "10/10 [==============================] - 13s 1s/step - loss: 0.0114 - accuracy: 0.9969 - val_loss: 0.0165 - val_accuracy: 0.9971\n",
            "Epoch 86/100\n",
            "10/10 [==============================] - 12s 1s/step - loss: 0.0088 - accuracy: 0.9933 - val_loss: 0.0139 - val_accuracy: 0.9971\n",
            "Epoch 87/100\n",
            "10/10 [==============================] - 13s 1s/step - loss: 0.0108 - accuracy: 0.9969 - val_loss: 0.0116 - val_accuracy: 0.9971\n",
            "Epoch 88/100\n",
            "10/10 [==============================] - 13s 1s/step - loss: 7.8025e-04 - accuracy: 1.0000 - val_loss: 0.0191 - val_accuracy: 0.9971\n",
            "Epoch 89/100\n",
            "10/10 [==============================] - 13s 1s/step - loss: 4.4996e-05 - accuracy: 1.0000 - val_loss: 0.0229 - val_accuracy: 0.9971\n",
            "Epoch 90/100\n",
            "10/10 [==============================] - 13s 1s/step - loss: 2.1681e-05 - accuracy: 1.0000 - val_loss: 0.0331 - val_accuracy: 0.9971\n",
            "Epoch 91/100\n",
            "10/10 [==============================] - 13s 1s/step - loss: 0.0052 - accuracy: 0.9969 - val_loss: 0.0148 - val_accuracy: 0.9971\n",
            "Epoch 92/100\n",
            "10/10 [==============================] - 13s 1s/step - loss: 0.0101 - accuracy: 0.9969 - val_loss: 0.0104 - val_accuracy: 0.9971\n",
            "Epoch 93/100\n",
            "10/10 [==============================] - 13s 1s/step - loss: 9.5043e-04 - accuracy: 1.0000 - val_loss: 0.0159 - val_accuracy: 0.9971\n",
            "Epoch 94/100\n",
            "10/10 [==============================] - 13s 1s/step - loss: 0.0054 - accuracy: 0.9969 - val_loss: 0.0216 - val_accuracy: 0.9971\n",
            "Epoch 95/100\n",
            "10/10 [==============================] - 13s 1s/step - loss: 4.0817e-04 - accuracy: 1.0000 - val_loss: 0.0157 - val_accuracy: 0.9971\n",
            "Epoch 96/100\n",
            "10/10 [==============================] - 13s 1s/step - loss: 0.0027 - accuracy: 1.0000 - val_loss: 0.0159 - val_accuracy: 0.9971\n",
            "Epoch 97/100\n",
            "10/10 [==============================] - 13s 1s/step - loss: 0.0130 - accuracy: 0.9937 - val_loss: 0.0103 - val_accuracy: 0.9981\n",
            "Epoch 98/100\n",
            "10/10 [==============================] - 13s 1s/step - loss: 0.0028 - accuracy: 1.0000 - val_loss: 0.0258 - val_accuracy: 0.9971\n",
            "Epoch 99/100\n",
            "10/10 [==============================] - 13s 1s/step - loss: 5.2979e-06 - accuracy: 1.0000 - val_loss: 0.0334 - val_accuracy: 0.9971\n",
            "Epoch 100/100\n",
            "10/10 [==============================] - 13s 1s/step - loss: 9.3208e-06 - accuracy: 1.0000 - val_loss: 0.0361 - val_accuracy: 0.9971\n"
          ]
        },
        {
          "data": {
            "text/plain": [
              "<keras.callbacks.History at 0x7fd5f88fc150>"
            ]
          },
          "execution_count": 39,
          "metadata": {},
          "output_type": "execute_result"
        }
      ],
      "source": [
        "pcVgg16 = model3\n",
        "pcVgg16.compile(optimizer='adam',loss='categorical_crossentropy',metrics=['accuracy'])\n",
        "pcVgg16.fit(pc_train_data, epochs=100, steps_per_epoch=10, validation_data=pc_val_data)"
      ]
    },
    {
      "cell_type": "markdown",
      "metadata": {
        "id": "HBan53Dbc0bT"
      },
      "source": [
        "# Save and Deploy the models "
      ]
    },
    {
      "cell_type": "code",
      "execution_count": null,
      "metadata": {
        "id": "DKI37Vcoc91k"
      },
      "outputs": [],
      "source": [
        "import tensorflow as tf\n",
        "## Uncomment the below lines to save all the three models.\n",
        "#tf.keras.models.save_model(ssVgg16,'subSubspecies.hdf5')\n",
        "#tf.keras.models.save_model(beesHealthVgg16,'beesHealth.hdf5')\n",
        "#tf.keras.models.save_model(pcVgg16,'pollenCarraying.hdf5')"
      ]
    },
    {
      "cell_type": "code",
      "execution_count": null,
      "metadata": {
        "colab": {
          "base_uri": "https://localhost:8080/",
          "height": 1000
        },
        "id": "YH3jFR47egOJ",
        "outputId": "54cd4308-4221-4fd8-837d-e9af1c722d69"
      },
      "outputs": [
        {
          "name": "stdout",
          "output_type": "stream",
          "text": [
            "Collecting streamlit\n",
            "  Using cached streamlit-1.8.1-py2.py3-none-any.whl (10.1 MB)\n",
            "Requirement already satisfied: typing-extensions in /usr/local/lib/python3.7/dist-packages (from streamlit) (3.10.0.2)\n",
            "Requirement already satisfied: click<8.1,>=7.0 in /usr/local/lib/python3.7/dist-packages (from streamlit) (7.1.2)\n",
            "Requirement already satisfied: tzlocal in /usr/local/lib/python3.7/dist-packages (from streamlit) (1.5.1)\n",
            "Collecting pympler>=0.9\n",
            "  Using cached Pympler-1.0.1-py3-none-any.whl (164 kB)\n",
            "Collecting blinker\n",
            "  Using cached blinker-1.4.tar.gz (111 kB)\n",
            "Collecting gitpython!=3.1.19\n",
            "  Using cached GitPython-3.1.27-py3-none-any.whl (181 kB)\n",
            "Requirement already satisfied: semver in /usr/local/lib/python3.7/dist-packages (from streamlit) (2.13.0)\n",
            "Requirement already satisfied: requests in /usr/local/lib/python3.7/dist-packages (from streamlit) (2.23.0)\n",
            "Requirement already satisfied: pandas>=0.21.0 in /usr/local/lib/python3.7/dist-packages (from streamlit) (1.3.5)\n",
            "Collecting watchdog\n",
            "  Using cached watchdog-2.1.7-py3-none-manylinux2014_x86_64.whl (76 kB)\n",
            "Requirement already satisfied: protobuf!=3.11,>=3.6.0 in /usr/local/lib/python3.7/dist-packages (from streamlit) (3.17.3)\n",
            "Requirement already satisfied: numpy in /usr/local/lib/python3.7/dist-packages (from streamlit) (1.21.5)\n",
            "Collecting pydeck>=0.1.dev5\n",
            "  Using cached pydeck-0.7.1-py2.py3-none-any.whl (4.3 MB)\n",
            "Requirement already satisfied: packaging in /usr/local/lib/python3.7/dist-packages (from streamlit) (21.3)\n",
            "Requirement already satisfied: pyarrow in /usr/local/lib/python3.7/dist-packages (from streamlit) (6.0.1)\n",
            "Requirement already satisfied: importlib-metadata>=1.4 in /usr/local/lib/python3.7/dist-packages (from streamlit) (4.11.3)\n",
            "Requirement already satisfied: cachetools>=4.0 in /usr/local/lib/python3.7/dist-packages (from streamlit) (4.2.4)\n",
            "Requirement already satisfied: tornado>=5.0 in /usr/local/lib/python3.7/dist-packages (from streamlit) (5.1.1)\n",
            "Requirement already satisfied: python-dateutil in /usr/local/lib/python3.7/dist-packages (from streamlit) (2.8.2)\n",
            "Requirement already satisfied: pillow>=6.2.0 in /usr/local/lib/python3.7/dist-packages (from streamlit) (7.1.2)\n",
            "Requirement already satisfied: altair>=3.2.0 in /usr/local/lib/python3.7/dist-packages (from streamlit) (4.2.0)\n",
            "Collecting validators\n",
            "  Using cached validators-0.18.2-py3-none-any.whl (19 kB)\n",
            "Requirement already satisfied: attrs in /usr/local/lib/python3.7/dist-packages (from streamlit) (21.4.0)\n",
            "Collecting toml\n",
            "  Using cached toml-0.10.2-py2.py3-none-any.whl (16 kB)\n",
            "Requirement already satisfied: entrypoints in /usr/local/lib/python3.7/dist-packages (from altair>=3.2.0->streamlit) (0.4)\n",
            "Requirement already satisfied: jinja2 in /usr/local/lib/python3.7/dist-packages (from altair>=3.2.0->streamlit) (2.11.3)\n",
            "Requirement already satisfied: toolz in /usr/local/lib/python3.7/dist-packages (from altair>=3.2.0->streamlit) (0.11.2)\n",
            "Requirement already satisfied: jsonschema>=3.0 in /usr/local/lib/python3.7/dist-packages (from altair>=3.2.0->streamlit) (4.3.3)\n",
            "Collecting gitdb<5,>=4.0.1\n",
            "  Using cached gitdb-4.0.9-py3-none-any.whl (63 kB)\n",
            "Collecting smmap<6,>=3.0.1\n",
            "  Using cached smmap-5.0.0-py3-none-any.whl (24 kB)\n",
            "Requirement already satisfied: zipp>=0.5 in /usr/local/lib/python3.7/dist-packages (from importlib-metadata>=1.4->streamlit) (3.7.0)\n",
            "Requirement already satisfied: importlib-resources>=1.4.0 in /usr/local/lib/python3.7/dist-packages (from jsonschema>=3.0->altair>=3.2.0->streamlit) (5.4.0)\n",
            "Requirement already satisfied: pyrsistent!=0.17.0,!=0.17.1,!=0.17.2,>=0.14.0 in /usr/local/lib/python3.7/dist-packages (from jsonschema>=3.0->altair>=3.2.0->streamlit) (0.18.1)\n",
            "Requirement already satisfied: pytz>=2017.3 in /usr/local/lib/python3.7/dist-packages (from pandas>=0.21.0->streamlit) (2018.9)\n",
            "Requirement already satisfied: six>=1.9 in /usr/local/lib/python3.7/dist-packages (from protobuf!=3.11,>=3.6.0->streamlit) (1.15.0)\n",
            "Requirement already satisfied: traitlets>=4.3.2 in /usr/local/lib/python3.7/dist-packages (from pydeck>=0.1.dev5->streamlit) (5.1.1)\n",
            "Requirement already satisfied: ipywidgets>=7.0.0 in /usr/local/lib/python3.7/dist-packages (from pydeck>=0.1.dev5->streamlit) (7.7.0)\n",
            "Collecting ipykernel>=5.1.2\n",
            "  Using cached ipykernel-6.13.0-py3-none-any.whl (131 kB)\n",
            "Requirement already satisfied: nest-asyncio in /usr/local/lib/python3.7/dist-packages (from ipykernel>=5.1.2->pydeck>=0.1.dev5->streamlit) (1.5.4)\n",
            "Collecting ipython>=7.23.1\n",
            "  Downloading ipython-7.32.0-py3-none-any.whl (793 kB)\n",
            "\u001b[K     |████████████████████████████████| 793 kB 5.1 MB/s \n",
            "\u001b[?25hRequirement already satisfied: debugpy>=1.0 in /usr/local/lib/python3.7/dist-packages (from ipykernel>=5.1.2->pydeck>=0.1.dev5->streamlit) (1.0.0)\n",
            "Collecting jupyter-client>=6.1.12\n",
            "  Downloading jupyter_client-7.2.2-py3-none-any.whl (130 kB)\n",
            "\u001b[K     |████████████████████████████████| 130 kB 34.7 MB/s \n",
            "\u001b[?25hRequirement already satisfied: psutil in /usr/local/lib/python3.7/dist-packages (from ipykernel>=5.1.2->pydeck>=0.1.dev5->streamlit) (5.4.8)\n",
            "Collecting tornado>=5.0\n",
            "  Downloading tornado-6.1-cp37-cp37m-manylinux2010_x86_64.whl (428 kB)\n",
            "\u001b[K     |████████████████████████████████| 428 kB 44.2 MB/s \n",
            "\u001b[?25hRequirement already satisfied: matplotlib-inline>=0.1 in /usr/local/lib/python3.7/dist-packages (from ipykernel>=5.1.2->pydeck>=0.1.dev5->streamlit) (0.1.3)\n",
            "Requirement already satisfied: backcall in /usr/local/lib/python3.7/dist-packages (from ipython>=7.23.1->ipykernel>=5.1.2->pydeck>=0.1.dev5->streamlit) (0.2.0)\n",
            "Requirement already satisfied: pickleshare in /usr/local/lib/python3.7/dist-packages (from ipython>=7.23.1->ipykernel>=5.1.2->pydeck>=0.1.dev5->streamlit) (0.7.5)\n",
            "Requirement already satisfied: jedi>=0.16 in /usr/local/lib/python3.7/dist-packages (from ipython>=7.23.1->ipykernel>=5.1.2->pydeck>=0.1.dev5->streamlit) (0.18.1)\n",
            "Requirement already satisfied: pygments in /usr/local/lib/python3.7/dist-packages (from ipython>=7.23.1->ipykernel>=5.1.2->pydeck>=0.1.dev5->streamlit) (2.6.1)\n",
            "Requirement already satisfied: pexpect>4.3 in /usr/local/lib/python3.7/dist-packages (from ipython>=7.23.1->ipykernel>=5.1.2->pydeck>=0.1.dev5->streamlit) (4.8.0)\n",
            "Requirement already satisfied: setuptools>=18.5 in /usr/local/lib/python3.7/dist-packages (from ipython>=7.23.1->ipykernel>=5.1.2->pydeck>=0.1.dev5->streamlit) (57.4.0)\n",
            "Requirement already satisfied: decorator in /usr/local/lib/python3.7/dist-packages (from ipython>=7.23.1->ipykernel>=5.1.2->pydeck>=0.1.dev5->streamlit) (4.4.2)\n",
            "Collecting prompt-toolkit!=3.0.0,!=3.0.1,<3.1.0,>=2.0.0\n",
            "  Downloading prompt_toolkit-3.0.29-py3-none-any.whl (381 kB)\n",
            "\u001b[K     |████████████████████████████████| 381 kB 62.9 MB/s \n",
            "\u001b[?25hRequirement already satisfied: nbformat>=4.2.0 in /usr/local/lib/python3.7/dist-packages (from ipywidgets>=7.0.0->pydeck>=0.1.dev5->streamlit) (5.2.0)\n",
            "Requirement already satisfied: jupyterlab-widgets>=1.0.0 in /usr/local/lib/python3.7/dist-packages (from ipywidgets>=7.0.0->pydeck>=0.1.dev5->streamlit) (1.1.0)\n",
            "Requirement already satisfied: ipython-genutils~=0.2.0 in /usr/local/lib/python3.7/dist-packages (from ipywidgets>=7.0.0->pydeck>=0.1.dev5->streamlit) (0.2.0)\n",
            "Requirement already satisfied: widgetsnbextension~=3.6.0 in /usr/local/lib/python3.7/dist-packages (from ipywidgets>=7.0.0->pydeck>=0.1.dev5->streamlit) (3.6.0)\n",
            "Requirement already satisfied: parso<0.9.0,>=0.8.0 in /usr/local/lib/python3.7/dist-packages (from jedi>=0.16->ipython>=7.23.1->ipykernel>=5.1.2->pydeck>=0.1.dev5->streamlit) (0.8.3)\n",
            "Requirement already satisfied: MarkupSafe>=0.23 in /usr/local/lib/python3.7/dist-packages (from jinja2->altair>=3.2.0->streamlit) (2.0.1)\n",
            "Requirement already satisfied: jupyter-core>=4.9.2 in /usr/local/lib/python3.7/dist-packages (from jupyter-client>=6.1.12->ipykernel>=5.1.2->pydeck>=0.1.dev5->streamlit) (4.9.2)\n",
            "Requirement already satisfied: pyzmq>=22.3 in /usr/local/lib/python3.7/dist-packages (from jupyter-client>=6.1.12->ipykernel>=5.1.2->pydeck>=0.1.dev5->streamlit) (22.3.0)\n",
            "Requirement already satisfied: ptyprocess>=0.5 in /usr/local/lib/python3.7/dist-packages (from pexpect>4.3->ipython>=7.23.1->ipykernel>=5.1.2->pydeck>=0.1.dev5->streamlit) (0.7.0)\n",
            "Requirement already satisfied: wcwidth in /usr/local/lib/python3.7/dist-packages (from prompt-toolkit!=3.0.0,!=3.0.1,<3.1.0,>=2.0.0->ipython>=7.23.1->ipykernel>=5.1.2->pydeck>=0.1.dev5->streamlit) (0.2.5)\n",
            "Requirement already satisfied: notebook>=4.4.1 in /usr/local/lib/python3.7/dist-packages (from widgetsnbextension~=3.6.0->ipywidgets>=7.0.0->pydeck>=0.1.dev5->streamlit) (5.3.1)\n",
            "Requirement already satisfied: Send2Trash in /usr/local/lib/python3.7/dist-packages (from notebook>=4.4.1->widgetsnbextension~=3.6.0->ipywidgets>=7.0.0->pydeck>=0.1.dev5->streamlit) (1.8.0)\n",
            "Requirement already satisfied: terminado>=0.8.1 in /usr/local/lib/python3.7/dist-packages (from notebook>=4.4.1->widgetsnbextension~=3.6.0->ipywidgets>=7.0.0->pydeck>=0.1.dev5->streamlit) (0.13.3)\n",
            "Requirement already satisfied: nbconvert in /usr/local/lib/python3.7/dist-packages (from notebook>=4.4.1->widgetsnbextension~=3.6.0->ipywidgets>=7.0.0->pydeck>=0.1.dev5->streamlit) (5.6.1)\n",
            "Requirement already satisfied: testpath in /usr/local/lib/python3.7/dist-packages (from nbconvert->notebook>=4.4.1->widgetsnbextension~=3.6.0->ipywidgets>=7.0.0->pydeck>=0.1.dev5->streamlit) (0.6.0)\n",
            "Requirement already satisfied: pandocfilters>=1.4.1 in /usr/local/lib/python3.7/dist-packages (from nbconvert->notebook>=4.4.1->widgetsnbextension~=3.6.0->ipywidgets>=7.0.0->pydeck>=0.1.dev5->streamlit) (1.5.0)\n",
            "Requirement already satisfied: mistune<2,>=0.8.1 in /usr/local/lib/python3.7/dist-packages (from nbconvert->notebook>=4.4.1->widgetsnbextension~=3.6.0->ipywidgets>=7.0.0->pydeck>=0.1.dev5->streamlit) (0.8.4)\n",
            "Requirement already satisfied: bleach in /usr/local/lib/python3.7/dist-packages (from nbconvert->notebook>=4.4.1->widgetsnbextension~=3.6.0->ipywidgets>=7.0.0->pydeck>=0.1.dev5->streamlit) (4.1.0)\n",
            "Requirement already satisfied: defusedxml in /usr/local/lib/python3.7/dist-packages (from nbconvert->notebook>=4.4.1->widgetsnbextension~=3.6.0->ipywidgets>=7.0.0->pydeck>=0.1.dev5->streamlit) (0.7.1)\n",
            "Requirement already satisfied: webencodings in /usr/local/lib/python3.7/dist-packages (from bleach->nbconvert->notebook>=4.4.1->widgetsnbextension~=3.6.0->ipywidgets>=7.0.0->pydeck>=0.1.dev5->streamlit) (0.5.1)\n",
            "Requirement already satisfied: pyparsing!=3.0.5,>=2.0.2 in /usr/local/lib/python3.7/dist-packages (from packaging->streamlit) (3.0.7)\n",
            "Requirement already satisfied: idna<3,>=2.5 in /usr/local/lib/python3.7/dist-packages (from requests->streamlit) (2.10)\n",
            "Requirement already satisfied: certifi>=2017.4.17 in /usr/local/lib/python3.7/dist-packages (from requests->streamlit) (2021.10.8)\n",
            "Requirement already satisfied: chardet<4,>=3.0.2 in /usr/local/lib/python3.7/dist-packages (from requests->streamlit) (3.0.4)\n",
            "Requirement already satisfied: urllib3!=1.25.0,!=1.25.1,<1.26,>=1.21.1 in /usr/local/lib/python3.7/dist-packages (from requests->streamlit) (1.24.3)\n",
            "Building wheels for collected packages: blinker\n",
            "  Building wheel for blinker (setup.py) ... \u001b[?25l\u001b[?25hdone\n",
            "  Created wheel for blinker: filename=blinker-1.4-py3-none-any.whl size=13478 sha256=8e3be2baffec6925ebf82d05701e4ab207f99e8cf287e9df30f1d5af14882670\n",
            "  Stored in directory: /root/.cache/pip/wheels/22/f5/18/df711b66eb25b21325c132757d4314db9ac5e8dabeaf196eab\n",
            "Successfully built blinker\n",
            "Installing collected packages: tornado, prompt-toolkit, jupyter-client, ipython, ipykernel, smmap, gitdb, watchdog, validators, toml, pympler, pydeck, gitpython, blinker, streamlit\n",
            "  Attempting uninstall: tornado\n",
            "    Found existing installation: tornado 5.1.1\n",
            "    Uninstalling tornado-5.1.1:\n",
            "      Successfully uninstalled tornado-5.1.1\n",
            "  Attempting uninstall: prompt-toolkit\n",
            "    Found existing installation: prompt-toolkit 1.0.18\n",
            "    Uninstalling prompt-toolkit-1.0.18:\n",
            "      Successfully uninstalled prompt-toolkit-1.0.18\n",
            "  Attempting uninstall: jupyter-client\n",
            "    Found existing installation: jupyter-client 5.3.5\n",
            "    Uninstalling jupyter-client-5.3.5:\n",
            "      Successfully uninstalled jupyter-client-5.3.5\n",
            "  Attempting uninstall: ipython\n",
            "    Found existing installation: ipython 5.5.0\n",
            "    Uninstalling ipython-5.5.0:\n",
            "      Successfully uninstalled ipython-5.5.0\n",
            "  Attempting uninstall: ipykernel\n",
            "    Found existing installation: ipykernel 4.10.1\n",
            "    Uninstalling ipykernel-4.10.1:\n",
            "      Successfully uninstalled ipykernel-4.10.1\n",
            "\u001b[31mERROR: pip's dependency resolver does not currently take into account all the packages that are installed. This behaviour is the source of the following dependency conflicts.\n",
            "jupyter-console 5.2.0 requires prompt-toolkit<2.0.0,>=1.0.0, but you have prompt-toolkit 3.0.29 which is incompatible.\n",
            "google-colab 1.0.0 requires ipykernel~=4.10, but you have ipykernel 6.13.0 which is incompatible.\n",
            "google-colab 1.0.0 requires ipython~=5.5.0, but you have ipython 7.32.0 which is incompatible.\n",
            "google-colab 1.0.0 requires tornado~=5.1.0; python_version >= \"3.0\", but you have tornado 6.1 which is incompatible.\u001b[0m\n",
            "Successfully installed blinker-1.4 gitdb-4.0.9 gitpython-3.1.27 ipykernel-6.13.0 ipython-7.32.0 jupyter-client-7.2.2 prompt-toolkit-3.0.29 pydeck-0.7.1 pympler-1.0.1 smmap-5.0.0 streamlit-1.8.1 toml-0.10.2 tornado-6.1 validators-0.18.2 watchdog-2.1.7\n"
          ]
        },
        {
          "data": {
            "application/vnd.colab-display-data+json": {
              "pip_warning": {
                "packages": [
                  "IPython",
                  "ipykernel",
                  "jupyter_client",
                  "prompt_toolkit",
                  "tornado"
                ]
              }
            }
          },
          "metadata": {},
          "output_type": "display_data"
        }
      ],
      "source": [
        "!pip install streamlit"
      ]
    },
    {
      "cell_type": "code",
      "execution_count": null,
      "metadata": {
        "colab": {
          "base_uri": "https://localhost:8080/"
        },
        "id": "oXT99qKCjJgk",
        "outputId": "ef621d7c-d3af-4727-fb20-4b40831e75e1"
      },
      "outputs": [
        {
          "name": "stdout",
          "output_type": "stream",
          "text": [
            "Healty\n"
          ]
        }
      ],
      "source": [
        "import cv2\n",
        "import tensorflow as tf\n",
        "def detect(img):\n",
        "  model=tf.keras.models.load_model('/content/beesHealth.hdf5')\n",
        "  pimage = cv2.imread(img)\n",
        "  pimage = cv2.cvtColor(pimage, cv2.COLOR_BGR2RGB)\n",
        "  pimage = cv2.resize(pimage, (224, 224))\n",
        "  pimgdata = np.array(pimage) / 255.0\n",
        "  image_batch = np.expand_dims(pimgdata,axis=0)\n",
        "  pred_new= model.predict(image_batch)\n",
        "  if pred_new[0][0]>0.5:\n",
        "    print('Healty')\n",
        "  else:\n",
        "    print('Unhealthy')\n",
        "\n",
        "detect('/content/001_043.png')"
      ]
    },
    {
      "cell_type": "code",
      "execution_count": null,
      "metadata": {
        "colab": {
          "base_uri": "https://localhost:8080/"
        },
        "id": "SI3XTl8J73M6",
        "outputId": "3f031a0b-cabc-427c-c07f-2dc92e9d519d"
      },
      "outputs": [
        {
          "data": {
            "text/plain": [
              "array(['-1', 'Italian', 'VSH_Italian', 'Carniolan', 'Russian',\n",
              "       '1_Mixed_local_stock_2', 'Western'], dtype=object)"
            ]
          },
          "execution_count": 57,
          "metadata": {},
          "output_type": "execute_result"
        }
      ],
      "source": [
        "bees['subspecies'].unique()"
      ]
    },
    {
      "cell_type": "code",
      "execution_count": null,
      "metadata": {
        "colab": {
          "base_uri": "https://localhost:8080/",
          "height": 70
        },
        "id": "Bt6PkZlVyjK9",
        "outputId": "fcebf55b-ad30-4e4f-e734-a19bc9651179"
      },
      "outputs": [
        {
          "name": "stdout",
          "output_type": "stream",
          "text": [
            "[[6.8444543e-02 5.1304596e-07 1.8587382e-08 2.8364766e-02 5.0985318e-07\n",
            "  9.0318888e-01 7.8827497e-07]]\n"
          ]
        },
        {
          "data": {
            "application/vnd.google.colaboratory.intrinsic+json": {
              "type": "string"
            },
            "text/plain": [
              "'a 1 mixed local stock 2'"
            ]
          },
          "execution_count": 58,
          "metadata": {},
          "output_type": "execute_result"
        }
      ],
      "source": [
        "import cv2\n",
        "import tensorflow as tf\n",
        "def detect(img):\n",
        "  model=tf.keras.models.load_model('/content/subSubspecies.hdf5')\n",
        "  pimage = cv2.imread(img)\n",
        "  pimage = cv2.cvtColor(pimage, cv2.COLOR_BGR2RGB)\n",
        "  pimage = cv2.resize(pimage, (224, 224))\n",
        "  pimgdata = np.array(pimage) / 255.0\n",
        "  image_batch = np.expand_dims(pimgdata,axis=0)\n",
        "  pred_new= model.predict(image_batch)\n",
        "  print(pred_new)\n",
        "  for i in range(len(pred_new[0])):\n",
        "    if pred_new[0][i] == max(pred_new[0]):\n",
        "      if i==0: return 'an unknown'\n",
        "      elif i==1: return 'an Italian'\n",
        "      elif i==2: return 'a VSH_Italian'\n",
        "      elif i==3: return 'a Carniolan'\n",
        "      elif i==4: return 'a Russian'\n",
        "      elif i==5: return 'a 1 mixed local stock 2'\n",
        "      else: return 'a Western'\n",
        "\n",
        "detect('/content/001_043.png')"
      ]
    },
    {
      "cell_type": "code",
      "execution_count": null,
      "metadata": {
        "colab": {
          "base_uri": "https://localhost:8080/",
          "height": 53
        },
        "id": "pPxwvs-q9II-",
        "outputId": "9d665501-127d-41a2-a9f8-f701b862eb17"
      },
      "outputs": [
        {
          "name": "stdout",
          "output_type": "stream",
          "text": [
            "[[1.0000000e+00 1.1986133e-12]]\n"
          ]
        },
        {
          "data": {
            "application/vnd.google.colaboratory.intrinsic+json": {
              "type": "string"
            },
            "text/plain": [
              "'Pollen Carrying'"
            ]
          },
          "execution_count": 45,
          "metadata": {},
          "output_type": "execute_result"
        }
      ],
      "source": [
        "import cv2\n",
        "import tensorflow as tf\n",
        "def detect(img):\n",
        "  model=tf.keras.models.load_model('/content/pollenCarrying.hdf5')\n",
        "  pimage = cv2.imread(img)\n",
        "  pimage = cv2.cvtColor(pimage, cv2.COLOR_BGR2RGB)\n",
        "  pimage = cv2.resize(pimage, (224, 224))\n",
        "  pimgdata = np.array(pimage) / 255.0\n",
        "  image_batch = np.expand_dims(pimgdata,axis=0)\n",
        "  pred_new= model.predict(image_batch)\n",
        "  print(pred_new)\n",
        "  if pred_new[0][0] > pred_new[0][1]: return 'Pollen Carrying'\n",
        "  else: return 'Non-Pollen Carrying'\n",
        "\n",
        "detect('/content/001_043.png')"
      ]
    },
    {
      "cell_type": "code",
      "execution_count": null,
      "metadata": {
        "colab": {
          "base_uri": "https://localhost:8080/"
        },
        "id": "3PlbGD9GuY-c",
        "outputId": "f1ea8ecf-2ff0-4c97-e86d-cb45dae62bbf"
      },
      "outputs": [
        {
          "name": "stdout",
          "output_type": "stream",
          "text": [
            "Overwriting app.py\n"
          ]
        }
      ],
      "source": [
        "%%writefile app.py\n",
        "import streamlit as st\n",
        "import tensorflow as tf\n",
        "\n",
        "\n",
        "\n",
        "@st.cache(allow_output_mutation=True)\n",
        "def load_model():\n",
        "  model=tf.keras.models.load_model('/content/beesHealth.hdf5')\n",
        "  return model\n",
        "with st.spinner('Model is being loaded..'):\n",
        "  model=load_model()\n",
        "\n",
        "st.write(\"\"\"\n",
        "         # Bees Health Prediction\n",
        "         \"\"\"\n",
        "         )\n",
        "\n",
        "file = st.file_uploader(\"Please upload an image\", type=[\"jpg\", \"png\"])\n",
        "import cv2\n",
        "from PIL import Image, ImageOps\n",
        "import numpy as np\n",
        "st.set_option('deprecation.showfileUploaderEncoding', False)\n",
        "\n",
        "def healthPredict(img):\n",
        "  model=tf.keras.models.load_model('/content/beesHealth.hdf5')\n",
        "  pimage = cv2.imread(img)\n",
        "  pimage = cv2.cvtColor(pimage, cv2.COLOR_BGR2RGB)\n",
        "  pimage = cv2.resize(pimage, (224, 224))\n",
        "  pimgdata = np.array(pimage) / 255.0\n",
        "  image_batch = np.expand_dims(pimgdata,axis=0)\n",
        "  pred_new= model.predict(image_batch)\n",
        "  if pred_new[0][0]>0.5:\n",
        "    return 'Healty'\n",
        "  else:\n",
        "    return 'Unhealthy'\n",
        "\n",
        "def pollenCarrying(img):\n",
        "  model=tf.keras.models.load_model('/content/pollenCarrying.hdf5')\n",
        "  pimage = cv2.imread(img)\n",
        "  pimage = cv2.cvtColor(pimage, cv2.COLOR_BGR2RGB)\n",
        "  pimage = cv2.resize(pimage, (224, 224))\n",
        "  pimgdata = np.array(pimage) / 255.0\n",
        "  image_batch = np.expand_dims(pimgdata,axis=0)\n",
        "  pred_new= model.predict(image_batch)\n",
        "  if pred_new[0][0] > pred_new[0][1]: return 'Pollen Carrying'\n",
        "  else: return 'Non-Pollen Carrying'\n",
        "  \n",
        "def subspecies(img):\n",
        "  model=tf.keras.models.load_model('/content/beesHealth.hdf5')\n",
        "  pimage = cv2.imread(img)\n",
        "  pimage = cv2.cvtColor(pimage, cv2.COLOR_BGR2RGB)\n",
        "  pimage = cv2.resize(pimage, (224, 224))\n",
        "  pimgdata = np.array(pimage) / 255.0\n",
        "  image_batch = np.expand_dims(pimgdata,axis=0)\n",
        "  pred_new= model.predict(image_batch)\n",
        "  for i in range(len(pred_new[0])):\n",
        "    if pred_new[0][i] == max(pred_new[0]):\n",
        "      if i==0: return 'an unknown'\n",
        "      elif i==1: return 'an Italian'\n",
        "      elif i==2: return 'a VSH_Italian'\n",
        "      elif i==3: return 'a Carniolan'\n",
        "      elif i==4: return 'a Russian'\n",
        "      elif i==5: return 'a 1 mixed local stock 2'\n",
        "      else: return 'a Western'\n",
        "\n",
        "if file is None:\n",
        "    st.text(\"Please upload an image file\")\n",
        "else:\n",
        "    image = Image.open(file)\n",
        "    st.image(image, use_column_width=True)\n",
        "    img = '/content/001_043.png'\n",
        "    model1=tf.keras.models.load_model('/content/beesHealth.hdf5')\n",
        "    pred1= healthPredict(img)\n",
        "    pred2 = pollenCarrying(img)\n",
        "    pred3 = subspecies(img)\n",
        "    #st.write(\"The bee in this images is {}\".format(pred1))\n",
        "    #st.write('<style>{}</style>'.format(pred1)), unsafe_allow_html=True)\n",
        "\n",
        "    st.success('The Apis Mallifera bee in this images is a {} {} bee of {} subspecies.'.format(pred1, pred2, pred3))\n"
      ]
    },
    {
      "cell_type": "code",
      "execution_count": null,
      "metadata": {
        "colab": {
          "background_save": true,
          "base_uri": "https://localhost:8080/"
        },
        "id": "6mY1YiKaeSEe",
        "outputId": "06251cc5-1e0e-48f6-966d-794418812785"
      },
      "outputs": [
        {
          "name": "stdout",
          "output_type": "stream",
          "text": [
            "2022-04-11 14:01:36.414 INFO    numexpr.utils: NumExpr defaulting to 2 threads.\n",
            "\u001b[K\u001b[?25hnpx: installed 22 in 3.02s\n",
            "\u001b[0m\n",
            "\u001b[34m\u001b[1m  You can now view your Streamlit app in your browser.\u001b[0m\n",
            "\u001b[0m\n",
            "\u001b[34m  Network URL: \u001b[0m\u001b[1mhttp://172.28.0.2:8501\u001b[0m\n",
            "\u001b[34m  External URL: \u001b[0m\u001b[1mhttp://34.74.207.163:8501\u001b[0m\n",
            "\u001b[0m\n",
            "your url is: https://neat-frog-7.loca.lt\n",
            "2022-04-11 14:01:54.286975: E tensorflow/stream_executor/cuda/cuda_driver.cc:271] failed call to cuInit: CUDA_ERROR_NO_DEVICE: no CUDA-capable device is detected\n"
          ]
        }
      ],
      "source": [
        "!streamlit run app.py & npx localtunnel --port 8501"
      ]
    }
  ],
  "metadata": {
    "accelerator": "GPU",
    "colab": {
      "collapsed_sections": [
        "n9h_4z26BuOt",
        "UR5oicXWIjwF",
        "jQmnecJnNhH0",
        "BqvKcD5bAKYX"
      ],
      "name": "HT128 - Curbing the decline of wild and managed bees.ipynb",
      "provenance": [],
      "toc_visible": true
    },
    "kernelspec": {
      "display_name": "Python 3",
      "name": "python3"
    },
    "language_info": {
      "name": "python"
    }
  },
  "nbformat": 4,
  "nbformat_minor": 0
}